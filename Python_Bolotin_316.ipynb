{
  "nbformat": 4,
  "nbformat_minor": 0,
  "metadata": {
    "colab": {
      "provenance": [],
      "collapsed_sections": [
        "sQyBs3KpA-TE",
        "Jo48T-N8BDm4",
        "PayALHEJKAUU",
        "86oLfKGjT4h5",
        "9yYrDb9KZBJe",
        "Hn7E5GbZf7KP",
        "yna6M3h2o6EH",
        "AHVpcNsOrQro",
        "1bWj36mA1unI",
        "PdvT4MIr4bHT",
        "PhOrcfsk_PPT",
        "9djz24wXCN2s",
        "Y4O_tlnCWf3j"
      ],
      "toc_visible": true
    },
    "kernelspec": {
      "name": "python3",
      "display_name": "Python 3"
    },
    "language_info": {
      "name": "python"
    }
  },
  "cells": [
    {
      "cell_type": "code",
      "source": [
        "!pip install outlier_utils\n",
        "!pip install cmh\n",
        "!pip install neulab"
      ],
      "metadata": {
        "colab": {
          "base_uri": "https://localhost:8080/"
        },
        "id": "tq2GQDclO0kU",
        "outputId": "417570eb-8739-4483-8e8e-15b25b1462a8"
      },
      "execution_count": 2,
      "outputs": [
        {
          "output_type": "stream",
          "name": "stdout",
          "text": [
            "Looking in indexes: https://pypi.org/simple, https://us-python.pkg.dev/colab-wheels/public/simple/\n",
            "Collecting outlier_utils\n",
            "  Downloading outlier_utils-0.0.3-py3-none-any.whl (6.0 kB)\n",
            "Installing collected packages: outlier-utils\n",
            "Successfully installed outlier-utils-0.0.3\n",
            "Looking in indexes: https://pypi.org/simple, https://us-python.pkg.dev/colab-wheels/public/simple/\n",
            "Collecting cmh\n",
            "  Downloading CMH-1.0.1-py3-none-any.whl (6.1 kB)\n",
            "Requirement already satisfied: numpy>=1.18 in /usr/local/lib/python3.7/dist-packages (from cmh) (1.21.6)\n",
            "Requirement already satisfied: pandas>=1 in /usr/local/lib/python3.7/dist-packages (from cmh) (1.3.5)\n",
            "Requirement already satisfied: scikit-learn in /usr/local/lib/python3.7/dist-packages (from cmh) (1.0.2)\n",
            "Requirement already satisfied: pytz>=2017.3 in /usr/local/lib/python3.7/dist-packages (from pandas>=1->cmh) (2022.6)\n",
            "Requirement already satisfied: python-dateutil>=2.7.3 in /usr/local/lib/python3.7/dist-packages (from pandas>=1->cmh) (2.8.2)\n",
            "Requirement already satisfied: six>=1.5 in /usr/local/lib/python3.7/dist-packages (from python-dateutil>=2.7.3->pandas>=1->cmh) (1.15.0)\n",
            "Requirement already satisfied: joblib>=0.11 in /usr/local/lib/python3.7/dist-packages (from scikit-learn->cmh) (1.2.0)\n",
            "Requirement already satisfied: threadpoolctl>=2.0.0 in /usr/local/lib/python3.7/dist-packages (from scikit-learn->cmh) (3.1.0)\n",
            "Requirement already satisfied: scipy>=1.1.0 in /usr/local/lib/python3.7/dist-packages (from scikit-learn->cmh) (1.7.3)\n",
            "Installing collected packages: cmh\n",
            "Successfully installed cmh-1.0.1\n",
            "Looking in indexes: https://pypi.org/simple, https://us-python.pkg.dev/colab-wheels/public/simple/\n",
            "Collecting neulab\n",
            "  Downloading neulab-0.0.23-py3-none-any.whl (13 kB)\n",
            "Requirement already satisfied: matplotlib in /usr/local/lib/python3.7/dist-packages (from neulab) (3.2.2)\n",
            "Requirement already satisfied: numpy in /usr/local/lib/python3.7/dist-packages (from neulab) (1.21.6)\n",
            "Requirement already satisfied: networkx in /usr/local/lib/python3.7/dist-packages (from neulab) (2.6.3)\n",
            "Requirement already satisfied: scipy in /usr/local/lib/python3.7/dist-packages (from neulab) (1.7.3)\n",
            "Requirement already satisfied: pandas in /usr/local/lib/python3.7/dist-packages (from neulab) (1.3.5)\n",
            "Requirement already satisfied: python-dateutil>=2.1 in /usr/local/lib/python3.7/dist-packages (from matplotlib->neulab) (2.8.2)\n",
            "Requirement already satisfied: pyparsing!=2.0.4,!=2.1.2,!=2.1.6,>=2.0.1 in /usr/local/lib/python3.7/dist-packages (from matplotlib->neulab) (3.0.9)\n",
            "Requirement already satisfied: kiwisolver>=1.0.1 in /usr/local/lib/python3.7/dist-packages (from matplotlib->neulab) (1.4.4)\n",
            "Requirement already satisfied: cycler>=0.10 in /usr/local/lib/python3.7/dist-packages (from matplotlib->neulab) (0.11.0)\n",
            "Requirement already satisfied: typing-extensions in /usr/local/lib/python3.7/dist-packages (from kiwisolver>=1.0.1->matplotlib->neulab) (4.1.1)\n",
            "Requirement already satisfied: six>=1.5 in /usr/local/lib/python3.7/dist-packages (from python-dateutil>=2.1->matplotlib->neulab) (1.15.0)\n",
            "Requirement already satisfied: pytz>=2017.3 in /usr/local/lib/python3.7/dist-packages (from pandas->neulab) (2022.6)\n",
            "Installing collected packages: neulab\n",
            "Successfully installed neulab-0.0.23\n"
          ]
        }
      ]
    },
    {
      "cell_type": "code",
      "execution_count": 3,
      "metadata": {
        "id": "hvmcukGL_CAN"
      },
      "outputs": [],
      "source": [
        "import numpy as np\n",
        "import pandas as pd\n",
        "\n",
        "import matplotlib.pyplot as plt\n",
        "import seaborn as sns\n",
        "\n",
        "from scipy import stats\n",
        "from statsmodels.stats.outliers_influence import variance_inflation_factor\n",
        "from statsmodels.nonparametric.kde import KDEUnivariate\n",
        "from sklearn.preprocessing import PolynomialFeatures\n",
        "from sklearn.metrics import mean_squared_error\n",
        "from scipy.stats import gaussian_kde, norm, mode, ttest_ind\n",
        "from scipy.stats import kstest, shapiro, anderson, cramervonmises\n",
        "from statsmodels.stats.diagnostic import lilliefors\n",
        "from statsmodels.stats.contingency_tables import mcnemar\n",
        "from cmh import CMH\n",
        "from outliers import smirnov_grubbs as grubbs\n",
        "from neulab.OutlierDetection import DixonTest\n",
        "from sklearn.linear_model import LinearRegression\n",
        "from sklearn.model_selection import train_test_split\n",
        "from patsy import dmatrices\n",
        "from scipy import stats as sps"
      ]
    },
    {
      "cell_type": "markdown",
      "source": [
        "**В качестве датасета мною был выбран датасет статистики 20000+ игроков в Left 4 Dead 2**"
      ],
      "metadata": {
        "id": "8HdnjtZUffIQ"
      }
    },
    {
      "cell_type": "code",
      "source": [
        "data = pd.read_csv('l4d2_player_stats_final.csv')\n",
        "data.head()\n",
        "\n"
      ],
      "metadata": {
        "colab": {
          "base_uri": "https://localhost:8080/",
          "height": 299
        },
        "id": "Hi80chiE_yd1",
        "outputId": "0a28e0f0-12a7-465e-83ce-1d1127285d51"
      },
      "execution_count": 5,
      "outputs": [
        {
          "output_type": "execute_result",
          "data": {
            "text/plain": [
              "   Username  Playtime_(Hours)  Pistol_Shots  Pistol_Kills  Pistol_Usage  \\\n",
              "0         0       2433.577222       94665.0       10470.0          2.77   \n",
              "1         1        121.879444        9136.0        1371.0          1.47   \n",
              "2         2         69.955278        4100.0         693.0          4.87   \n",
              "3         3         48.421667        7369.0        1208.0          5.99   \n",
              "4         4        307.639722       51944.0        9481.0          8.93   \n",
              "\n",
              "   Magnum_Shots  Magnum_Kills  Magnum_Usage  Uzi_Shots  Uzi_Kills  ...  \\\n",
              "0      121222.0       27056.0          7.16    44666.0     5165.0  ...   \n",
              "1       14928.0        6802.0          7.30      997.0      187.0  ...   \n",
              "2         222.0         133.0          0.93     2834.0      271.0  ...   \n",
              "3         784.0         250.0          1.24     3322.0      496.0  ...   \n",
              "4       20545.0        6813.0          6.42    38224.0     5493.0  ...   \n",
              "\n",
              "   Knife_Usage  Molotovs_Thrown  Molotov_Kills  Pipe_Bombs_Thrown  \\\n",
              "0         0.47          11166.0        99278.0             5817.0   \n",
              "1         0.03            788.0        10141.0              977.0   \n",
              "2         0.00             23.0          130.0              445.0   \n",
              "3         0.00            135.0         1090.0              105.0   \n",
              "4         0.00            613.0         4797.0              515.0   \n",
              "\n",
              "   Pipe_Bomb_Kills  Bile_Jars_Thrown  Bile_Jar_Hits  Most_Friendly_Fire  \\\n",
              "0          23433.0            5802.0        12863.0             13653.0   \n",
              "1           6962.0             519.0         1557.0              1914.0   \n",
              "2           1202.0              44.0           83.0              3195.0   \n",
              "3            716.0              48.0           75.0              1412.0   \n",
              "4           4195.0             272.0          424.0             10851.0   \n",
              "\n",
              "   Difficulty  Average_Friendly_Fire  \n",
              "0      Normal                  142.0  \n",
              "1      Expert                   89.0  \n",
              "2      Expert                   58.0  \n",
              "3      Expert                   76.0  \n",
              "4      Expert                  112.0  \n",
              "\n",
              "[5 rows x 113 columns]"
            ],
            "text/html": [
              "\n",
              "  <div id=\"df-59707c37-a79f-47e6-957e-a31397ffe5d0\">\n",
              "    <div class=\"colab-df-container\">\n",
              "      <div>\n",
              "<style scoped>\n",
              "    .dataframe tbody tr th:only-of-type {\n",
              "        vertical-align: middle;\n",
              "    }\n",
              "\n",
              "    .dataframe tbody tr th {\n",
              "        vertical-align: top;\n",
              "    }\n",
              "\n",
              "    .dataframe thead th {\n",
              "        text-align: right;\n",
              "    }\n",
              "</style>\n",
              "<table border=\"1\" class=\"dataframe\">\n",
              "  <thead>\n",
              "    <tr style=\"text-align: right;\">\n",
              "      <th></th>\n",
              "      <th>Username</th>\n",
              "      <th>Playtime_(Hours)</th>\n",
              "      <th>Pistol_Shots</th>\n",
              "      <th>Pistol_Kills</th>\n",
              "      <th>Pistol_Usage</th>\n",
              "      <th>Magnum_Shots</th>\n",
              "      <th>Magnum_Kills</th>\n",
              "      <th>Magnum_Usage</th>\n",
              "      <th>Uzi_Shots</th>\n",
              "      <th>Uzi_Kills</th>\n",
              "      <th>...</th>\n",
              "      <th>Knife_Usage</th>\n",
              "      <th>Molotovs_Thrown</th>\n",
              "      <th>Molotov_Kills</th>\n",
              "      <th>Pipe_Bombs_Thrown</th>\n",
              "      <th>Pipe_Bomb_Kills</th>\n",
              "      <th>Bile_Jars_Thrown</th>\n",
              "      <th>Bile_Jar_Hits</th>\n",
              "      <th>Most_Friendly_Fire</th>\n",
              "      <th>Difficulty</th>\n",
              "      <th>Average_Friendly_Fire</th>\n",
              "    </tr>\n",
              "  </thead>\n",
              "  <tbody>\n",
              "    <tr>\n",
              "      <th>0</th>\n",
              "      <td>0</td>\n",
              "      <td>2433.577222</td>\n",
              "      <td>94665.0</td>\n",
              "      <td>10470.0</td>\n",
              "      <td>2.77</td>\n",
              "      <td>121222.0</td>\n",
              "      <td>27056.0</td>\n",
              "      <td>7.16</td>\n",
              "      <td>44666.0</td>\n",
              "      <td>5165.0</td>\n",
              "      <td>...</td>\n",
              "      <td>0.47</td>\n",
              "      <td>11166.0</td>\n",
              "      <td>99278.0</td>\n",
              "      <td>5817.0</td>\n",
              "      <td>23433.0</td>\n",
              "      <td>5802.0</td>\n",
              "      <td>12863.0</td>\n",
              "      <td>13653.0</td>\n",
              "      <td>Normal</td>\n",
              "      <td>142.0</td>\n",
              "    </tr>\n",
              "    <tr>\n",
              "      <th>1</th>\n",
              "      <td>1</td>\n",
              "      <td>121.879444</td>\n",
              "      <td>9136.0</td>\n",
              "      <td>1371.0</td>\n",
              "      <td>1.47</td>\n",
              "      <td>14928.0</td>\n",
              "      <td>6802.0</td>\n",
              "      <td>7.30</td>\n",
              "      <td>997.0</td>\n",
              "      <td>187.0</td>\n",
              "      <td>...</td>\n",
              "      <td>0.03</td>\n",
              "      <td>788.0</td>\n",
              "      <td>10141.0</td>\n",
              "      <td>977.0</td>\n",
              "      <td>6962.0</td>\n",
              "      <td>519.0</td>\n",
              "      <td>1557.0</td>\n",
              "      <td>1914.0</td>\n",
              "      <td>Expert</td>\n",
              "      <td>89.0</td>\n",
              "    </tr>\n",
              "    <tr>\n",
              "      <th>2</th>\n",
              "      <td>2</td>\n",
              "      <td>69.955278</td>\n",
              "      <td>4100.0</td>\n",
              "      <td>693.0</td>\n",
              "      <td>4.87</td>\n",
              "      <td>222.0</td>\n",
              "      <td>133.0</td>\n",
              "      <td>0.93</td>\n",
              "      <td>2834.0</td>\n",
              "      <td>271.0</td>\n",
              "      <td>...</td>\n",
              "      <td>0.00</td>\n",
              "      <td>23.0</td>\n",
              "      <td>130.0</td>\n",
              "      <td>445.0</td>\n",
              "      <td>1202.0</td>\n",
              "      <td>44.0</td>\n",
              "      <td>83.0</td>\n",
              "      <td>3195.0</td>\n",
              "      <td>Expert</td>\n",
              "      <td>58.0</td>\n",
              "    </tr>\n",
              "    <tr>\n",
              "      <th>3</th>\n",
              "      <td>3</td>\n",
              "      <td>48.421667</td>\n",
              "      <td>7369.0</td>\n",
              "      <td>1208.0</td>\n",
              "      <td>5.99</td>\n",
              "      <td>784.0</td>\n",
              "      <td>250.0</td>\n",
              "      <td>1.24</td>\n",
              "      <td>3322.0</td>\n",
              "      <td>496.0</td>\n",
              "      <td>...</td>\n",
              "      <td>0.00</td>\n",
              "      <td>135.0</td>\n",
              "      <td>1090.0</td>\n",
              "      <td>105.0</td>\n",
              "      <td>716.0</td>\n",
              "      <td>48.0</td>\n",
              "      <td>75.0</td>\n",
              "      <td>1412.0</td>\n",
              "      <td>Expert</td>\n",
              "      <td>76.0</td>\n",
              "    </tr>\n",
              "    <tr>\n",
              "      <th>4</th>\n",
              "      <td>4</td>\n",
              "      <td>307.639722</td>\n",
              "      <td>51944.0</td>\n",
              "      <td>9481.0</td>\n",
              "      <td>8.93</td>\n",
              "      <td>20545.0</td>\n",
              "      <td>6813.0</td>\n",
              "      <td>6.42</td>\n",
              "      <td>38224.0</td>\n",
              "      <td>5493.0</td>\n",
              "      <td>...</td>\n",
              "      <td>0.00</td>\n",
              "      <td>613.0</td>\n",
              "      <td>4797.0</td>\n",
              "      <td>515.0</td>\n",
              "      <td>4195.0</td>\n",
              "      <td>272.0</td>\n",
              "      <td>424.0</td>\n",
              "      <td>10851.0</td>\n",
              "      <td>Expert</td>\n",
              "      <td>112.0</td>\n",
              "    </tr>\n",
              "  </tbody>\n",
              "</table>\n",
              "<p>5 rows × 113 columns</p>\n",
              "</div>\n",
              "      <button class=\"colab-df-convert\" onclick=\"convertToInteractive('df-59707c37-a79f-47e6-957e-a31397ffe5d0')\"\n",
              "              title=\"Convert this dataframe to an interactive table.\"\n",
              "              style=\"display:none;\">\n",
              "        \n",
              "  <svg xmlns=\"http://www.w3.org/2000/svg\" height=\"24px\"viewBox=\"0 0 24 24\"\n",
              "       width=\"24px\">\n",
              "    <path d=\"M0 0h24v24H0V0z\" fill=\"none\"/>\n",
              "    <path d=\"M18.56 5.44l.94 2.06.94-2.06 2.06-.94-2.06-.94-.94-2.06-.94 2.06-2.06.94zm-11 1L8.5 8.5l.94-2.06 2.06-.94-2.06-.94L8.5 2.5l-.94 2.06-2.06.94zm10 10l.94 2.06.94-2.06 2.06-.94-2.06-.94-.94-2.06-.94 2.06-2.06.94z\"/><path d=\"M17.41 7.96l-1.37-1.37c-.4-.4-.92-.59-1.43-.59-.52 0-1.04.2-1.43.59L10.3 9.45l-7.72 7.72c-.78.78-.78 2.05 0 2.83L4 21.41c.39.39.9.59 1.41.59.51 0 1.02-.2 1.41-.59l7.78-7.78 2.81-2.81c.8-.78.8-2.07 0-2.86zM5.41 20L4 18.59l7.72-7.72 1.47 1.35L5.41 20z\"/>\n",
              "  </svg>\n",
              "      </button>\n",
              "      \n",
              "  <style>\n",
              "    .colab-df-container {\n",
              "      display:flex;\n",
              "      flex-wrap:wrap;\n",
              "      gap: 12px;\n",
              "    }\n",
              "\n",
              "    .colab-df-convert {\n",
              "      background-color: #E8F0FE;\n",
              "      border: none;\n",
              "      border-radius: 50%;\n",
              "      cursor: pointer;\n",
              "      display: none;\n",
              "      fill: #1967D2;\n",
              "      height: 32px;\n",
              "      padding: 0 0 0 0;\n",
              "      width: 32px;\n",
              "    }\n",
              "\n",
              "    .colab-df-convert:hover {\n",
              "      background-color: #E2EBFA;\n",
              "      box-shadow: 0px 1px 2px rgba(60, 64, 67, 0.3), 0px 1px 3px 1px rgba(60, 64, 67, 0.15);\n",
              "      fill: #174EA6;\n",
              "    }\n",
              "\n",
              "    [theme=dark] .colab-df-convert {\n",
              "      background-color: #3B4455;\n",
              "      fill: #D2E3FC;\n",
              "    }\n",
              "\n",
              "    [theme=dark] .colab-df-convert:hover {\n",
              "      background-color: #434B5C;\n",
              "      box-shadow: 0px 1px 3px 1px rgba(0, 0, 0, 0.15);\n",
              "      filter: drop-shadow(0px 1px 2px rgba(0, 0, 0, 0.3));\n",
              "      fill: #FFFFFF;\n",
              "    }\n",
              "  </style>\n",
              "\n",
              "      <script>\n",
              "        const buttonEl =\n",
              "          document.querySelector('#df-59707c37-a79f-47e6-957e-a31397ffe5d0 button.colab-df-convert');\n",
              "        buttonEl.style.display =\n",
              "          google.colab.kernel.accessAllowed ? 'block' : 'none';\n",
              "\n",
              "        async function convertToInteractive(key) {\n",
              "          const element = document.querySelector('#df-59707c37-a79f-47e6-957e-a31397ffe5d0');\n",
              "          const dataTable =\n",
              "            await google.colab.kernel.invokeFunction('convertToInteractive',\n",
              "                                                     [key], {});\n",
              "          if (!dataTable) return;\n",
              "\n",
              "          const docLinkHtml = 'Like what you see? Visit the ' +\n",
              "            '<a target=\"_blank\" href=https://colab.research.google.com/notebooks/data_table.ipynb>data table notebook</a>'\n",
              "            + ' to learn more about interactive tables.';\n",
              "          element.innerHTML = '';\n",
              "          dataTable['output_type'] = 'display_data';\n",
              "          await google.colab.output.renderOutput(dataTable, element);\n",
              "          const docLink = document.createElement('div');\n",
              "          docLink.innerHTML = docLinkHtml;\n",
              "          element.appendChild(docLink);\n",
              "        }\n",
              "      </script>\n",
              "    </div>\n",
              "  </div>\n",
              "  "
            ]
          },
          "metadata": {},
          "execution_count": 5
        }
      ]
    },
    {
      "cell_type": "code",
      "source": [
        "data.info()"
      ],
      "metadata": {
        "colab": {
          "base_uri": "https://localhost:8080/"
        },
        "id": "5wgMVDfvANu9",
        "outputId": "a1562e8a-5f51-40b6-c87d-91b8a2372bb9"
      },
      "execution_count": 8,
      "outputs": [
        {
          "output_type": "stream",
          "name": "stdout",
          "text": [
            "<class 'pandas.core.frame.DataFrame'>\n",
            "RangeIndex: 20830 entries, 0 to 20829\n",
            "Columns: 113 entries, Username to Average_Friendly_Fire\n",
            "dtypes: float64(111), int64(1), object(1)\n",
            "memory usage: 18.0+ MB\n"
          ]
        }
      ]
    },
    {
      "cell_type": "markdown",
      "source": [
        "#1 **ЗАДАНИЕ**"
      ],
      "metadata": {
        "id": "sQyBs3KpA-TE"
      }
    },
    {
      "cell_type": "code",
      "source": [
        "f, ax = plt.subplots(figsize=(14, 7))\n",
        "\n",
        "sns.histplot(x='AK-47_Usage',\n",
        "             stat=\"density\",\n",
        "             bins=20,\n",
        "             fill=False,\n",
        "             data=data);\n",
        "\n",
        "sns.rugplot(x='AK-47_Usage',\n",
        "            data=data);\n",
        "\n",
        "\n",
        "sns.kdeplot(x='AK-47_Usage',\n",
        "            data=data);\n",
        "\n"
      ],
      "metadata": {
        "colab": {
          "base_uri": "https://localhost:8080/",
          "height": 0
        },
        "id": "_S7YitiNGTM7",
        "outputId": "c9183a23-72c5-457e-ff94-f3d8e4520017"
      },
      "execution_count": 9,
      "outputs": [
        {
          "output_type": "display_data",
          "data": {
            "text/plain": [
              "<Figure size 1008x504 with 1 Axes>"
            ],
            "image/png": "[encoded data removed]"
          },
          "metadata": {
            "needs_background": "light"
          }
        }
      ]
    },
    {
      "cell_type": "code",
      "source": [
        "from scipy.integrate import trapz\n",
        "\n",
        "f, ax = plt.subplots(figsize=(20, 7))\n",
        "\n",
        "x = data['AK-47_Usage']\n",
        "\n",
        "kernels = []\n",
        "\n",
        "for x_i in x:\n",
        "    x_axis = np.linspace(0, 55, 400)\n",
        "    kernel = stats.norm(x_i, 1).pdf(x_axis)\n",
        "    kernels.append(kernel)\n",
        "\n",
        "\n",
        "S = np.sum(kernels, axis=0)\n",
        "\n",
        "S /= trapz(S, x_axis)\n",
        "\n",
        "\n",
        "plt.plot(x_axis, S, c='r');\n",
        "\n",
        "sns.rugplot(x, color='.2', linewidth=1);"
      ],
      "metadata": {
        "colab": {
          "base_uri": "https://localhost:8080/",
          "height": 0
        },
        "id": "ZrizN7L_H_b9",
        "outputId": "484d6e64-c66b-4274-a709-af8fc41dd9cd"
      },
      "execution_count": 10,
      "outputs": [
        {
          "output_type": "display_data",
          "data": {
            "text/plain": [
              "<Figure size 1440x504 with 1 Axes>"
            ],
            "image/png": "[encoded data removed]"
          },
          "metadata": {
            "needs_background": "light"
          }
        }
      ]
    },
    {
      "cell_type": "code",
      "source": [
        "f, ax = plt.subplots(figsize=(14, 7))\n",
        "\n",
        "sns.kdeplot(x='AK-47_Usage',\n",
        "            bw_adjust=0.2,\n",
        "            label='bw: 0.2',\n",
        "            data=data);\n",
        "\n",
        "sns.kdeplot(x='AK-47_Usage',\n",
        "            bw_adjust=0.4,\n",
        "            label='bw: 0.4',\n",
        "            data=data);\n",
        "\n",
        "sns.kdeplot(x='AK-47_Usage',\n",
        "            bw_adjust=0.8,\n",
        "            label='bw: 0.8',\n",
        "            data=data);\n",
        "\n",
        "plt.legend(fontsize = 15);"
      ],
      "metadata": {
        "colab": {
          "base_uri": "https://localhost:8080/",
          "height": 0
        },
        "id": "RRWh-tQBJJAd",
        "outputId": "fe18e2fa-c5de-40ba-c89a-c12485d3b564"
      },
      "execution_count": 35,
      "outputs": [
        {
          "output_type": "display_data",
          "data": {
            "text/plain": [
              "<Figure size 1008x504 with 1 Axes>"
            ],
            "image/png": "[encoded data removed]"
          },
          "metadata": {
            "needs_background": "light"
          }
        }
      ]
    },
    {
      "cell_type": "markdown",
      "source": [
        "#2 ЗАДАНИЕ\n"
      ],
      "metadata": {
        "id": "Jo48T-N8BDm4"
      }
    },
    {
      "cell_type": "code",
      "source": [
        "sns.displot(data = data, x = 'AK-47_Usage', \n",
        "\thue = 'Difficulty', \n",
        "\tmultiple=\"fill\", kind=\"kde\", palette=\"ch:rot=-0,light=.85\")"
      ],
      "metadata": {
        "colab": {
          "base_uri": "https://localhost:8080/",
          "height": 0
        },
        "id": "vT_6ztTXBFq5",
        "outputId": "e1147a96-a466-4763-bfdb-ca9eddb9052b"
      },
      "execution_count": 18,
      "outputs": [
        {
          "output_type": "execute_result",
          "data": {
            "text/plain": [
              "<seaborn.axisgrid.FacetGrid at 0x7f9f458f2190>"
            ]
          },
          "metadata": {},
          "execution_count": 18
        },
        {
          "output_type": "display_data",
          "data": {
            "text/plain": [
              "<Figure size 445.5x360 with 1 Axes>"
            ],
            "image/png": "[encoded data removed]"
          },
          "metadata": {
            "needs_background": "light"
          }
        }
      ]
    },
    {
      "cell_type": "markdown",
      "source": [
        "Заметим, что подавляющее большинство тех, кто играют с АК-47 играют на сложности Easy."
      ],
      "metadata": {
        "id": "y1DSShtjDD-b"
      }
    },
    {
      "cell_type": "code",
      "source": [
        "sns.boxplot(data = data, y = \"AK-47_Usage\", x = \"Difficulty\")"
      ],
      "metadata": {
        "colab": {
          "base_uri": "https://localhost:8080/",
          "height": 0
        },
        "id": "t7qslnc4Dt4I",
        "outputId": "ac4108b2-48a5-4d2d-b220-92fa6c2e3afb"
      },
      "execution_count": 19,
      "outputs": [
        {
          "output_type": "execute_result",
          "data": {
            "text/plain": [
              "<matplotlib.axes._subplots.AxesSubplot at 0x7f9f45c54fd0>"
            ]
          },
          "metadata": {},
          "execution_count": 19
        },
        {
          "output_type": "display_data",
          "data": {
            "text/plain": [
              "<Figure size 432x288 with 1 Axes>"
            ],
            "image/png": "[encoded data removed]"
          },
          "metadata": {
            "needs_background": "light"
          }
        }
      ]
    },
    {
      "cell_type": "code",
      "source": [
        "sns.stripplot(\n",
        "    data=data, y = \"AK-47_Usage\", x = \"Difficulty\",\n",
        "    jitter=False, s=10, marker=\"D\", linewidth=1, alpha=.1,\n",
        ")"
      ],
      "metadata": {
        "colab": {
          "base_uri": "https://localhost:8080/",
          "height": 0
        },
        "id": "pyuN8CzxE8AJ",
        "outputId": "b7826c3d-7d4b-4909-c7fb-99181964016f"
      },
      "execution_count": 21,
      "outputs": [
        {
          "output_type": "execute_result",
          "data": {
            "text/plain": [
              "<matplotlib.axes._subplots.AxesSubplot at 0x7f9f4574f910>"
            ]
          },
          "metadata": {},
          "execution_count": 21
        },
        {
          "output_type": "display_data",
          "data": {
            "text/plain": [
              "<Figure size 432x288 with 1 Axes>"
            ],
            "image/png": "[encoded data removed]"
          },
          "metadata": {
            "needs_background": "light"
          }
        }
      ]
    },
    {
      "cell_type": "markdown",
      "source": [
        "#3 ЗАДАНИЕ"
      ],
      "metadata": {
        "id": "PayALHEJKAUU"
      }
    },
    {
      "cell_type": "code",
      "source": [
        "import numpy as np\n",
        "from outliers import smirnov_grubbs as grubbs\n",
        "\n",
        "\n",
        "d = data[:25][['AK-47_Usage']]\n",
        "\n",
        "test = DixonTest(d, q=95, info=1, autorm=1)\n",
        "\n",
        "grubbs.max_test_outliers(data[:25]['AK-47_Usage'].tolist(), alpha=0.05)"
      ],
      "metadata": {
        "colab": {
          "base_uri": "https://localhost:8080/"
        },
        "id": "8QjQDa3rKCl2",
        "outputId": "92e0b855-6782-4bd0-fb8f-b007ba5d3798"
      },
      "execution_count": 69,
      "outputs": [
        {
          "output_type": "execute_result",
          "data": {
            "text/plain": [
              "[40.04]"
            ]
          },
          "metadata": {},
          "execution_count": 69
        }
      ]
    },
    {
      "cell_type": "code",
      "source": [
        "grubbs.max_test_outliers(data[:25]['AK-47_Usage'].tolist(), alpha=0.2)"
      ],
      "metadata": {
        "colab": {
          "base_uri": "https://localhost:8080/"
        },
        "id": "hVS1KI4_OOKJ",
        "outputId": "aaedfd7f-517c-4e41-d235-e7960c506bda"
      },
      "execution_count": 70,
      "outputs": [
        {
          "output_type": "execute_result",
          "data": {
            "text/plain": [
              "[40.04]"
            ]
          },
          "metadata": {},
          "execution_count": 70
        }
      ]
    },
    {
      "cell_type": "markdown",
      "source": [
        "#4 ЗАДАНИЕ"
      ],
      "metadata": {
        "id": "86oLfKGjT4h5"
      }
    },
    {
      "cell_type": "code",
      "source": [
        "d = data[['AK-47_Usage']]\n",
        "sns.histplot(d)"
      ],
      "metadata": {
        "colab": {
          "base_uri": "https://localhost:8080/",
          "height": 0
        },
        "id": "JMLPwP16UbFk",
        "outputId": "10d8d225-ed36-491e-f39c-34f222f732e7"
      },
      "execution_count": 31,
      "outputs": [
        {
          "output_type": "execute_result",
          "data": {
            "text/plain": [
              "<matplotlib.axes._subplots.AxesSubplot at 0x7f8d68be3490>"
            ]
          },
          "metadata": {},
          "execution_count": 31
        },
        {
          "output_type": "display_data",
          "data": {
            "text/plain": [
              "<Figure size 432x288 with 1 Axes>"
            ],
            "image/png": "[encoded data removed]"
          },
          "metadata": {
            "needs_background": "light"
          }
        }
      ]
    },
    {
      "cell_type": "code",
      "source": [
        "fill = np.random.choice(data.shape[0], int(data.shape[0] * 0.025))\n",
        "normald = np.random.normal(size = 21000)\n",
        "data['AK-47_Usage'][fill] = np.nan\n",
        "data['AK-47_Usage'].isna().sum()\n",
        "\n",
        "mean_fill = data['AK-47_Usage'].fillna(data['AK-47_Usage'].mean())\n",
        "print(f'RMSE : {np.sqrt(np.mean((mean_fill[fill] - normald[fill]) ** 2))}')"
      ],
      "metadata": {
        "colab": {
          "base_uri": "https://localhost:8080/"
        },
        "id": "ApRNjTA6T6dj",
        "outputId": "4a596397-60b5-490a-c07d-1f6bc86dad97"
      },
      "execution_count": 32,
      "outputs": [
        {
          "output_type": "stream",
          "name": "stdout",
          "text": [
            "RMSE : 11.86255742661308\n"
          ]
        },
        {
          "output_type": "stream",
          "name": "stderr",
          "text": [
            "/usr/local/lib/python3.7/dist-packages/ipykernel_launcher.py:3: SettingWithCopyWarning: \n",
            "A value is trying to be set on a copy of a slice from a DataFrame\n",
            "\n",
            "See the caveats in the documentation: https://pandas.pydata.org/pandas-docs/stable/user_guide/indexing.html#returning-a-view-versus-a-copy\n",
            "  This is separate from the ipykernel package so we can avoid doing imports until\n"
          ]
        }
      ]
    },
    {
      "cell_type": "code",
      "source": [
        "sns.histplot(mean_fill)"
      ],
      "metadata": {
        "colab": {
          "base_uri": "https://localhost:8080/",
          "height": 0
        },
        "id": "CYADY7jyXOVU",
        "outputId": "63db6dc9-4166-425f-ad04-d93c6f8d5067"
      },
      "execution_count": 33,
      "outputs": [
        {
          "output_type": "execute_result",
          "data": {
            "text/plain": [
              "<matplotlib.axes._subplots.AxesSubplot at 0x7f8d68c02510>"
            ]
          },
          "metadata": {},
          "execution_count": 33
        },
        {
          "output_type": "display_data",
          "data": {
            "text/plain": [
              "<Figure size 432x288 with 1 Axes>"
            ],
            "image/png": "[encoded data removed]"
          },
          "metadata": {
            "needs_background": "light"
          }
        }
      ]
    },
    {
      "cell_type": "markdown",
      "source": [
        "#5 и 6 ЗАДАНИЕ"
      ],
      "metadata": {
        "id": "9yYrDb9KZBJe"
      }
    },
    {
      "cell_type": "markdown",
      "source": [
        "Анализ с помощью графиков эмпирических функций распределений"
      ],
      "metadata": {
        "id": "SW7a0O8Oe7q2"
      }
    },
    {
      "cell_type": "code",
      "source": [
        "num = 40\n",
        "mu = 0\n",
        "sigma = 1\n",
        "\n",
        "data1 = norm.rvs(size=num)\n",
        "\n",
        "x = np.linspace(mu - 3*sigma, mu + 3*sigma, 1000)\n",
        "y = norm.cdf(x)\n",
        "\n",
        "sns.ecdfplot(data1)\n",
        "sns.lineplot(x,y)"
      ],
      "metadata": {
        "colab": {
          "base_uri": "https://localhost:8080/",
          "height": 0
        },
        "id": "lAXUguq5dGCc",
        "outputId": "76e75f71-c498-40d3-c901-3adbf715bfd8"
      },
      "execution_count": 45,
      "outputs": [
        {
          "output_type": "stream",
          "name": "stderr",
          "text": [
            "/usr/local/lib/python3.7/dist-packages/seaborn/_decorators.py:43: FutureWarning: Pass the following variables as keyword args: x, y. From version 0.12, the only valid positional argument will be `data`, and passing other arguments without an explicit keyword will result in an error or misinterpretation.\n",
            "  FutureWarning\n"
          ]
        },
        {
          "output_type": "execute_result",
          "data": {
            "text/plain": [
              "<matplotlib.axes._subplots.AxesSubplot at 0x7f8d62668810>"
            ]
          },
          "metadata": {},
          "execution_count": 45
        },
        {
          "output_type": "display_data",
          "data": {
            "text/plain": [
              "<Figure size 432x288 with 1 Axes>"
            ],
            "image/png": "[encoded data removed]"
          },
          "metadata": {
            "needs_background": "light"
          }
        }
      ]
    },
    {
      "cell_type": "code",
      "source": [
        "num = 1000\n",
        "mu = 7\n",
        "sigma = 10\n",
        "\n",
        "data2 = norm.rvs(size=num)\n",
        "\n",
        "x = np.linspace(mu - 3*sigma, mu + 3*sigma, 1000)\n",
        "y = norm.cdf(x)\n",
        "\n",
        "sns.ecdfplot(data2)\n",
        "sns.lineplot(x,y)"
      ],
      "metadata": {
        "colab": {
          "base_uri": "https://localhost:8080/",
          "height": 0
        },
        "id": "G8tyRqroZDzP",
        "outputId": "d626e668-acdf-4873-b0b4-38b12a2054b5"
      },
      "execution_count": 43,
      "outputs": [
        {
          "output_type": "stream",
          "name": "stderr",
          "text": [
            "/usr/local/lib/python3.7/dist-packages/seaborn/_decorators.py:43: FutureWarning: Pass the following variables as keyword args: x, y. From version 0.12, the only valid positional argument will be `data`, and passing other arguments without an explicit keyword will result in an error or misinterpretation.\n",
            "  FutureWarning\n"
          ]
        },
        {
          "output_type": "execute_result",
          "data": {
            "text/plain": [
              "<matplotlib.axes._subplots.AxesSubplot at 0x7f8d6272f0d0>"
            ]
          },
          "metadata": {},
          "execution_count": 43
        },
        {
          "output_type": "display_data",
          "data": {
            "text/plain": [
              "<Figure size 432x288 with 1 Axes>"
            ],
            "image/png": "[encoded data removed]"
          },
          "metadata": {
            "needs_background": "light"
          }
        }
      ]
    },
    {
      "cell_type": "markdown",
      "source": [
        "Анализ с помощью метода квантилей"
      ],
      "metadata": {
        "id": "PmFGKBvle_aR"
      }
    },
    {
      "cell_type": "code",
      "source": [
        "stats.probplot(data1, dist=\"norm\", plot=plt)\n",
        "plt.show()"
      ],
      "metadata": {
        "colab": {
          "base_uri": "https://localhost:8080/",
          "height": 0
        },
        "id": "yVKx0bNmdnJG",
        "outputId": "af3fa050-cafd-4729-f702-003df2f470c0"
      },
      "execution_count": 46,
      "outputs": [
        {
          "output_type": "display_data",
          "data": {
            "text/plain": [
              "<Figure size 432x288 with 1 Axes>"
            ],
            "image/png": "[encoded data removed]"
          },
          "metadata": {
            "needs_background": "light"
          }
        }
      ]
    },
    {
      "cell_type": "code",
      "source": [
        "stats.probplot(data2, dist=\"norm\", plot=plt)\n",
        "plt.show()"
      ],
      "metadata": {
        "colab": {
          "base_uri": "https://localhost:8080/",
          "height": 0
        },
        "id": "TRW90PUDexFV",
        "outputId": "bffb1a0d-d158-4ec7-8945-e9f21f307e7d"
      },
      "execution_count": 47,
      "outputs": [
        {
          "output_type": "display_data",
          "data": {
            "text/plain": [
              "<Figure size 432x288 with 1 Axes>"
            ],
            "image/png": "[encoded data removed]"
          },
          "metadata": {
            "needs_background": "light"
          }
        }
      ]
    },
    {
      "cell_type": "markdown",
      "source": [
        "Критерий Колмогорова-Смирнова"
      ],
      "metadata": {
        "id": "k8t7sufXfDVv"
      }
    },
    {
      "cell_type": "code",
      "source": [
        "kstest(data1, stats.norm.cdf)"
      ],
      "metadata": {
        "colab": {
          "base_uri": "https://localhost:8080/"
        },
        "id": "mRh_WuAOfMbr",
        "outputId": "6c85524e-0aef-4dfe-997f-fdad3f1aa06f"
      },
      "execution_count": 48,
      "outputs": [
        {
          "output_type": "execute_result",
          "data": {
            "text/plain": [
              "KstestResult(statistic=0.12046768562824794, pvalue=0.5660222747698276)"
            ]
          },
          "metadata": {},
          "execution_count": 48
        }
      ]
    },
    {
      "cell_type": "code",
      "source": [
        "kstest(data2, stats.norm.cdf)"
      ],
      "metadata": {
        "colab": {
          "base_uri": "https://localhost:8080/"
        },
        "id": "Q_7rSNPcfkcA",
        "outputId": "58a4b113-a3bf-4771-d3f1-9446da055138"
      },
      "execution_count": 50,
      "outputs": [
        {
          "output_type": "execute_result",
          "data": {
            "text/plain": [
              "KstestResult(statistic=0.021147843021035118, pvalue=0.7540710018735217)"
            ]
          },
          "metadata": {},
          "execution_count": 50
        }
      ]
    },
    {
      "cell_type": "markdown",
      "source": [
        "Критерий Шапиро-Уилка"
      ],
      "metadata": {
        "id": "o0KtKIH3fmdp"
      }
    },
    {
      "cell_type": "code",
      "source": [
        "shapiro(data1)"
      ],
      "metadata": {
        "colab": {
          "base_uri": "https://localhost:8080/"
        },
        "id": "eY0Zs7kTfpp3",
        "outputId": "e7b22b5e-deaf-4eaa-d2fb-8a095efcc0df"
      },
      "execution_count": 51,
      "outputs": [
        {
          "output_type": "execute_result",
          "data": {
            "text/plain": [
              "ShapiroResult(statistic=0.9617896676063538, pvalue=0.19275972247123718)"
            ]
          },
          "metadata": {},
          "execution_count": 51
        }
      ]
    },
    {
      "cell_type": "code",
      "source": [
        "shapiro(data2)"
      ],
      "metadata": {
        "colab": {
          "base_uri": "https://localhost:8080/"
        },
        "id": "IeIBwHNsfp3r",
        "outputId": "0b48a4bb-0398-422e-e4a0-7d85ddb72de3"
      },
      "execution_count": 52,
      "outputs": [
        {
          "output_type": "execute_result",
          "data": {
            "text/plain": [
              "ShapiroResult(statistic=0.997749924659729, pvalue=0.1930321455001831)"
            ]
          },
          "metadata": {},
          "execution_count": 52
        }
      ]
    },
    {
      "cell_type": "markdown",
      "source": [
        "Критерий Андерсона-Дарлинга"
      ],
      "metadata": {
        "id": "0nCq0dPzfu0N"
      }
    },
    {
      "cell_type": "code",
      "source": [
        "anderson(data1)"
      ],
      "metadata": {
        "colab": {
          "base_uri": "https://localhost:8080/"
        },
        "id": "XnnwKXBWfwDG",
        "outputId": "da67ddd5-7a33-4ced-a103-a818a6fcb785"
      },
      "execution_count": 53,
      "outputs": [
        {
          "output_type": "execute_result",
          "data": {
            "text/plain": [
              "AndersonResult(statistic=0.4866560191400282, critical_values=array([0.531, 0.605, 0.726, 0.847, 1.007]), significance_level=array([15. , 10. ,  5. ,  2.5,  1. ]))"
            ]
          },
          "metadata": {},
          "execution_count": 53
        }
      ]
    },
    {
      "cell_type": "code",
      "source": [
        "anderson(data2)"
      ],
      "metadata": {
        "colab": {
          "base_uri": "https://localhost:8080/"
        },
        "id": "ThZtD4RAfwFd",
        "outputId": "ac8c7d65-d6e4-4737-8d60-b4a442157272"
      },
      "execution_count": 54,
      "outputs": [
        {
          "output_type": "execute_result",
          "data": {
            "text/plain": [
              "AndersonResult(statistic=0.5534972061138888, critical_values=array([0.574, 0.653, 0.784, 0.914, 1.088]), significance_level=array([15. , 10. ,  5. ,  2.5,  1. ]))"
            ]
          },
          "metadata": {},
          "execution_count": 54
        }
      ]
    },
    {
      "cell_type": "markdown",
      "source": [
        "Колмогорова-Смирнова вмодификации Лиллиефорса"
      ],
      "metadata": {
        "id": "A_AAhNuXf0e1"
      }
    },
    {
      "cell_type": "code",
      "source": [
        "lilliefors(data1)"
      ],
      "metadata": {
        "colab": {
          "base_uri": "https://localhost:8080/"
        },
        "id": "GliwmS9Uf3Kt",
        "outputId": "683bf044-0ec9-4d9f-dd4e-6b55be863cd2"
      },
      "execution_count": 55,
      "outputs": [
        {
          "output_type": "execute_result",
          "data": {
            "text/plain": [
              "(0.11590273829822162, 0.1981657199748808)"
            ]
          },
          "metadata": {},
          "execution_count": 55
        }
      ]
    },
    {
      "cell_type": "code",
      "source": [
        "lilliefors(data2)"
      ],
      "metadata": {
        "colab": {
          "base_uri": "https://localhost:8080/"
        },
        "id": "0oA3mM5If3Qj",
        "outputId": "c209a8d8-b577-46dd-e35d-1c97da7d50c8"
      },
      "execution_count": 56,
      "outputs": [
        {
          "output_type": "execute_result",
          "data": {
            "text/plain": [
              "(0.02070244744598737, 0.45483471992617264)"
            ]
          },
          "metadata": {},
          "execution_count": 56
        }
      ]
    },
    {
      "cell_type": "markdown",
      "source": [
        "# 7а ЗАДАНИЕ\n",
        "\n"
      ],
      "metadata": {
        "id": "Hn7E5GbZf7KP"
      }
    },
    {
      "cell_type": "code",
      "source": [
        "# Student's t-test\n",
        " \n",
        "from numpy.random import randn\n",
        "from scipy.stats import ttest_ind\n",
        "\n",
        "data1 = data['AK-47_Usage']\n",
        "data2 = data[['Pistol_Usage']]"
      ],
      "metadata": {
        "id": "naYWbKEfgX9y"
      },
      "execution_count": 66,
      "outputs": []
    },
    {
      "cell_type": "markdown",
      "source": [
        "Гипотеза H0: Средние двух выборок равны, альтернативная гипотеза - не равны\n"
      ],
      "metadata": {
        "id": "SNp1Ot3YosJo"
      }
    },
    {
      "cell_type": "code",
      "source": [
        "stat, p = ttest_ind(data1, data2)\n",
        "alpha = 0.05\n",
        "if p > alpha:\n",
        "  print('Принять H0')\n",
        "else:\n",
        "  print('Отклонить H0')"
      ],
      "metadata": {
        "colab": {
          "base_uri": "https://localhost:8080/"
        },
        "id": "meRjLrgSmrDS",
        "outputId": "b669fad7-85eb-4857-e130-ee2fb1803a93"
      },
      "execution_count": 70,
      "outputs": [
        {
          "output_type": "stream",
          "name": "stdout",
          "text": [
            "Отклонить H0\n"
          ]
        }
      ]
    },
    {
      "cell_type": "code",
      "source": [
        "stat, p = ttest_ind(data1, data2)\n",
        "alpha = 0.01\n",
        "if p > alpha:\n",
        "  print('Принять H0')\n",
        "else:\n",
        "  print('Отклонить H0')"
      ],
      "metadata": {
        "colab": {
          "base_uri": "https://localhost:8080/"
        },
        "id": "cki-Lh3bpdZu",
        "outputId": "8bbfee0e-4fcf-4c61-af6f-08f66e33dab2"
      },
      "execution_count": 74,
      "outputs": [
        {
          "output_type": "stream",
          "name": "stdout",
          "text": [
            "Отклонить H0\n"
          ]
        }
      ]
    },
    {
      "cell_type": "code",
      "source": [
        "stat, p = ttest_ind(data1, data2)\n",
        "alpha = 0.1\n",
        "if p > alpha:\n",
        "  print('Принять H0')\n",
        "else:\n",
        "  print('Отклонить H0')"
      ],
      "metadata": {
        "colab": {
          "base_uri": "https://localhost:8080/"
        },
        "id": "zrdpsZYQpfH-",
        "outputId": "76801a8d-b8f2-4834-f580-41a0754beca4"
      },
      "execution_count": 75,
      "outputs": [
        {
          "output_type": "stream",
          "name": "stdout",
          "text": [
            "Отклонить H0\n"
          ]
        }
      ]
    },
    {
      "cell_type": "markdown",
      "source": [
        "Гипотеза H0: Среднее первой выборки больше, альтернативная гипотеза - меньше\n"
      ],
      "metadata": {
        "id": "LJfYRb-MotJ2"
      }
    },
    {
      "cell_type": "code",
      "source": [
        "stat, p = ttest_ind(data1, data2, alternative = 'less')\n",
        "alpha = 0.05\n",
        "if p > alpha:\n",
        "  print('Принять H0')\n",
        "else:\n",
        "  print('Отклонить H0')"
      ],
      "metadata": {
        "colab": {
          "base_uri": "https://localhost:8080/"
        },
        "id": "Vpv0rTw5nfNb",
        "outputId": "12444f30-c6b0-466d-ae51-0186eaae5413"
      },
      "execution_count": 71,
      "outputs": [
        {
          "output_type": "stream",
          "name": "stdout",
          "text": [
            "Принять H0\n"
          ]
        }
      ]
    },
    {
      "cell_type": "code",
      "source": [
        "stat, p = ttest_ind(data1, data2, alternative = 'less')\n",
        "alpha = 0.01\n",
        "if p > alpha:\n",
        "  print('Принять H0')\n",
        "else:\n",
        "  print('Отклонить H0')"
      ],
      "metadata": {
        "colab": {
          "base_uri": "https://localhost:8080/"
        },
        "id": "QmOlqZ_bpqBc",
        "outputId": "0cb9380b-df69-4f31-9a26-e724ef4767a7"
      },
      "execution_count": 76,
      "outputs": [
        {
          "output_type": "stream",
          "name": "stdout",
          "text": [
            "Принять H0\n"
          ]
        }
      ]
    },
    {
      "cell_type": "code",
      "source": [
        "stat, p = ttest_ind(data1, data2, alternative = 'less')\n",
        "alpha = 0.1\n",
        "if p > alpha:\n",
        "  print('Принять H0')\n",
        "else:\n",
        "  print('Отклонить H0')"
      ],
      "metadata": {
        "colab": {
          "base_uri": "https://localhost:8080/"
        },
        "id": "Ndg6q66rpuQ2",
        "outputId": "12f6cba3-6f3b-4b79-f273-88d0f6b93b18"
      },
      "execution_count": 77,
      "outputs": [
        {
          "output_type": "stream",
          "name": "stdout",
          "text": [
            "Принять H0\n"
          ]
        }
      ]
    },
    {
      "cell_type": "markdown",
      "source": [
        "Гипотеза H0: Среднее первой выборки меньше, альтернативная гипотеза - больше\n"
      ],
      "metadata": {
        "id": "GMPMiUkOowFL"
      }
    },
    {
      "cell_type": "code",
      "source": [
        "stat, p = ttest_ind(data1, data2, alternative = 'greater')\n",
        "alpha = 0.05\n",
        "if p > alpha:\n",
        "  print('Принять H0')\n",
        "else:\n",
        "  print('Отклонить H0')"
      ],
      "metadata": {
        "colab": {
          "base_uri": "https://localhost:8080/"
        },
        "id": "qH4C0I-Pob7J",
        "outputId": "f453777a-8644-4f85-acdb-65f4b6c1d498"
      },
      "execution_count": 72,
      "outputs": [
        {
          "output_type": "stream",
          "name": "stdout",
          "text": [
            "Отклонить H0\n"
          ]
        }
      ]
    },
    {
      "cell_type": "code",
      "source": [
        "stat, p = ttest_ind(data1, data2, alternative = 'greater')\n",
        "alpha = 0.01\n",
        "if p > alpha:\n",
        "  print('Принять H0')\n",
        "else:\n",
        "  print('Отклонить H0')"
      ],
      "metadata": {
        "colab": {
          "base_uri": "https://localhost:8080/"
        },
        "id": "aOGYHTYspwzQ",
        "outputId": "2d6df0be-a821-48a4-d526-7ac0b3ee0283"
      },
      "execution_count": 78,
      "outputs": [
        {
          "output_type": "stream",
          "name": "stdout",
          "text": [
            "Отклонить H0\n"
          ]
        }
      ]
    },
    {
      "cell_type": "code",
      "source": [
        "stat, p = ttest_ind(data1, data2, alternative = 'greater')\n",
        "alpha = 0.1\n",
        "if p > alpha:\n",
        "  print('Принять H0')\n",
        "else:\n",
        "  print('Отклонить H0')"
      ],
      "metadata": {
        "colab": {
          "base_uri": "https://localhost:8080/"
        },
        "id": "-33Ow4-opyj4",
        "outputId": "be4dae7c-28c9-43de-b2ab-fb7d86e2d068"
      },
      "execution_count": 79,
      "outputs": [
        {
          "output_type": "stream",
          "name": "stdout",
          "text": [
            "Отклонить H0\n"
          ]
        }
      ]
    },
    {
      "cell_type": "markdown",
      "source": [
        "Мощность"
      ],
      "metadata": {
        "id": "5UGIBEIKp5sA"
      }
    },
    {
      "cell_type": "code",
      "source": [
        "import statsmodels.stats.power as smp\n",
        "print(smp.ttest_power(0.8, nobs=20, alpha=0.05, alternative='larger'))"
      ],
      "metadata": {
        "colab": {
          "base_uri": "https://localhost:8080/"
        },
        "id": "j6rO31n-ofmX",
        "outputId": "61e6fdd1-7d46-48be-ecdf-52baafdfeb29"
      },
      "execution_count": 73,
      "outputs": [
        {
          "output_type": "stream",
          "name": "stdout",
          "text": [
            "0.9641727854966735\n"
          ]
        }
      ]
    },
    {
      "cell_type": "code",
      "source": [
        "import statsmodels.stats.power as smp\n",
        "print(smp.ttest_power(0.8, nobs=20, alpha=0.01, alternative='larger'))"
      ],
      "metadata": {
        "colab": {
          "base_uri": "https://localhost:8080/"
        },
        "id": "1XOugSahp-fl",
        "outputId": "50f07583-3c9a-4925-ba04-0ff7259c7f66"
      },
      "execution_count": 80,
      "outputs": [
        {
          "output_type": "stream",
          "name": "stdout",
          "text": [
            "0.8393107879472783\n"
          ]
        }
      ]
    },
    {
      "cell_type": "code",
      "source": [
        "import statsmodels.stats.power as smp\n",
        "print(smp.ttest_power(0.8, nobs=20, alpha=0.1, alternative='larger'))"
      ],
      "metadata": {
        "colab": {
          "base_uri": "https://localhost:8080/"
        },
        "id": "ujap7cSOqAEr",
        "outputId": "ded40d55-ee27-4916-d07a-5f676836962f"
      },
      "execution_count": 81,
      "outputs": [
        {
          "output_type": "stream",
          "name": "stdout",
          "text": [
            "0.9866597583113669\n"
          ]
        }
      ]
    },
    {
      "cell_type": "markdown",
      "source": [
        "#7Б ЗАДАНИЕ"
      ],
      "metadata": {
        "id": "yna6M3h2o6EH"
      }
    },
    {
      "cell_type": "code",
      "source": [
        "import scipy.stats as stats\n",
        "\n",
        "data1 = np.random.normal(loc=5, size=500)\n",
        "data2 = np.random.normal(loc=5, size=500)\n",
        "\n",
        "stats. mannwhitneyu (data1, data2, alternative='two-sided')"
      ],
      "metadata": {
        "colab": {
          "base_uri": "https://localhost:8080/"
        },
        "id": "wa2NssPxpDsk",
        "outputId": "043b7820-cd6d-43de-dd4a-7349cbbead46"
      },
      "execution_count": 7,
      "outputs": [
        {
          "output_type": "execute_result",
          "data": {
            "text/plain": [
              "MannwhitneyuResult(statistic=116811.0, pvalue=0.07295467643032154)"
            ]
          },
          "metadata": {},
          "execution_count": 7
        }
      ]
    },
    {
      "cell_type": "code",
      "source": [
        "stats.wilcoxon(data1, data2)"
      ],
      "metadata": {
        "colab": {
          "base_uri": "https://localhost:8080/"
        },
        "id": "AavsnDsQrE6x",
        "outputId": "ccf015c7-aaca-413b-f6ec-9409680a5426"
      },
      "execution_count": 8,
      "outputs": [
        {
          "output_type": "execute_result",
          "data": {
            "text/plain": [
              "WilcoxonResult(statistic=56082.0, pvalue=0.04294563880438129)"
            ]
          },
          "metadata": {},
          "execution_count": 8
        }
      ]
    },
    {
      "cell_type": "markdown",
      "source": [
        "#7в ЗАДАНИЕ"
      ],
      "metadata": {
        "id": "AHVpcNsOrQro"
      }
    },
    {
      "cell_type": "code",
      "source": [
        "def Phisher(sample_1, sample_2, alpha):\n",
        "    var1 = np.var(sample_1, ddof=1)\n",
        "    var2 = np.var(sample_2, ddof=1)\n",
        "    f = var1/var2\n",
        "    x = np.array(sample_1)\n",
        "    y = np.array(sample_2)\n",
        "    nun = x.size - 1\n",
        "    dun = y.size - 1\n",
        "    pval = 1-stats.f.cdf(f, nun, dun)\n",
        "    \n",
        "    print(' Тест Фишера:\\n\\tStatistics=%.3f, p=%.3f' % (f, pval))\n",
        "\n",
        "    if pval > alpha:\n",
        "        print('\\tSame distribution (fail to reject H0)')\n",
        "    else:\n",
        "        print('\\tDifferent distribution (reject H0)')\n",
        "    print('\\t\\talpha = ', alpha)\n",
        "\n",
        "def Levene(sample_1, sample_2, alpha):\n",
        "    stat, p = stats.levene(sample_1, sample_2, center = 'mean')\n",
        "    print('   Тест Левене:\\n\\tStatistics=%.3f, p=%.3f' % (stat, p))\n",
        "    if p > alpha:\n",
        "        print('\\tSame distribution (fail to reject H0)')\n",
        "    else:\n",
        "        print('\\tDifferent distribution (reject H0)')\n",
        "    print('\\t\\talpha = ', alpha)\n",
        "\n",
        "def Bartlet(sample_1, sample_2, alpha): \n",
        "    stat, p = stats.bartlett(sample_1, sample_2)\n",
        "    print('   Тест Бартлета:\\n\\tStatistics=%.3f, p=%.3f' % (stat, p))\n",
        "    if p > alpha:\n",
        "        print('\\tSame distribution (fail to reject H0)')\n",
        "    else:\n",
        "        print('\\tDifferent distribution (reject H0)')\n",
        "    print('\\t\\talpha = ', alpha)\n",
        "    \n",
        "def Fligner_Kilin(sample_1, sample_2, alpha):\n",
        "    stat, p = stats.fligner(sample_1, sample_2, center = 'mean')\n",
        "    print('   Тест Флигнера-Килина:\\n\\tStatistics=%.3f, p=%.3f' % (stat, p))\n",
        "    if p > alpha:\n",
        "        print('\\tSame distribution (fail to reject H0)')\n",
        "    else:\n",
        "        print('\\tDifferent distribution (reject H0)')\n",
        "\n",
        "    print('\\t\\talpha = ', alpha)"
      ],
      "metadata": {
        "id": "tH0qlgokrT8x"
      },
      "execution_count": 25,
      "outputs": []
    },
    {
      "cell_type": "code",
      "source": [
        "data1 = np.random.normal(loc=4, size=500)\n",
        "data2 = np.random.normal(loc=4, size=500)"
      ],
      "metadata": {
        "id": "I63tfYbXsWoG"
      },
      "execution_count": 39,
      "outputs": []
    },
    {
      "cell_type": "code",
      "source": [
        "Phisher(data1, data2, 0.05)\n",
        "Phisher(data1, data2, 0.01)\n",
        "Phisher(data1, data2, 0.1)"
      ],
      "metadata": {
        "colab": {
          "base_uri": "https://localhost:8080/"
        },
        "id": "V228vqQS0xHT",
        "outputId": "2c86433c-2419-4098-d548-a7a6d84446a0"
      },
      "execution_count": 40,
      "outputs": [
        {
          "output_type": "stream",
          "name": "stdout",
          "text": [
            " Тест Фишера:\n",
            "\tStatistics=1.067, p=0.233\n",
            "\tSame distribution (fail to reject H0)\n",
            "\t\talpha =  0.05\n",
            " Тест Фишера:\n",
            "\tStatistics=1.067, p=0.233\n",
            "\tSame distribution (fail to reject H0)\n",
            "\t\talpha =  0.01\n",
            " Тест Фишера:\n",
            "\tStatistics=1.067, p=0.233\n",
            "\tSame distribution (fail to reject H0)\n",
            "\t\talpha =  0.1\n"
          ]
        }
      ]
    },
    {
      "cell_type": "code",
      "source": [
        "Levene(data1, data2, 0.05)\n",
        "Levene(data1, data2, 0.01)\n",
        "Levene(data1, data2, 0.1)"
      ],
      "metadata": {
        "colab": {
          "base_uri": "https://localhost:8080/"
        },
        "id": "WAzEIAHb1Mtx",
        "outputId": "40d6b069-1793-43a2-a27b-f4cde6c4d7a5"
      },
      "execution_count": 41,
      "outputs": [
        {
          "output_type": "stream",
          "name": "stdout",
          "text": [
            "   Тест Левене:\n",
            "\tStatistics=0.178, p=0.674\n",
            "\tSame distribution (fail to reject H0)\n",
            "\t\talpha =  0.05\n",
            "   Тест Левене:\n",
            "\tStatistics=0.178, p=0.674\n",
            "\tSame distribution (fail to reject H0)\n",
            "\t\talpha =  0.01\n",
            "   Тест Левене:\n",
            "\tStatistics=0.178, p=0.674\n",
            "\tSame distribution (fail to reject H0)\n",
            "\t\talpha =  0.1\n"
          ]
        }
      ]
    },
    {
      "cell_type": "code",
      "source": [
        "Bartlet(data1, data2, 0.05)\n",
        "Bartlet(data1, data2, 0.01)\n",
        "Bartlet(data1, data2, 0.1)"
      ],
      "metadata": {
        "colab": {
          "base_uri": "https://localhost:8080/"
        },
        "id": "75-J3_kk1YPK",
        "outputId": "8459c73a-ba81-47e5-b127-f3250e2fbb52"
      },
      "execution_count": 42,
      "outputs": [
        {
          "output_type": "stream",
          "name": "stdout",
          "text": [
            "   Тест Бартлета:\n",
            "\tStatistics=0.529, p=0.467\n",
            "\tSame distribution (fail to reject H0)\n",
            "\t\talpha =  0.05\n",
            "   Тест Бартлета:\n",
            "\tStatistics=0.529, p=0.467\n",
            "\tSame distribution (fail to reject H0)\n",
            "\t\talpha =  0.01\n",
            "   Тест Бартлета:\n",
            "\tStatistics=0.529, p=0.467\n",
            "\tSame distribution (fail to reject H0)\n",
            "\t\talpha =  0.1\n"
          ]
        }
      ]
    },
    {
      "cell_type": "code",
      "source": [
        "Fligner_Kilin(data1, data2, 0.05)\n",
        "Fligner_Kilin(data1, data2, 0.01)\n",
        "Fligner_Kilin(data1, data2, 0.1)"
      ],
      "metadata": {
        "colab": {
          "base_uri": "https://localhost:8080/"
        },
        "id": "7qHDDvDY1gfC",
        "outputId": "9e80ae56-714c-4b6e-ea52-5ea544396bbf"
      },
      "execution_count": 43,
      "outputs": [
        {
          "output_type": "stream",
          "name": "stdout",
          "text": [
            "   Тест Флигнера-Килина:\n",
            "\tStatistics=0.155, p=0.694\n",
            "\tSame distribution (fail to reject H0)\n",
            "\t\talpha =  0.05\n",
            "   Тест Флигнера-Килина:\n",
            "\tStatistics=0.155, p=0.694\n",
            "\tSame distribution (fail to reject H0)\n",
            "\t\talpha =  0.01\n",
            "   Тест Флигнера-Килина:\n",
            "\tStatistics=0.155, p=0.694\n",
            "\tSame distribution (fail to reject H0)\n",
            "\t\talpha =  0.1\n"
          ]
        }
      ]
    },
    {
      "cell_type": "markdown",
      "source": [
        "#8 ЗАДАНИЕ"
      ],
      "metadata": {
        "id": "1bWj36mA1unI"
      }
    },
    {
      "cell_type": "code",
      "source": [
        "from scipy.stats import spearmanr\n",
        "from scipy.stats import kendalltau\n",
        "\n",
        "# коэффициент корреляции Пирсона\n",
        "corr = np.corrcoef(data[\"AK-47_Shots\"], data[\"AK-47_Kills\"])\n",
        "print(corr)"
      ],
      "metadata": {
        "colab": {
          "base_uri": "https://localhost:8080/"
        },
        "id": "OaS12Lud1xC0",
        "outputId": "2345358a-f943-41ce-c2f5-e4869a75f6fd"
      },
      "execution_count": 124,
      "outputs": [
        {
          "output_type": "stream",
          "name": "stdout",
          "text": [
            "[[1.         0.93853673]\n",
            " [0.93853673 1.        ]]\n"
          ]
        }
      ]
    },
    {
      "cell_type": "markdown",
      "source": [
        "Заметно, что коэф корреляции между количеством выстрелов и количеством убитых ботов равен 0.93853673"
      ],
      "metadata": {
        "id": "ttK8QjWg4JLd"
      }
    },
    {
      "cell_type": "code",
      "source": [
        "# коэффициент корреляции Спирмена\n",
        "corr = spearmanr(data[\"AK-47_Shots\"], data[\"AK-47_Kills\"])\n",
        "print(corr)"
      ],
      "metadata": {
        "colab": {
          "base_uri": "https://localhost:8080/"
        },
        "id": "T6p44NT43CPR",
        "outputId": "a800acc7-f7aa-49d0-e139-2dde6b235162"
      },
      "execution_count": 125,
      "outputs": [
        {
          "output_type": "stream",
          "name": "stdout",
          "text": [
            "SpearmanrResult(correlation=0.9707269929687047, pvalue=0.0)\n"
          ]
        }
      ]
    },
    {
      "cell_type": "code",
      "source": [
        "# коэффициент корреляции Кендалла\n",
        "corr = kendalltau(data[\"AK-47_Shots\"], data[\"AK-47_Kills\"])\n",
        "print(corr)"
      ],
      "metadata": {
        "colab": {
          "base_uri": "https://localhost:8080/"
        },
        "id": "uuQuU4Qb3Cw3",
        "outputId": "4b5d7a19-c5a6-417a-d978-f2daa2cc3d39"
      },
      "execution_count": 126,
      "outputs": [
        {
          "output_type": "stream",
          "name": "stdout",
          "text": [
            "KendalltauResult(correlation=0.8581400641431791, pvalue=0.0)\n"
          ]
        }
      ]
    },
    {
      "cell_type": "markdown",
      "source": [
        "#9 ЗАДАНИЕ"
      ],
      "metadata": {
        "id": "PdvT4MIr4bHT"
      }
    },
    {
      "cell_type": "code",
      "source": [
        "import pandas as pd\n",
        "import numpy as np"
      ],
      "metadata": {
        "id": "RybYjvv24e0z"
      },
      "execution_count": 31,
      "outputs": []
    },
    {
      "cell_type": "code",
      "source": [
        "contigency = pd.crosstab(data[\"AK-47_Shots\"], data[\"AK-47_Kills\"])\n",
        "contigency"
      ],
      "metadata": {
        "colab": {
          "base_uri": "https://localhost:8080/",
          "height": 0
        },
        "id": "ntdf-c6P6dr1",
        "outputId": "01ca5607-ec13-4632-caa2-c3b1b3fe0d7d"
      },
      "execution_count": 45,
      "outputs": [
        {
          "output_type": "execute_result",
          "data": {
            "text/plain": [
              "AK-47_Kills  0.0       1.0       2.0       3.0       4.0       5.0       \\\n",
              "AK-47_Shots                                                               \n",
              "0.0               840         0         0         0         0         0   \n",
              "1.0                 0         0         0         0         0         0   \n",
              "2.0                 1         0         0         0         0         0   \n",
              "3.0                 1         0         0         0         0         0   \n",
              "4.0                 3         2         0         0         0         0   \n",
              "...               ...       ...       ...       ...       ...       ...   \n",
              "960086.0            0         0         0         0         0         0   \n",
              "1065472.0           0         0         0         0         0         0   \n",
              "1135781.0           0         0         0         0         0         0   \n",
              "1298762.0           0         0         0         0         0         0   \n",
              "1957155.0           0         0         0         0         0         0   \n",
              "\n",
              "AK-47_Kills  6.0       7.0       8.0       9.0       ...  348535.0  357533.0  \\\n",
              "AK-47_Shots                                          ...                       \n",
              "0.0                 0         0         0         0  ...         0         0   \n",
              "1.0                 0         0         0         0  ...         0         0   \n",
              "2.0                 0         0         0         0  ...         0         0   \n",
              "3.0                 0         0         0         0  ...         0         0   \n",
              "4.0                 0         0         0         0  ...         0         0   \n",
              "...               ...       ...       ...       ...  ...       ...       ...   \n",
              "960086.0            0         0         0         0  ...         0         0   \n",
              "1065472.0           0         0         0         0  ...         0         0   \n",
              "1135781.0           0         0         0         0  ...         1         0   \n",
              "1298762.0           0         0         0         0  ...         0         0   \n",
              "1957155.0           0         0         0         0  ...         0         0   \n",
              "\n",
              "AK-47_Kills  364845.0  375292.0  532464.0  534973.0  614690.0  679498.0  \\\n",
              "AK-47_Shots                                                               \n",
              "0.0                 0         0         0         0         0         0   \n",
              "1.0                 0         0         0         0         0         0   \n",
              "2.0                 0         0         0         0         0         0   \n",
              "3.0                 0         0         0         0         0         0   \n",
              "4.0                 0         0         0         0         0         0   \n",
              "...               ...       ...       ...       ...       ...       ...   \n",
              "960086.0            0         0         0         1         0         0   \n",
              "1065472.0           0         0         1         0         0         0   \n",
              "1135781.0           0         0         0         0         0         0   \n",
              "1298762.0           0         0         0         0         0         1   \n",
              "1957155.0           0         0         0         0         0         0   \n",
              "\n",
              "AK-47_Kills  699507.0  795689.0  \n",
              "AK-47_Shots                      \n",
              "0.0                 0         0  \n",
              "1.0                 0         0  \n",
              "2.0                 0         0  \n",
              "3.0                 0         0  \n",
              "4.0                 0         0  \n",
              "...               ...       ...  \n",
              "960086.0            0         0  \n",
              "1065472.0           0         0  \n",
              "1135781.0           0         0  \n",
              "1298762.0           0         0  \n",
              "1957155.0           0         1  \n",
              "\n",
              "[11889 rows x 7227 columns]"
            ],
            "text/html": [
              "\n",
              "  <div id=\"df-bef673c2-b953-407c-8c92-a0a4b20ebc87\">\n",
              "    <div class=\"colab-df-container\">\n",
              "      <div>\n",
              "<style scoped>\n",
              "    .dataframe tbody tr th:only-of-type {\n",
              "        vertical-align: middle;\n",
              "    }\n",
              "\n",
              "    .dataframe tbody tr th {\n",
              "        vertical-align: top;\n",
              "    }\n",
              "\n",
              "    .dataframe thead th {\n",
              "        text-align: right;\n",
              "    }\n",
              "</style>\n",
              "<table border=\"1\" class=\"dataframe\">\n",
              "  <thead>\n",
              "    <tr style=\"text-align: right;\">\n",
              "      <th>AK-47_Kills</th>\n",
              "      <th>0.0</th>\n",
              "      <th>1.0</th>\n",
              "      <th>2.0</th>\n",
              "      <th>3.0</th>\n",
              "      <th>4.0</th>\n",
              "      <th>5.0</th>\n",
              "      <th>6.0</th>\n",
              "      <th>7.0</th>\n",
              "      <th>8.0</th>\n",
              "      <th>9.0</th>\n",
              "      <th>...</th>\n",
              "      <th>348535.0</th>\n",
              "      <th>357533.0</th>\n",
              "      <th>364845.0</th>\n",
              "      <th>375292.0</th>\n",
              "      <th>532464.0</th>\n",
              "      <th>534973.0</th>\n",
              "      <th>614690.0</th>\n",
              "      <th>679498.0</th>\n",
              "      <th>699507.0</th>\n",
              "      <th>795689.0</th>\n",
              "    </tr>\n",
              "    <tr>\n",
              "      <th>AK-47_Shots</th>\n",
              "      <th></th>\n",
              "      <th></th>\n",
              "      <th></th>\n",
              "      <th></th>\n",
              "      <th></th>\n",
              "      <th></th>\n",
              "      <th></th>\n",
              "      <th></th>\n",
              "      <th></th>\n",
              "      <th></th>\n",
              "      <th></th>\n",
              "      <th></th>\n",
              "      <th></th>\n",
              "      <th></th>\n",
              "      <th></th>\n",
              "      <th></th>\n",
              "      <th></th>\n",
              "      <th></th>\n",
              "      <th></th>\n",
              "      <th></th>\n",
              "      <th></th>\n",
              "    </tr>\n",
              "  </thead>\n",
              "  <tbody>\n",
              "    <tr>\n",
              "      <th>0.0</th>\n",
              "      <td>840</td>\n",
              "      <td>0</td>\n",
              "      <td>0</td>\n",
              "      <td>0</td>\n",
              "      <td>0</td>\n",
              "      <td>0</td>\n",
              "      <td>0</td>\n",
              "      <td>0</td>\n",
              "      <td>0</td>\n",
              "      <td>0</td>\n",
              "      <td>...</td>\n",
              "      <td>0</td>\n",
              "      <td>0</td>\n",
              "      <td>0</td>\n",
              "      <td>0</td>\n",
              "      <td>0</td>\n",
              "      <td>0</td>\n",
              "      <td>0</td>\n",
              "      <td>0</td>\n",
              "      <td>0</td>\n",
              "      <td>0</td>\n",
              "    </tr>\n",
              "    <tr>\n",
              "      <th>1.0</th>\n",
              "      <td>0</td>\n",
              "      <td>0</td>\n",
              "      <td>0</td>\n",
              "      <td>0</td>\n",
              "      <td>0</td>\n",
              "      <td>0</td>\n",
              "      <td>0</td>\n",
              "      <td>0</td>\n",
              "      <td>0</td>\n",
              "      <td>0</td>\n",
              "      <td>...</td>\n",
              "      <td>0</td>\n",
              "      <td>0</td>\n",
              "      <td>0</td>\n",
              "      <td>0</td>\n",
              "      <td>0</td>\n",
              "      <td>0</td>\n",
              "      <td>0</td>\n",
              "      <td>0</td>\n",
              "      <td>0</td>\n",
              "      <td>0</td>\n",
              "    </tr>\n",
              "    <tr>\n",
              "      <th>2.0</th>\n",
              "      <td>1</td>\n",
              "      <td>0</td>\n",
              "      <td>0</td>\n",
              "      <td>0</td>\n",
              "      <td>0</td>\n",
              "      <td>0</td>\n",
              "      <td>0</td>\n",
              "      <td>0</td>\n",
              "      <td>0</td>\n",
              "      <td>0</td>\n",
              "      <td>...</td>\n",
              "      <td>0</td>\n",
              "      <td>0</td>\n",
              "      <td>0</td>\n",
              "      <td>0</td>\n",
              "      <td>0</td>\n",
              "      <td>0</td>\n",
              "      <td>0</td>\n",
              "      <td>0</td>\n",
              "      <td>0</td>\n",
              "      <td>0</td>\n",
              "    </tr>\n",
              "    <tr>\n",
              "      <th>3.0</th>\n",
              "      <td>1</td>\n",
              "      <td>0</td>\n",
              "      <td>0</td>\n",
              "      <td>0</td>\n",
              "      <td>0</td>\n",
              "      <td>0</td>\n",
              "      <td>0</td>\n",
              "      <td>0</td>\n",
              "      <td>0</td>\n",
              "      <td>0</td>\n",
              "      <td>...</td>\n",
              "      <td>0</td>\n",
              "      <td>0</td>\n",
              "      <td>0</td>\n",
              "      <td>0</td>\n",
              "      <td>0</td>\n",
              "      <td>0</td>\n",
              "      <td>0</td>\n",
              "      <td>0</td>\n",
              "      <td>0</td>\n",
              "      <td>0</td>\n",
              "    </tr>\n",
              "    <tr>\n",
              "      <th>4.0</th>\n",
              "      <td>3</td>\n",
              "      <td>2</td>\n",
              "      <td>0</td>\n",
              "      <td>0</td>\n",
              "      <td>0</td>\n",
              "      <td>0</td>\n",
              "      <td>0</td>\n",
              "      <td>0</td>\n",
              "      <td>0</td>\n",
              "      <td>0</td>\n",
              "      <td>...</td>\n",
              "      <td>0</td>\n",
              "      <td>0</td>\n",
              "      <td>0</td>\n",
              "      <td>0</td>\n",
              "      <td>0</td>\n",
              "      <td>0</td>\n",
              "      <td>0</td>\n",
              "      <td>0</td>\n",
              "      <td>0</td>\n",
              "      <td>0</td>\n",
              "    </tr>\n",
              "    <tr>\n",
              "      <th>...</th>\n",
              "      <td>...</td>\n",
              "      <td>...</td>\n",
              "      <td>...</td>\n",
              "      <td>...</td>\n",
              "      <td>...</td>\n",
              "      <td>...</td>\n",
              "      <td>...</td>\n",
              "      <td>...</td>\n",
              "      <td>...</td>\n",
              "      <td>...</td>\n",
              "      <td>...</td>\n",
              "      <td>...</td>\n",
              "      <td>...</td>\n",
              "      <td>...</td>\n",
              "      <td>...</td>\n",
              "      <td>...</td>\n",
              "      <td>...</td>\n",
              "      <td>...</td>\n",
              "      <td>...</td>\n",
              "      <td>...</td>\n",
              "      <td>...</td>\n",
              "    </tr>\n",
              "    <tr>\n",
              "      <th>960086.0</th>\n",
              "      <td>0</td>\n",
              "      <td>0</td>\n",
              "      <td>0</td>\n",
              "      <td>0</td>\n",
              "      <td>0</td>\n",
              "      <td>0</td>\n",
              "      <td>0</td>\n",
              "      <td>0</td>\n",
              "      <td>0</td>\n",
              "      <td>0</td>\n",
              "      <td>...</td>\n",
              "      <td>0</td>\n",
              "      <td>0</td>\n",
              "      <td>0</td>\n",
              "      <td>0</td>\n",
              "      <td>0</td>\n",
              "      <td>1</td>\n",
              "      <td>0</td>\n",
              "      <td>0</td>\n",
              "      <td>0</td>\n",
              "      <td>0</td>\n",
              "    </tr>\n",
              "    <tr>\n",
              "      <th>1065472.0</th>\n",
              "      <td>0</td>\n",
              "      <td>0</td>\n",
              "      <td>0</td>\n",
              "      <td>0</td>\n",
              "      <td>0</td>\n",
              "      <td>0</td>\n",
              "      <td>0</td>\n",
              "      <td>0</td>\n",
              "      <td>0</td>\n",
              "      <td>0</td>\n",
              "      <td>...</td>\n",
              "      <td>0</td>\n",
              "      <td>0</td>\n",
              "      <td>0</td>\n",
              "      <td>0</td>\n",
              "      <td>1</td>\n",
              "      <td>0</td>\n",
              "      <td>0</td>\n",
              "      <td>0</td>\n",
              "      <td>0</td>\n",
              "      <td>0</td>\n",
              "    </tr>\n",
              "    <tr>\n",
              "      <th>1135781.0</th>\n",
              "      <td>0</td>\n",
              "      <td>0</td>\n",
              "      <td>0</td>\n",
              "      <td>0</td>\n",
              "      <td>0</td>\n",
              "      <td>0</td>\n",
              "      <td>0</td>\n",
              "      <td>0</td>\n",
              "      <td>0</td>\n",
              "      <td>0</td>\n",
              "      <td>...</td>\n",
              "      <td>1</td>\n",
              "      <td>0</td>\n",
              "      <td>0</td>\n",
              "      <td>0</td>\n",
              "      <td>0</td>\n",
              "      <td>0</td>\n",
              "      <td>0</td>\n",
              "      <td>0</td>\n",
              "      <td>0</td>\n",
              "      <td>0</td>\n",
              "    </tr>\n",
              "    <tr>\n",
              "      <th>1298762.0</th>\n",
              "      <td>0</td>\n",
              "      <td>0</td>\n",
              "      <td>0</td>\n",
              "      <td>0</td>\n",
              "      <td>0</td>\n",
              "      <td>0</td>\n",
              "      <td>0</td>\n",
              "      <td>0</td>\n",
              "      <td>0</td>\n",
              "      <td>0</td>\n",
              "      <td>...</td>\n",
              "      <td>0</td>\n",
              "      <td>0</td>\n",
              "      <td>0</td>\n",
              "      <td>0</td>\n",
              "      <td>0</td>\n",
              "      <td>0</td>\n",
              "      <td>0</td>\n",
              "      <td>1</td>\n",
              "      <td>0</td>\n",
              "      <td>0</td>\n",
              "    </tr>\n",
              "    <tr>\n",
              "      <th>1957155.0</th>\n",
              "      <td>0</td>\n",
              "      <td>0</td>\n",
              "      <td>0</td>\n",
              "      <td>0</td>\n",
              "      <td>0</td>\n",
              "      <td>0</td>\n",
              "      <td>0</td>\n",
              "      <td>0</td>\n",
              "      <td>0</td>\n",
              "      <td>0</td>\n",
              "      <td>...</td>\n",
              "      <td>0</td>\n",
              "      <td>0</td>\n",
              "      <td>0</td>\n",
              "      <td>0</td>\n",
              "      <td>0</td>\n",
              "      <td>0</td>\n",
              "      <td>0</td>\n",
              "      <td>0</td>\n",
              "      <td>0</td>\n",
              "      <td>1</td>\n",
              "    </tr>\n",
              "  </tbody>\n",
              "</table>\n",
              "<p>11889 rows × 7227 columns</p>\n",
              "</div>\n",
              "      <button class=\"colab-df-convert\" onclick=\"convertToInteractive('df-bef673c2-b953-407c-8c92-a0a4b20ebc87')\"\n",
              "              title=\"Convert this dataframe to an interactive table.\"\n",
              "              style=\"display:none;\">\n",
              "        \n",
              "  <svg xmlns=\"http://www.w3.org/2000/svg\" height=\"24px\"viewBox=\"0 0 24 24\"\n",
              "       width=\"24px\">\n",
              "    <path d=\"M0 0h24v24H0V0z\" fill=\"none\"/>\n",
              "    <path d=\"M18.56 5.44l.94 2.06.94-2.06 2.06-.94-2.06-.94-.94-2.06-.94 2.06-2.06.94zm-11 1L8.5 8.5l.94-2.06 2.06-.94-2.06-.94L8.5 2.5l-.94 2.06-2.06.94zm10 10l.94 2.06.94-2.06 2.06-.94-2.06-.94-.94-2.06-.94 2.06-2.06.94z\"/><path d=\"M17.41 7.96l-1.37-1.37c-.4-.4-.92-.59-1.43-.59-.52 0-1.04.2-1.43.59L10.3 9.45l-7.72 7.72c-.78.78-.78 2.05 0 2.83L4 21.41c.39.39.9.59 1.41.59.51 0 1.02-.2 1.41-.59l7.78-7.78 2.81-2.81c.8-.78.8-2.07 0-2.86zM5.41 20L4 18.59l7.72-7.72 1.47 1.35L5.41 20z\"/>\n",
              "  </svg>\n",
              "      </button>\n",
              "      \n",
              "  <style>\n",
              "    .colab-df-container {\n",
              "      display:flex;\n",
              "      flex-wrap:wrap;\n",
              "      gap: 12px;\n",
              "    }\n",
              "\n",
              "    .colab-df-convert {\n",
              "      background-color: #E8F0FE;\n",
              "      border: none;\n",
              "      border-radius: 50%;\n",
              "      cursor: pointer;\n",
              "      display: none;\n",
              "      fill: #1967D2;\n",
              "      height: 32px;\n",
              "      padding: 0 0 0 0;\n",
              "      width: 32px;\n",
              "    }\n",
              "\n",
              "    .colab-df-convert:hover {\n",
              "      background-color: #E2EBFA;\n",
              "      box-shadow: 0px 1px 2px rgba(60, 64, 67, 0.3), 0px 1px 3px 1px rgba(60, 64, 67, 0.15);\n",
              "      fill: #174EA6;\n",
              "    }\n",
              "\n",
              "    [theme=dark] .colab-df-convert {\n",
              "      background-color: #3B4455;\n",
              "      fill: #D2E3FC;\n",
              "    }\n",
              "\n",
              "    [theme=dark] .colab-df-convert:hover {\n",
              "      background-color: #434B5C;\n",
              "      box-shadow: 0px 1px 3px 1px rgba(0, 0, 0, 0.15);\n",
              "      filter: drop-shadow(0px 1px 2px rgba(0, 0, 0, 0.3));\n",
              "      fill: #FFFFFF;\n",
              "    }\n",
              "  </style>\n",
              "\n",
              "      <script>\n",
              "        const buttonEl =\n",
              "          document.querySelector('#df-bef673c2-b953-407c-8c92-a0a4b20ebc87 button.colab-df-convert');\n",
              "        buttonEl.style.display =\n",
              "          google.colab.kernel.accessAllowed ? 'block' : 'none';\n",
              "\n",
              "        async function convertToInteractive(key) {\n",
              "          const element = document.querySelector('#df-bef673c2-b953-407c-8c92-a0a4b20ebc87');\n",
              "          const dataTable =\n",
              "            await google.colab.kernel.invokeFunction('convertToInteractive',\n",
              "                                                     [key], {});\n",
              "          if (!dataTable) return;\n",
              "\n",
              "          const docLinkHtml = 'Like what you see? Visit the ' +\n",
              "            '<a target=\"_blank\" href=https://colab.research.google.com/notebooks/data_table.ipynb>data table notebook</a>'\n",
              "            + ' to learn more about interactive tables.';\n",
              "          element.innerHTML = '';\n",
              "          dataTable['output_type'] = 'display_data';\n",
              "          await google.colab.output.renderOutput(dataTable, element);\n",
              "          const docLink = document.createElement('div');\n",
              "          docLink.innerHTML = docLinkHtml;\n",
              "          element.appendChild(docLink);\n",
              "        }\n",
              "      </script>\n",
              "    </div>\n",
              "  </div>\n",
              "  "
            ]
          },
          "metadata": {},
          "execution_count": 45
        }
      ]
    },
    {
      "cell_type": "code",
      "source": [
        "from scipy.stats import chi2_contingency\n",
        "c, p, dof, expected = chi2_contingency(contigency)\n",
        "p"
      ],
      "metadata": {
        "colab": {
          "base_uri": "https://localhost:8080/"
        },
        "id": "aGuKHgAc9KPw",
        "outputId": "42cbe42e-9a46-4c19-d38e-b35ac6bfdff7"
      },
      "execution_count": 46,
      "outputs": [
        {
          "output_type": "execute_result",
          "data": {
            "text/plain": [
              "0.0"
            ]
          },
          "metadata": {},
          "execution_count": 46
        }
      ]
    },
    {
      "cell_type": "code",
      "source": [
        "#тест фишера\n",
        "\n",
        "x = np.random.binomial(1, 0.4, size=600)\n",
        "y = np.random.binomial(1, 0.8, size=600)\n",
        "sps.fisher_exact(pd.crosstab(x, y)), sps.fisher_exact(pd.crosstab(x, 2 * x + 3))"
      ],
      "metadata": {
        "colab": {
          "base_uri": "https://localhost:8080/"
        },
        "id": "f9WblTqp9MjJ",
        "outputId": "05f1c466-ce00-4e8f-e77e-57d30c120218"
      },
      "execution_count": 38,
      "outputs": [
        {
          "output_type": "execute_result",
          "data": {
            "text/plain": [
              "((0.9086491739552964, 0.6755926648923829), (inf, 6.832813729163991e-174))"
            ]
          },
          "metadata": {},
          "execution_count": 38
        }
      ]
    },
    {
      "cell_type": "code",
      "source": [
        "from statsmodels.stats.contingency_tables import mcnemar\n",
        "x = np.random.binomial(1, 0.4, size=1000)\n",
        "y = np.random.binomial(1, 0.4, size=1000)\n",
        "print(mcnemar(pd.crosstab(x, y), exact=False))"
      ],
      "metadata": {
        "colab": {
          "base_uri": "https://localhost:8080/"
        },
        "id": "jSTaNfFx9Uu9",
        "outputId": "8243ee15-07a0-4cef-b53a-48e8c1ef719c"
      },
      "execution_count": 48,
      "outputs": [
        {
          "output_type": "stream",
          "name": "stdout",
          "text": [
            "pvalue      0.8558725986602864\n",
            "statistic   0.032989690721649485\n"
          ]
        }
      ]
    },
    {
      "cell_type": "code",
      "source": [
        "from cmh import CMH\n",
        "\n",
        "d = pd.DataFrame()\n",
        "d['str'] = np.random.binomial(1, 0.8, 1000)\n",
        "d['x'] = np.random.binomial(1, 0.4, 1000)\n",
        "d['y'] = np.random.binomial(1, 0.4, 1000)\n",
        "CMH(d, 'x', 'y', 'str')"
      ],
      "metadata": {
        "colab": {
          "base_uri": "https://localhost:8080/",
          "height": 0
        },
        "id": "NkOFd3FT90RE",
        "outputId": "e3014839-7474-4a1d-dfca-d70db41b58a6"
      },
      "execution_count": 5,
      "outputs": [
        {
          "output_type": "execute_result",
          "data": {
            "text/plain": [
              "\n",
              "        Cochran-Mantel-Haenszel Chi2 test\n",
              "\n",
              "\"x\" x \"y\", stratified by \"str\"\n",
              "\n",
              "Cochran-Mantel-Haenszel M^2 = 0.54484, dof = 1, p-value = 0.4604"
            ],
            "text/html": [
              "\n",
              "        <div style=\"\n",
              "            background-color: #efefef;\n",
              "            border: 1px solid #cfcfcf;\n",
              "            padding: 5px;\"\n",
              "            >\n",
              "            \n",
              "        <div style=\"font-family: courier; font-size: 10pt; padding: 0px 10px;\">\n",
              "            <div style=\"text-align:center\">\n",
              "                Cochran-Mantel-Haenszel Chi&#x00B2; test\n",
              "            </div>\n",
              "\n",
              "            <div>\n",
              "                <b>x</b> x <b>y</b>,\n",
              "                stratified by <b>str</b>\n",
              "            </div>\n",
              "            <div>\n",
              "                Cochran-Mantel-Haenszel\n",
              "                    M^2 = 0.54484,\n",
              "                    dof = 1,\n",
              "                    p-value = <b>0.4604</b>\n",
              "            </div>\n",
              "        </div>\n",
              "        \n",
              "        </div>\n",
              "        "
            ]
          },
          "metadata": {},
          "execution_count": 5
        }
      ]
    },
    {
      "cell_type": "markdown",
      "source": [
        "#10 ЗАДАНИЕ"
      ],
      "metadata": {
        "id": "PhOrcfsk_PPT"
      }
    },
    {
      "cell_type": "code",
      "source": [
        "d = data[['AK-47_Shots', 'AK-47_Kills', 'AWP_Shots', 'AWP_Kills']]"
      ],
      "metadata": {
        "id": "7KxM2x96_RWH"
      },
      "execution_count": 7,
      "outputs": []
    },
    {
      "cell_type": "code",
      "source": [
        "corr = d.corr()\n",
        "corr.style.background_gradient(cmap='coolwarm')"
      ],
      "metadata": {
        "colab": {
          "base_uri": "https://localhost:8080/",
          "height": 0
        },
        "id": "AxJbg4VB_qDY",
        "outputId": "94e8aa54-ac58-423c-8fd4-c5b505b406e2"
      },
      "execution_count": 8,
      "outputs": [
        {
          "output_type": "execute_result",
          "data": {
            "text/plain": [
              "<pandas.io.formats.style.Styler at 0x7f214486ac50>"
            ],
            "text/html": [
              "<style type=\"text/css\">\n",
              "#T_81753_row0_col0, #T_81753_row1_col1, #T_81753_row2_col2, #T_81753_row3_col3 {\n",
              "  background-color: #b40426;\n",
              "  color: #f1f1f1;\n",
              "}\n",
              "#T_81753_row0_col1 {\n",
              "  background-color: #cd423b;\n",
              "  color: #f1f1f1;\n",
              "}\n",
              "#T_81753_row0_col2, #T_81753_row0_col3 {\n",
              "  background-color: #3e51c5;\n",
              "  color: #f1f1f1;\n",
              "}\n",
              "#T_81753_row1_col0 {\n",
              "  background-color: #cf453c;\n",
              "  color: #f1f1f1;\n",
              "}\n",
              "#T_81753_row1_col2, #T_81753_row1_col3, #T_81753_row2_col0, #T_81753_row2_col1 {\n",
              "  background-color: #3b4cc0;\n",
              "  color: #f1f1f1;\n",
              "}\n",
              "#T_81753_row2_col3 {\n",
              "  background-color: #da5a49;\n",
              "  color: #f1f1f1;\n",
              "}\n",
              "#T_81753_row3_col0 {\n",
              "  background-color: #4961d2;\n",
              "  color: #f1f1f1;\n",
              "}\n",
              "#T_81753_row3_col1 {\n",
              "  background-color: #4a63d3;\n",
              "  color: #f1f1f1;\n",
              "}\n",
              "#T_81753_row3_col2 {\n",
              "  background-color: #d95847;\n",
              "  color: #f1f1f1;\n",
              "}\n",
              "</style>\n",
              "<table id=\"T_81753_\" class=\"dataframe\">\n",
              "  <thead>\n",
              "    <tr>\n",
              "      <th class=\"blank level0\" >&nbsp;</th>\n",
              "      <th class=\"col_heading level0 col0\" >AK-47_Shots</th>\n",
              "      <th class=\"col_heading level0 col1\" >AK-47_Kills</th>\n",
              "      <th class=\"col_heading level0 col2\" >AWP_Shots</th>\n",
              "      <th class=\"col_heading level0 col3\" >AWP_Kills</th>\n",
              "    </tr>\n",
              "  </thead>\n",
              "  <tbody>\n",
              "    <tr>\n",
              "      <th id=\"T_81753_level0_row0\" class=\"row_heading level0 row0\" >AK-47_Shots</th>\n",
              "      <td id=\"T_81753_row0_col0\" class=\"data row0 col0\" >1.000000</td>\n",
              "      <td id=\"T_81753_row0_col1\" class=\"data row0 col1\" >0.938537</td>\n",
              "      <td id=\"T_81753_row0_col2\" class=\"data row0 col2\" >0.172106</td>\n",
              "      <td id=\"T_81753_row0_col3\" class=\"data row0 col3\" >0.213585</td>\n",
              "    </tr>\n",
              "    <tr>\n",
              "      <th id=\"T_81753_level0_row1\" class=\"row_heading level0 row1\" >AK-47_Kills</th>\n",
              "      <td id=\"T_81753_row1_col0\" class=\"data row1 col0\" >0.938537</td>\n",
              "      <td id=\"T_81753_row1_col1\" class=\"data row1 col1\" >1.000000</td>\n",
              "      <td id=\"T_81753_row1_col2\" class=\"data row1 col2\" >0.159578</td>\n",
              "      <td id=\"T_81753_row1_col3\" class=\"data row1 col3\" >0.203351</td>\n",
              "    </tr>\n",
              "    <tr>\n",
              "      <th id=\"T_81753_level0_row2\" class=\"row_heading level0 row2\" >AWP_Shots</th>\n",
              "      <td id=\"T_81753_row2_col0\" class=\"data row2 col0\" >0.172106</td>\n",
              "      <td id=\"T_81753_row2_col1\" class=\"data row2 col1\" >0.159578</td>\n",
              "      <td id=\"T_81753_row2_col2\" class=\"data row2 col2\" >1.000000</td>\n",
              "      <td id=\"T_81753_row2_col3\" class=\"data row2 col3\" >0.907071</td>\n",
              "    </tr>\n",
              "    <tr>\n",
              "      <th id=\"T_81753_level0_row3\" class=\"row_heading level0 row3\" >AWP_Kills</th>\n",
              "      <td id=\"T_81753_row3_col0\" class=\"data row3 col0\" >0.213585</td>\n",
              "      <td id=\"T_81753_row3_col1\" class=\"data row3 col1\" >0.203351</td>\n",
              "      <td id=\"T_81753_row3_col2\" class=\"data row3 col2\" >0.907071</td>\n",
              "      <td id=\"T_81753_row3_col3\" class=\"data row3 col3\" >1.000000</td>\n",
              "    </tr>\n",
              "  </tbody>\n",
              "</table>\n"
            ]
          },
          "metadata": {},
          "execution_count": 8
        }
      ]
    },
    {
      "cell_type": "code",
      "source": [
        "from patsy import dmatrices\n",
        "from statsmodels.stats.outliers_influence import variance_inflation_factor"
      ],
      "metadata": {
        "id": "qexGGnqEAThF"
      },
      "execution_count": 6,
      "outputs": []
    },
    {
      "cell_type": "code",
      "source": [
        "data['AK47Shots'] = data['AK-47_Shots']\n",
        "data['AK47Kills'] = data['AK-47_Kills']\n",
        "data['AWPShots'] = data['AWP_Shots']\n",
        "data['AWPKills'] = data['AWP_Kills']\n",
        "\n",
        "Y, X = dmatrices('Difficulty~AK47Shots+AK47Kills+AWPShots+AWPKills', data=data, return_type='dataframe')\n",
        "ans = pd.DataFrame()\n",
        "ans['variable'] = X.columns\n",
        "ans['VIF'] = [variance_inflation_factor(X.values, i) for i in range(X.shape[1])]\n",
        "print(ans)"
      ],
      "metadata": {
        "colab": {
          "base_uri": "https://localhost:8080/"
        },
        "id": "r-n6BWb8AjwQ",
        "outputId": "c7382a80-3a98-4325-8022-ee200c099cc4"
      },
      "execution_count": 11,
      "outputs": [
        {
          "output_type": "stream",
          "name": "stdout",
          "text": [
            "    variable       VIF\n",
            "0  Intercept  1.126062\n",
            "1  AK47Shots  8.432036\n",
            "2  AK47Kills  8.401886\n",
            "3   AWPShots  5.663968\n",
            "4   AWPKills  5.759146\n"
          ]
        }
      ]
    },
    {
      "cell_type": "markdown",
      "source": [
        "Вывод: Все переменные с VIF > 5 сильно зависят от остальных переменных."
      ],
      "metadata": {
        "id": "OBzHHYRz9Iqq"
      }
    },
    {
      "cell_type": "markdown",
      "source": [
        "#11 ЗАДАНИЕ\n"
      ],
      "metadata": {
        "id": "9djz24wXCN2s"
      }
    },
    {
      "cell_type": "code",
      "source": [
        "a = data[data['AK-47_Shots'] == 500]['AK-47_Kills']\n",
        "b = data[data['AK-47_Shots'] == 600]['AK-47_Kills'][:len(a)]\n",
        "\n",
        "stats.f_oneway(a, b)"
      ],
      "metadata": {
        "colab": {
          "base_uri": "https://localhost:8080/"
        },
        "id": "fUSKm2mKCPoC",
        "outputId": "87d4ebe0-d41e-4e1c-90b9-074c4233f03e"
      },
      "execution_count": 18,
      "outputs": [
        {
          "output_type": "execute_result",
          "data": {
            "text/plain": [
              "F_onewayResult(statistic=1.842274808894461, pvalue=0.3075586489103534)"
            ]
          },
          "metadata": {},
          "execution_count": 18
        }
      ]
    },
    {
      "cell_type": "markdown",
      "source": [
        "Видим, что в среднем игроки внезависимости от числа выстрелов из АК-47 делают одинаковое число фрагов."
      ],
      "metadata": {
        "id": "jEYbyVcC8mPx"
      }
    },
    {
      "cell_type": "markdown",
      "source": [
        "#12 ЗАДАНИЕ"
      ],
      "metadata": {
        "id": "Y4O_tlnCWf3j"
      }
    },
    {
      "cell_type": "code",
      "source": [
        "x = np.array(data['AK-47_Shots'])\n",
        "y = np.array(data['AK-47_Kills'])"
      ],
      "metadata": {
        "id": "L7UtBr8RZ4Ui"
      },
      "execution_count": 41,
      "outputs": []
    },
    {
      "cell_type": "code",
      "source": [
        "sns.histplot(x)"
      ],
      "metadata": {
        "colab": {
          "base_uri": "https://localhost:8080/",
          "height": 0
        },
        "id": "-soaug99i6UO",
        "outputId": "88b01179-2ed0-4284-f81e-15b329fb0636"
      },
      "execution_count": 50,
      "outputs": [
        {
          "output_type": "execute_result",
          "data": {
            "text/plain": [
              "<matplotlib.axes._subplots.AxesSubplot at 0x7f3b49baea90>"
            ]
          },
          "metadata": {},
          "execution_count": 50
        },
        {
          "output_type": "display_data",
          "data": {
            "text/plain": [
              "<Figure size 432x288 with 1 Axes>"
            ],
            "image/png": "[encoded data removed]"
          },
          "metadata": {
            "needs_background": "light"
          }
        }
      ]
    },
    {
      "cell_type": "code",
      "source": [
        "model = LinearRegression()\n",
        "X = np.array([x]).T\n",
        "model.fit(X, y)\n",
        "\n",
        "x_new = np.array([np.linspace(0, 2e6, 1000)]).T\n",
        "y_new = model.predict(x_new)\n",
        "plt.scatter(X, y, color='gray')\n",
        "plt.plot(x_new, y_new)\n",
        "print(model.score(X, y))"
      ],
      "metadata": {
        "colab": {
          "base_uri": "https://localhost:8080/",
          "height": 0
        },
        "id": "3oliVeXCWih4",
        "outputId": "53d4102a-93e3-403d-abaa-96d31fc634ec"
      },
      "execution_count": 71,
      "outputs": [
        {
          "output_type": "stream",
          "name": "stdout",
          "text": [
            "0.8808511958612744\n"
          ]
        },
        {
          "output_type": "display_data",
          "data": {
            "text/plain": [
              "<Figure size 432x288 with 1 Axes>"
            ],
            "image/png": "[encoded data removed]"
          },
          "metadata": {
            "needs_background": "light"
          }
        }
      ]
    },
    {
      "cell_type": "code",
      "source": [
        "np.linspace(0, 100, 1001)"
      ],
      "metadata": {
        "colab": {
          "base_uri": "https://localhost:8080/"
        },
        "id": "7gUUBOtMktaU",
        "outputId": "42fc963b-7c6c-40be-bfb4-99ee2e81b24c"
      },
      "execution_count": 64,
      "outputs": [
        {
          "output_type": "execute_result",
          "data": {
            "text/plain": [
              "array([  0. ,   0.1,   0.2, ...,  99.8,  99.9, 100. ])"
            ]
          },
          "metadata": {},
          "execution_count": 64
        }
      ]
    },
    {
      "cell_type": "code",
      "source": [
        "quad = PolynomialFeatures(degree=2)\n",
        "X_quad = quad.fit_transform(X)\n",
        "x_new = np.array([np.linspace(0, 2e6, 1000)]).T\n",
        "\n",
        "model.fit(X_quad, y)\n",
        "ans = model.predict(quad.fit_transform(x_new))\n",
        "plt.scatter(X, y, color='gray')\n",
        "plt.plot(x_new, ans, label='quadratic regression')\n",
        "print(model.score(X_quad, y))"
      ],
      "metadata": {
        "colab": {
          "base_uri": "https://localhost:8080/",
          "height": 0
        },
        "id": "Xiuh0LIXw4ke",
        "outputId": "285d358f-c858-4263-8f52-a0ccd1340f15"
      },
      "execution_count": 68,
      "outputs": [
        {
          "output_type": "stream",
          "name": "stdout",
          "text": [
            "0.8887727091283346\n"
          ]
        },
        {
          "output_type": "display_data",
          "data": {
            "text/plain": [
              "<Figure size 432x288 with 1 Axes>"
            ],
            "image/png": "[encoded data removed]"
          },
          "metadata": {
            "needs_background": "light"
          }
        }
      ]
    },
    {
      "cell_type": "code",
      "source": [
        "quad = PolynomialFeatures(degree=3)\n",
        "X_quad = quad.fit_transform(X)\n",
        "x_new = np.array([np.linspace(0, 2e6, 1000)]).T\n",
        "\n",
        "model.fit(X_quad, y)\n",
        "ans = model.predict(quad.fit_transform(x_new))\n",
        "plt.scatter(X, y, color='gray')\n",
        "plt.plot(x_new, ans, label='quadratic regression')\n",
        "print(model.score(X_quad, y))"
      ],
      "metadata": {
        "colab": {
          "base_uri": "https://localhost:8080/",
          "height": 0
        },
        "id": "L-FTHdYMw5g1",
        "outputId": "a9d0f4b9-5c5f-486d-cf30-b2140dbe1cad"
      },
      "execution_count": 69,
      "outputs": [
        {
          "output_type": "stream",
          "name": "stdout",
          "text": [
            "0.9012603060904956\n"
          ]
        },
        {
          "output_type": "display_data",
          "data": {
            "text/plain": [
              "<Figure size 432x288 with 1 Axes>"
            ],
            "image/png": "[encoded data removed]"
          },
          "metadata": {
            "needs_background": "light"
          }
        }
      ]
    },
    {
      "cell_type": "markdown",
      "source": [
        "**Видно, что зависимость у данных линейная, так как даже нелинейные регрессии дали предсказание очень близкое к предсказанию линейной.**\n",
        "Учитывая то, какую задачу мы рассматриваем, вполне логичным является факт, что число фрагов(kills) линейно зависит от числа выстрелов."
      ],
      "metadata": {
        "id": "osfJGpPaymZj"
      }
    }
  ]
}