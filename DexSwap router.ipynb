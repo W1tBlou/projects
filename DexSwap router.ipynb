{
  "cells": [
    {
      "cell_type": "markdown",
      "source": [
        "#DEXSWAP Router"
      ],
      "metadata": {
        "id": "DzBJEATErDTC"
      },
      "id": "DzBJEATErDTC"
    },
    {
      "cell_type": "markdown",
      "id": "9d5e7e44",
      "metadata": {
        "id": "9d5e7e44"
      },
      "source": [
        "## REST API"
      ]
    },
    {
      "cell_type": "code",
      "execution_count": null,
      "id": "21a9ea63",
      "metadata": {
        "id": "21a9ea63"
      },
      "outputs": [],
      "source": [
        "!pip3 install requests"
      ]
    },
    {
      "cell_type": "code",
      "execution_count": null,
      "id": "9a361899",
      "metadata": {
        "id": "9a361899"
      },
      "outputs": [],
      "source": [
        "import requests"
      ]
    },
    {
      "cell_type": "code",
      "execution_count": null,
      "id": "2e4508f4",
      "metadata": {
        "id": "2e4508f4",
        "outputId": "12db0331-e56f-42bb-9cbc-9e4f880237c7"
      },
      "outputs": [
        {
          "data": {
            "text/plain": [
              "<Response [200]>"
            ]
          },
          "execution_count": 2,
          "metadata": {},
          "output_type": "execute_result"
        }
      ],
      "source": [
        "response = requests.get('https://google.com')\n",
        "response"
      ]
    },
    {
      "cell_type": "code",
      "execution_count": null,
      "id": "41c61581",
      "metadata": {
        "id": "41c61581",
        "outputId": "315e5e93-631a-48ee-d072-1270b4cd62ca"
      },
      "outputs": [
        {
          "data": {
            "text/plain": [
              "'<!doctype html><html'"
            ]
          },
          "execution_count": 3,
          "metadata": {},
          "output_type": "execute_result"
        }
      ],
      "source": [
        "response.text[:20]"
      ]
    },
    {
      "cell_type": "markdown",
      "id": "06f273eb",
      "metadata": {
        "id": "06f273eb"
      },
      "source": [
        "## Web3.py"
      ]
    },
    {
      "cell_type": "code",
      "execution_count": null,
      "id": "f5a3eaeb",
      "metadata": {
        "colab": {
          "base_uri": "https://localhost:8080/"
        },
        "id": "f5a3eaeb",
        "outputId": "2c62bab2-963b-49c7-af8b-3df0f12005b8"
      },
      "outputs": [
        {
          "output_type": "stream",
          "name": "stdout",
          "text": [
            "Collecting web3\n",
            "  Downloading web3-6.20.1-py3-none-any.whl (1.6 MB)\n",
            "\u001b[2K     \u001b[90m━━━━━━━━━━━━━━━━━━━━━━━━━━━━━━━━━━━━━━━━\u001b[0m \u001b[32m1.6/1.6 MB\u001b[0m \u001b[31m6.6 MB/s\u001b[0m eta \u001b[36m0:00:00\u001b[0m\n",
            "\u001b[?25hRequirement already satisfied: aiohttp>=3.7.4.post0 in /usr/local/lib/python3.10/dist-packages (from web3) (3.9.5)\n",
            "Collecting eth-abi>=4.0.0 (from web3)\n",
            "  Downloading eth_abi-5.1.0-py3-none-any.whl (29 kB)\n",
            "Collecting eth-account<0.13,>=0.8.0 (from web3)\n",
            "  Downloading eth_account-0.12.3-py3-none-any.whl (355 kB)\n",
            "\u001b[2K     \u001b[90m━━━━━━━━━━━━━━━━━━━━━━━━━━━━━━━━━━━━━━━━\u001b[0m \u001b[32m356.0/356.0 kB\u001b[0m \u001b[31m12.6 MB/s\u001b[0m eta \u001b[36m0:00:00\u001b[0m\n",
            "\u001b[?25hCollecting eth-hash[pycryptodome]>=0.5.1 (from web3)\n",
            "  Downloading eth_hash-0.7.0-py3-none-any.whl (8.7 kB)\n",
            "Collecting eth-typing!=4.2.0,>=3.0.0 (from web3)\n",
            "  Downloading eth_typing-4.4.0-py3-none-any.whl (19 kB)\n",
            "Collecting eth-utils>=2.1.0 (from web3)\n",
            "  Downloading eth_utils-4.1.1-py3-none-any.whl (96 kB)\n",
            "\u001b[2K     \u001b[90m━━━━━━━━━━━━━━━━━━━━━━━━━━━━━━━━━━━━━━━━\u001b[0m \u001b[32m96.0/96.0 kB\u001b[0m \u001b[31m4.5 MB/s\u001b[0m eta \u001b[36m0:00:00\u001b[0m\n",
            "\u001b[?25hCollecting hexbytes<0.4.0,>=0.1.0 (from web3)\n",
            "  Downloading hexbytes-0.3.1-py3-none-any.whl (5.9 kB)\n",
            "Requirement already satisfied: jsonschema>=4.0.0 in /usr/local/lib/python3.10/dist-packages (from web3) (4.19.2)\n",
            "Collecting lru-dict<1.3.0,>=1.1.6 (from web3)\n",
            "  Downloading lru_dict-1.2.0-cp310-cp310-manylinux_2_5_x86_64.manylinux1_x86_64.manylinux_2_17_x86_64.manylinux2014_x86_64.whl (28 kB)\n",
            "Collecting protobuf>=4.21.6 (from web3)\n",
            "  Downloading protobuf-5.27.2-cp38-abi3-manylinux2014_x86_64.whl (309 kB)\n",
            "\u001b[2K     \u001b[90m━━━━━━━━━━━━━━━━━━━━━━━━━━━━━━━━━━━━━━━━\u001b[0m \u001b[32m309.3/309.3 kB\u001b[0m \u001b[31m5.8 MB/s\u001b[0m eta \u001b[36m0:00:00\u001b[0m\n",
            "\u001b[?25hRequirement already satisfied: requests>=2.16.0 in /usr/local/lib/python3.10/dist-packages (from web3) (2.31.0)\n",
            "Requirement already satisfied: typing-extensions>=4.0.1 in /usr/local/lib/python3.10/dist-packages (from web3) (4.12.2)\n",
            "Collecting websockets>=10.0.0 (from web3)\n",
            "  Downloading websockets-12.0-cp310-cp310-manylinux_2_5_x86_64.manylinux1_x86_64.manylinux_2_17_x86_64.manylinux2014_x86_64.whl (130 kB)\n",
            "\u001b[2K     \u001b[90m━━━━━━━━━━━━━━━━━━━━━━━━━━━━━━━━━━━━━━━━\u001b[0m \u001b[32m130.2/130.2 kB\u001b[0m \u001b[31m4.3 MB/s\u001b[0m eta \u001b[36m0:00:00\u001b[0m\n",
            "\u001b[?25hCollecting pyunormalize>=15.0.0 (from web3)\n",
            "  Downloading pyunormalize-15.1.0.tar.gz (515 kB)\n",
            "\u001b[2K     \u001b[90m━━━━━━━━━━━━━━━━━━━━━━━━━━━━━━━━━━━━━━━━\u001b[0m \u001b[32m515.5/515.5 kB\u001b[0m \u001b[31m16.0 MB/s\u001b[0m eta \u001b[36m0:00:00\u001b[0m\n",
            "\u001b[?25h  Preparing metadata (setup.py) ... \u001b[?25l\u001b[?25hdone\n",
            "Requirement already satisfied: aiosignal>=1.1.2 in /usr/local/lib/python3.10/dist-packages (from aiohttp>=3.7.4.post0->web3) (1.3.1)\n",
            "Requirement already satisfied: attrs>=17.3.0 in /usr/local/lib/python3.10/dist-packages (from aiohttp>=3.7.4.post0->web3) (23.2.0)\n",
            "Requirement already satisfied: frozenlist>=1.1.1 in /usr/local/lib/python3.10/dist-packages (from aiohttp>=3.7.4.post0->web3) (1.4.1)\n",
            "Requirement already satisfied: multidict<7.0,>=4.5 in /usr/local/lib/python3.10/dist-packages (from aiohttp>=3.7.4.post0->web3) (6.0.5)\n",
            "Requirement already satisfied: yarl<2.0,>=1.0 in /usr/local/lib/python3.10/dist-packages (from aiohttp>=3.7.4.post0->web3) (1.9.4)\n",
            "Requirement already satisfied: async-timeout<5.0,>=4.0 in /usr/local/lib/python3.10/dist-packages (from aiohttp>=3.7.4.post0->web3) (4.0.3)\n",
            "Collecting parsimonious<0.11.0,>=0.10.0 (from eth-abi>=4.0.0->web3)\n",
            "  Downloading parsimonious-0.10.0-py3-none-any.whl (48 kB)\n",
            "\u001b[2K     \u001b[90m━━━━━━━━━━━━━━━━━━━━━━━━━━━━━━━━━━━━━━━━\u001b[0m \u001b[32m48.4/48.4 kB\u001b[0m \u001b[31m3.2 MB/s\u001b[0m eta \u001b[36m0:00:00\u001b[0m\n",
            "\u001b[?25hCollecting bitarray>=2.4.0 (from eth-account<0.13,>=0.8.0->web3)\n",
            "  Downloading bitarray-2.9.2-cp310-cp310-manylinux_2_17_x86_64.manylinux2014_x86_64.whl (288 kB)\n",
            "\u001b[2K     \u001b[90m━━━━━━━━━━━━━━━━━━━━━━━━━━━━━━━━━━━━━━━━\u001b[0m \u001b[32m288.3/288.3 kB\u001b[0m \u001b[31m2.3 MB/s\u001b[0m eta \u001b[36m0:00:00\u001b[0m\n",
            "\u001b[?25hCollecting eth-keyfile>=0.6.0 (from eth-account<0.13,>=0.8.0->web3)\n",
            "  Downloading eth_keyfile-0.8.1-py3-none-any.whl (7.5 kB)\n",
            "Collecting eth-keys>=0.4.0 (from eth-account<0.13,>=0.8.0->web3)\n",
            "  Downloading eth_keys-0.5.1-py3-none-any.whl (21 kB)\n",
            "Collecting eth-rlp>=2.1.0 (from eth-account<0.13,>=0.8.0->web3)\n",
            "  Downloading eth_rlp-2.1.0-py3-none-any.whl (5.1 kB)\n",
            "INFO: pip is looking at multiple versions of eth-account to determine which version is compatible with other requirements. This could take a while.\n",
            "Collecting eth-account<0.13,>=0.8.0 (from web3)\n",
            "  Downloading eth_account-0.12.2-py3-none-any.whl (355 kB)\n",
            "\u001b[2K     \u001b[90m━━━━━━━━━━━━━━━━━━━━━━━━━━━━━━━━━━━━━━━━\u001b[0m \u001b[32m355.7/355.7 kB\u001b[0m \u001b[31m23.2 MB/s\u001b[0m eta \u001b[36m0:00:00\u001b[0m\n",
            "\u001b[?25h  Downloading eth_account-0.12.1-py3-none-any.whl (355 kB)\n",
            "\u001b[2K     \u001b[90m━━━━━━━━━━━━━━━━━━━━━━━━━━━━━━━━━━━━━━━━\u001b[0m \u001b[32m355.1/355.1 kB\u001b[0m \u001b[31m11.2 MB/s\u001b[0m eta \u001b[36m0:00:00\u001b[0m\n",
            "\u001b[?25h  Downloading eth_account-0.12.0-py3-none-any.whl (354 kB)\n",
            "\u001b[2K     \u001b[90m━━━━━━━━━━━━━━━━━━━━━━━━━━━━━━━━━━━━━━━━\u001b[0m \u001b[32m354.9/354.9 kB\u001b[0m \u001b[31m15.8 MB/s\u001b[0m eta \u001b[36m0:00:00\u001b[0m\n",
            "\u001b[?25h  Downloading eth_account-0.11.2-py3-none-any.whl (355 kB)\n",
            "\u001b[2K     \u001b[90m━━━━━━━━━━━━━━━━━━━━━━━━━━━━━━━━━━━━━━━━\u001b[0m \u001b[32m355.4/355.4 kB\u001b[0m \u001b[31m14.7 MB/s\u001b[0m eta \u001b[36m0:00:00\u001b[0m\n",
            "\u001b[?25hCollecting rlp>=1.0.0 (from eth-account<0.13,>=0.8.0->web3)\n",
            "  Downloading rlp-4.0.1-py3-none-any.whl (20 kB)\n",
            "Collecting ckzg>=0.4.3 (from eth-account<0.13,>=0.8.0->web3)\n",
            "  Downloading ckzg-1.0.2-cp310-cp310-manylinux_2_17_x86_64.manylinux2014_x86_64.whl (139 kB)\n",
            "\u001b[2K     \u001b[90m━━━━━━━━━━━━━━━━━━━━━━━━━━━━━━━━━━━━━━━━\u001b[0m \u001b[32m139.8/139.8 kB\u001b[0m \u001b[31m6.9 MB/s\u001b[0m eta \u001b[36m0:00:00\u001b[0m\n",
            "\u001b[?25hCollecting pycryptodome<4,>=3.6.6 (from eth-hash[pycryptodome]>=0.5.1->web3)\n",
            "  Downloading pycryptodome-3.20.0-cp35-abi3-manylinux_2_17_x86_64.manylinux2014_x86_64.whl (2.1 MB)\n",
            "\u001b[2K     \u001b[90m━━━━━━━━━━━━━━━━━━━━━━━━━━━━━━━━━━━━━━━━\u001b[0m \u001b[32m2.1/2.1 MB\u001b[0m \u001b[31m24.8 MB/s\u001b[0m eta \u001b[36m0:00:00\u001b[0m\n",
            "\u001b[?25hCollecting cytoolz>=0.10.1 (from eth-utils>=2.1.0->web3)\n",
            "  Downloading cytoolz-0.12.3-cp310-cp310-manylinux_2_17_x86_64.manylinux2014_x86_64.whl (2.0 MB)\n",
            "\u001b[2K     \u001b[90m━━━━━━━━━━━━━━━━━━━━━━━━━━━━━━━━━━━━━━━━\u001b[0m \u001b[32m2.0/2.0 MB\u001b[0m \u001b[31m32.2 MB/s\u001b[0m eta \u001b[36m0:00:00\u001b[0m\n",
            "\u001b[?25hRequirement already satisfied: jsonschema-specifications>=2023.03.6 in /usr/local/lib/python3.10/dist-packages (from jsonschema>=4.0.0->web3) (2023.12.1)\n",
            "Requirement already satisfied: referencing>=0.28.4 in /usr/local/lib/python3.10/dist-packages (from jsonschema>=4.0.0->web3) (0.35.1)\n",
            "Requirement already satisfied: rpds-py>=0.7.1 in /usr/local/lib/python3.10/dist-packages (from jsonschema>=4.0.0->web3) (0.19.0)\n",
            "Requirement already satisfied: charset-normalizer<4,>=2 in /usr/local/lib/python3.10/dist-packages (from requests>=2.16.0->web3) (3.3.2)\n",
            "Requirement already satisfied: idna<4,>=2.5 in /usr/local/lib/python3.10/dist-packages (from requests>=2.16.0->web3) (3.7)\n",
            "Requirement already satisfied: urllib3<3,>=1.21.1 in /usr/local/lib/python3.10/dist-packages (from requests>=2.16.0->web3) (2.0.7)\n",
            "Requirement already satisfied: certifi>=2017.4.17 in /usr/local/lib/python3.10/dist-packages (from requests>=2.16.0->web3) (2024.7.4)\n",
            "Requirement already satisfied: toolz>=0.8.0 in /usr/local/lib/python3.10/dist-packages (from cytoolz>=0.10.1->eth-utils>=2.1.0->web3) (0.12.1)\n",
            "INFO: pip is looking at multiple versions of eth-rlp to determine which version is compatible with other requirements. This could take a while.\n",
            "Collecting eth-rlp>=0.3.0 (from eth-account<0.13,>=0.8.0->web3)\n",
            "  Downloading eth_rlp-2.0.0-py3-none-any.whl (5.1 kB)\n",
            "  Downloading eth_rlp-1.0.1-py3-none-any.whl (4.9 kB)\n",
            "Requirement already satisfied: regex>=2022.3.15 in /usr/local/lib/python3.10/dist-packages (from parsimonious<0.11.0,>=0.10.0->eth-abi>=4.0.0->web3) (2024.5.15)\n",
            "Building wheels for collected packages: pyunormalize\n",
            "  Building wheel for pyunormalize (setup.py) ... \u001b[?25l\u001b[?25hdone\n",
            "  Created wheel for pyunormalize: filename=pyunormalize-15.1.0-py3-none-any.whl size=516032 sha256=7a6b3794a117e7f096667785728353d3f53f347da933807bed23a24df0e0bffb\n",
            "  Stored in directory: /root/.cache/pip/wheels/b8/b6/c6/6fc11f58d3fd02f387cf3b18479bb5c6d4143995d0fa401622\n",
            "Successfully built pyunormalize\n",
            "Installing collected packages: lru-dict, ckzg, bitarray, websockets, pyunormalize, pycryptodome, protobuf, parsimonious, hexbytes, eth-typing, eth-hash, cytoolz, eth-utils, rlp, eth-keys, eth-abi, eth-rlp, eth-keyfile, eth-account, web3\n",
            "  Attempting uninstall: protobuf\n",
            "    Found existing installation: protobuf 3.20.3\n",
            "    Uninstalling protobuf-3.20.3:\n",
            "      Successfully uninstalled protobuf-3.20.3\n",
            "\u001b[31mERROR: pip's dependency resolver does not currently take into account all the packages that are installed. This behaviour is the source of the following dependency conflicts.\n",
            "cudf-cu12 24.4.1 requires protobuf<5,>=3.20, but you have protobuf 5.27.2 which is incompatible.\n",
            "google-ai-generativelanguage 0.6.6 requires protobuf!=3.20.0,!=3.20.1,!=4.21.0,!=4.21.1,!=4.21.2,!=4.21.3,!=4.21.4,!=4.21.5,<5.0.0dev,>=3.19.5, but you have protobuf 5.27.2 which is incompatible.\n",
            "google-cloud-aiplatform 1.59.0 requires protobuf!=3.20.0,!=3.20.1,!=4.21.0,!=4.21.1,!=4.21.2,!=4.21.3,!=4.21.4,!=4.21.5,<5.0.0dev,>=3.19.5, but you have protobuf 5.27.2 which is incompatible.\n",
            "google-cloud-bigquery-storage 2.25.0 requires protobuf!=3.20.0,!=3.20.1,!=4.21.0,!=4.21.1,!=4.21.2,!=4.21.3,!=4.21.4,!=4.21.5,<5.0.0dev,>=3.19.5, but you have protobuf 5.27.2 which is incompatible.\n",
            "google-cloud-bigtable 2.24.0 requires protobuf!=3.20.0,!=3.20.1,!=4.21.0,!=4.21.1,!=4.21.2,!=4.21.3,!=4.21.4,!=4.21.5,<5.0.0dev,>=3.19.5, but you have protobuf 5.27.2 which is incompatible.\n",
            "google-cloud-datastore 2.19.0 requires protobuf!=3.20.0,!=3.20.1,!=4.21.0,!=4.21.1,!=4.21.2,!=4.21.3,!=4.21.4,!=4.21.5,<5.0.0dev,>=3.19.5, but you have protobuf 5.27.2 which is incompatible.\n",
            "google-cloud-firestore 2.16.1 requires protobuf!=3.20.0,!=3.20.1,!=4.21.0,!=4.21.1,!=4.21.2,!=4.21.3,!=4.21.4,!=4.21.5,<5.0.0dev,>=3.19.5, but you have protobuf 5.27.2 which is incompatible.\n",
            "tensorflow 2.15.0 requires protobuf!=4.21.0,!=4.21.1,!=4.21.2,!=4.21.3,!=4.21.4,!=4.21.5,<5.0.0dev,>=3.20.3, but you have protobuf 5.27.2 which is incompatible.\n",
            "tensorflow-metadata 1.15.0 requires protobuf<4.21,>=3.20.3; python_version < \"3.11\", but you have protobuf 5.27.2 which is incompatible.\u001b[0m\u001b[31m\n",
            "\u001b[0mSuccessfully installed bitarray-2.9.2 ckzg-1.0.2 cytoolz-0.12.3 eth-abi-5.1.0 eth-account-0.11.2 eth-hash-0.7.0 eth-keyfile-0.8.1 eth-keys-0.5.1 eth-rlp-1.0.1 eth-typing-4.4.0 eth-utils-4.1.1 hexbytes-0.3.1 lru-dict-1.2.0 parsimonious-0.10.0 protobuf-5.27.2 pycryptodome-3.20.0 pyunormalize-15.1.0 rlp-4.0.1 web3-6.20.1 websockets-12.0\n",
            "Requirement already satisfied: pandas in /usr/local/lib/python3.10/dist-packages (2.0.3)\n",
            "Requirement already satisfied: python-dateutil>=2.8.2 in /usr/local/lib/python3.10/dist-packages (from pandas) (2.8.2)\n",
            "Requirement already satisfied: pytz>=2020.1 in /usr/local/lib/python3.10/dist-packages (from pandas) (2023.4)\n",
            "Requirement already satisfied: tzdata>=2022.1 in /usr/local/lib/python3.10/dist-packages (from pandas) (2024.1)\n",
            "Requirement already satisfied: numpy>=1.21.0 in /usr/local/lib/python3.10/dist-packages (from pandas) (1.25.2)\n",
            "Requirement already satisfied: six>=1.5 in /usr/local/lib/python3.10/dist-packages (from python-dateutil>=2.8.2->pandas) (1.16.0)\n"
          ]
        }
      ],
      "source": [
        "!pip3 install web3\n",
        "!pip3 install pandas"
      ]
    },
    {
      "cell_type": "code",
      "execution_count": null,
      "id": "45c07490",
      "metadata": {
        "id": "45c07490"
      },
      "outputs": [],
      "source": [
        "from web3 import Web3\n",
        "\n",
        "import pandas as pd"
      ]
    },
    {
      "cell_type": "code",
      "execution_count": null,
      "id": "88d4cf1b",
      "metadata": {
        "id": "88d4cf1b"
      },
      "outputs": [],
      "source": [
        "HTTP_PROVIDER = 'https://rpc.ankr.com/eth'"
      ]
    },
    {
      "cell_type": "code",
      "execution_count": null,
      "id": "a0ae86c6",
      "metadata": {
        "id": "a0ae86c6"
      },
      "outputs": [],
      "source": [
        "w3 = Web3(Web3.HTTPProvider(HTTP_PROVIDER))"
      ]
    },
    {
      "cell_type": "code",
      "execution_count": null,
      "id": "838ddcb6",
      "metadata": {
        "id": "838ddcb6"
      },
      "outputs": [],
      "source": [
        "w3.eth.block_number"
      ]
    },
    {
      "cell_type": "code",
      "execution_count": null,
      "id": "f8ab74b4",
      "metadata": {
        "colab": {
          "base_uri": "https://localhost:8080/"
        },
        "id": "f8ab74b4",
        "outputId": "4ffc1f32-26b7-46d9-8e7f-2ed3d0a83ac0"
      },
      "outputs": [
        {
          "output_type": "execute_result",
          "data": {
            "text/plain": [
              "3241377991"
            ]
          },
          "metadata": {},
          "execution_count": 6
        }
      ],
      "source": [
        "w3.eth.gas_price"
      ]
    },
    {
      "cell_type": "code",
      "execution_count": null,
      "id": "2e049647",
      "metadata": {
        "colab": {
          "base_uri": "https://localhost:8080/"
        },
        "id": "2e049647",
        "outputId": "bca41b75-98f9-41f4-e2f0-a7d26b89f572"
      },
      "outputs": [
        {
          "output_type": "execute_result",
          "data": {
            "text/plain": [
              "AttributeDict({'baseFeePerGas': 3711570167,\n",
              " 'blobGasUsed': 786432,\n",
              " 'difficulty': 0,\n",
              " 'excessBlobGas': 0,\n",
              " 'extraData': HexBytes('0x6265617665726275696c642e6f7267'),\n",
              " 'gasLimit': 30000000,\n",
              " 'gasUsed': 16449644,\n",
              " 'hash': HexBytes('0x2078f0a36c177c07f09b9a514b067dd5cd4be01d1cd92344bb1b9645a64292db'),\n",
              " 'logsBloom': HexBytes('0x55a7d4a9ad3183c4d2aa1146d93e5c29185f2ed39f53f9e6208d3ff4943599910a63b50448db07d0d5453801d4d0cf11de61c3e59813682313dee5601b2e298e6d4eedaa0a0c0faeea4672ef81fb35fe43cda2b743764e71716a05108ce41adb1f82ff900a6609f3f6ece69038282c41bf60b5218821be73b36f773c81db3b3100432ad5aa4dcee16ecf39612fa2b724054c6d87eff30a6d58af41e66a535390565434e5158228d59e5676df4df41df91e1696b3a96718052f320270977b807c9fee3cd7adcc7db850e99810493d98121e47a647d6419a94e5d50572d1d97e0e7b72ea560b8d8027322e978035881f02837fffb30c1b2af34119ba6338d29464'),\n",
              " 'miner': '0x95222290DD7278Aa3Ddd389Cc1E1d165CC4BAfe5',\n",
              " 'mixHash': HexBytes('0x34b38cb9620d5f75053325fd90540ed561760635c4c00e4b4ca6297747b9339c'),\n",
              " 'nonce': HexBytes('0x0000000000000000'),\n",
              " 'number': 20365542,\n",
              " 'parentBeaconBlockRoot': HexBytes('0xbda37094c09b4a4c098ce1cc6cec24883e403b4d609de66fa1a2e56af5c30731'),\n",
              " 'parentHash': HexBytes('0xf0fa7f3cbe4b20fec7370a9dcbfea5c446137eb37e7d2553296a8375f9ec9882'),\n",
              " 'receiptsRoot': HexBytes('0xb3ceb98065f6f514f8e76c5e2f8cf07314af33eb568df6da9ea46b1c0c5e556f'),\n",
              " 'sha3Uncles': HexBytes('0x1dcc4de8dec75d7aab85b567b6ccd41ad312451b948a7413f0a142fd40d49347'),\n",
              " 'size': 76191,\n",
              " 'stateRoot': HexBytes('0xd3d3c2d36ece3fa0ca5f9392d8d6bf627893dd5e12616def46a59fb71e6c1238'),\n",
              " 'timestamp': 1721693183,\n",
              " 'totalDifficulty': 58750003716598352816469,\n",
              " 'transactions': [HexBytes('0xa87d8ce1401cd0f108bcb7d75cbc55f9c0129ee02063967b82c6964f9b8ed1a0'),\n",
              "  HexBytes('0xdd63fd48c479493307d64fb75dd7455f97d4c166b814574c957704992b9f416c'),\n",
              "  HexBytes('0x0c8bc5bca029f46a124a3e70da25d15c081712b68efa742af9f9519d5200381a'),\n",
              "  HexBytes('0x30aafc1866ac07d7c5009b66aa492f81bf53d1c6cd861b4a5347d3fdd86e9b2b'),\n",
              "  HexBytes('0x19a8c08bd5b3418a2eb7a255e3ee98c0bf28a89aaf21396cb11e2eeabc57f49c'),\n",
              "  HexBytes('0x757659289dcf7a13ee71b19169a3172da06b397353872caa94966d09a9b02d02'),\n",
              "  HexBytes('0x4d797cca89b413a01369f36442e5e658a69ec6b5e35d146f7a33b8041323a084'),\n",
              "  HexBytes('0xee46d7b947a5f23c10a59b895b25dd41dc94e7f6c9ea116198afe87fb54663d5'),\n",
              "  HexBytes('0xf6a9e7e2f34aad21e11c2f6a694379e510b474d2b92087795c26323af0404b36'),\n",
              "  HexBytes('0xaf12e8bfcb34f122e984ac9c4964aac338e9bb7c5552dae3e87d0c5fe9616e77'),\n",
              "  HexBytes('0xbb49bf8dc5fdc415d4dcfb26f99a20d89c7346456e7362362c54d454eba83505'),\n",
              "  HexBytes('0xde2b19b0e8570a0adba7ff2ef879feaf2fedb9644013c8da383fe517ca43aba6'),\n",
              "  HexBytes('0x2bd3eeb1c28e09c34e91231969717cc5919bb9b405aa469afbbb9b4966e4ee71'),\n",
              "  HexBytes('0x299347c0ccc09af19c603b7bb98235da13650c1e9d877eff085a984107ece24f'),\n",
              "  HexBytes('0x8851d56e5ccbfdb34ebaf51a20142f1e7058618c8fae94308e664e970b8e4ba7'),\n",
              "  HexBytes('0xb59d09726360fe054d40fcd32d4e2ec39ed4128180c045cd2f08347c2f58c186'),\n",
              "  HexBytes('0x67ba683b8d95746fedf4a5c77c80586853f3f7da1294e03053cc87b68a97cf7e'),\n",
              "  HexBytes('0x79e2c0f1c10a3385905426e1627e5057e43e1bbe667fc570e06c4fd35948024b'),\n",
              "  HexBytes('0xadff84ae2a5f6ff4af7b23ad6f61f72b16c1e9b104a5c64c9f940c8bfc7c9b43'),\n",
              "  HexBytes('0xb0f9a70a158ba061a367bc37bdbc75f191d1d4bdcb712fb8a648cda3adb0e84f'),\n",
              "  HexBytes('0x0a0ad61715726a560eb5b3cd12b709bded8a24cf8fedde51561d61642fd6e518'),\n",
              "  HexBytes('0xfaaf75f8c927e3f71520792ef2b8eb9d8a6dd993f09b02cda70cc4c1af7dd785'),\n",
              "  HexBytes('0xc00fdce1c9a238d9875c5d96ac55ca9a6d459ae7b26dda0c21d26f7e3b8586f5'),\n",
              "  HexBytes('0xef0e88da25bf72dab9db4558ad47c4e31aba4d54384cbafc25435cb5ba551666'),\n",
              "  HexBytes('0xb5de98cf9469c1df9ab5c32bc793289bdafe99917c2ee188bcced2a02a5f1db6'),\n",
              "  HexBytes('0x5ec636cbb6324595e02fafcbddbeb4abdea01158400bcac0c78a503f679240d0'),\n",
              "  HexBytes('0xfbfeb547ffa0893374d86090af7e863df3a5466864f13fbaecebfa0c7e0c206a'),\n",
              "  HexBytes('0x5789b1ebd785eee2caa4a1aecf65cf16de97e5a17d4997b32b629e6a340141f1'),\n",
              "  HexBytes('0xdbf58fc5197a20052d3f4e3957192ea016e50a652830ec038d41f83919848664'),\n",
              "  HexBytes('0xad4513221f1216090f3755aa8910a4043678adf693677272ece626a265aab536'),\n",
              "  HexBytes('0x957a91e54e630aca48837731537e68f3de3cabf7143f46341f32babdb751ac70'),\n",
              "  HexBytes('0x552ad2f002755653922a7d078a158263f4bb44e559071a1b378cd07609f44ced'),\n",
              "  HexBytes('0x45b022755ba6278bb9f7c13928c3559a9cafd07296979e8be4f0a85ca7495e84'),\n",
              "  HexBytes('0xcefacf09e29090a507711b32bdd86a6726c29f27193475f286ef291eef3f5399'),\n",
              "  HexBytes('0x7b576fd603da3fe5ac72a709935b64fc1113423f308bd63131c2685e77503fc8'),\n",
              "  HexBytes('0x5459b71c3f332fc7f98b6cac94859eda72ee00bd8aa1b96e0d7ad2e8a032cf5a'),\n",
              "  HexBytes('0x15fbb0bafe2bd4640c9b6556281c46aaecf705ea5ad70afccb95be3ae4097267'),\n",
              "  HexBytes('0x122a465b79d132eba65d94bca3a114266f26db8b30bbcd870b60733164c30d27'),\n",
              "  HexBytes('0x92c8b7d4b52ed3a26bd50f98a9d50538765fd37dfa8db7352cf6d9aecd8cc0c9'),\n",
              "  HexBytes('0x4bf4b8666d1bda53dfc2f620d0ce08e1cf5bab9f491ecd9ad1b2d831e6f41719'),\n",
              "  HexBytes('0xba2594f56e45a1b4059b203956d01be7b2332510e10db615e4fb3deffc37a875'),\n",
              "  HexBytes('0x6b92577e60d29ae934f556522446e1394fec04874a14583428e87b7a86c1af9a'),\n",
              "  HexBytes('0xa5d18af37b91c1fd2c84dcdac6d3f97045a30278420ed46de10caaaaff52f45d'),\n",
              "  HexBytes('0x625d70f2b454064f6c58075a87f22d664a5a54223b0abc0e3c0af2fa3e02f29b'),\n",
              "  HexBytes('0x09d0e2bae2e3d2c717d8ca3034df7e21c3f2d369a7e72e6c193fe181732e334a'),\n",
              "  HexBytes('0x637f3301da32896ade2a93205ccabc56ef663b53fe311798f051b4d138fd43f8'),\n",
              "  HexBytes('0xd60676ecd9e076cbc17965f5640c7a150fe4040d490d257e2800c4e3af9e8eac'),\n",
              "  HexBytes('0x466b35e7056c62868588b2009402ba008d9fa0e0c36594238c7774410c277dff'),\n",
              "  HexBytes('0xca23b415e80564488c6081a072261aa7944e3b1443030ab5219f90bf3438ca11'),\n",
              "  HexBytes('0xa523ba8475b3e6c9c3fd2971e70d5844f6f1e0bb7aa2c4ad7b9eb269ce9666ec'),\n",
              "  HexBytes('0xb77e5a72e58f7aeb650bbabfa0afb40d7212cb6596ca247a9434b1f1cf75ac54'),\n",
              "  HexBytes('0xf4dccf1ad802216e38fc0b12bcc8a40d7f5220f091ed087153417d27f124d098'),\n",
              "  HexBytes('0x8f580b6a9e6e9e456ea25ce3e3124d7580b852057a5d5eb2b202dfb739e7763b'),\n",
              "  HexBytes('0x1e11e00bff2f61a02ec12567a6dcc26fc973d563954b2bcdf9b03126a7bb1543'),\n",
              "  HexBytes('0xd1ec14cb8a588a70fbcac69b5112d3e4237b380a13ff38a63f04916158b6560c'),\n",
              "  HexBytes('0x7a8446a3d5dc65baa4e51d502ef6cc153eff029508feb81fdc2d056b4592da29'),\n",
              "  HexBytes('0x7ed8d26a11981e6f374128bcfede49ff6a4fee6cdd6092d71951be2fe52fc20e'),\n",
              "  HexBytes('0xf0439e43d1936aa567395782347000093fd0fda6061cb75b0744ec2ad794b021'),\n",
              "  HexBytes('0x9168489aa08451a2ce3431d3cc7097692047ef10d5fb4bd7cc492d3b0ef339d7'),\n",
              "  HexBytes('0xbf01828a2856759fd4ffa9d0c11b573e39268c904f76e73b78d49b63d0d589aa'),\n",
              "  HexBytes('0x2e58b583afa09e803c8c124bdd1923057b52733bfc0dff110fbf383441d813cc'),\n",
              "  HexBytes('0x3017e13568e4de1a12b233af22ca6359a149d379205d7cea4541cb0430c8f6f0'),\n",
              "  HexBytes('0x5e29ce2dd3aeaf5c917b7dc2355d89ba266c9b3450c9d45a5bcdda196f0169c5'),\n",
              "  HexBytes('0xc708de7e5c12e2432e76406f83d1b2bc50400d62b2173cdb280c50956f0b1eab'),\n",
              "  HexBytes('0x9a8eec36f032cdca0a63d172956c9f8084cc467ed21e43da65725428e036d8a1'),\n",
              "  HexBytes('0x556e93be9dd4fd6f691d6622eabba0d7ee0a9eb59a92c64af064e4f0bf2dcdd0'),\n",
              "  HexBytes('0x2f6b60d5dcac97489e445d16a6a90d44f53fcebeb709a4bc3961b7e152f154c1'),\n",
              "  HexBytes('0x19858ba7d1477e3ca3be9e8ad60f34eb4684388887769c848a34f3566659dd59'),\n",
              "  HexBytes('0xcef0ab005b886a7ca71403f9fc63d5e792b74cd381a5a50ee8eb0d90a490df0b'),\n",
              "  HexBytes('0x73b164684412a742c15abc0acae220d0b187165ededae45a64e0de46338ab299'),\n",
              "  HexBytes('0x93f228c43fe096e7e811ad6461cf70be9b07e88defe975453f7d10cb376653d8'),\n",
              "  HexBytes('0x2c16af73557c247ddd3843a45525eab26472aa121a8a58c0efe6952aa033f2f8'),\n",
              "  HexBytes('0x339858dd47f719cd6d0b5f3f107648116c42f1587c3bce85f7d90fe4bebadbd1'),\n",
              "  HexBytes('0x14d2c6e9085d303fc0d5354db5874d95361ed08d8c46fcb0813cb949fc0ad69c'),\n",
              "  HexBytes('0x0e282e8aa338f7d2fc9ce1815279118ae485a5f0d8f10213abbf17a690915578'),\n",
              "  HexBytes('0xce0af7e18b4835e2584612a940dd4e8aa120ef8d50ced174cad41c2cd91eea48'),\n",
              "  HexBytes('0x70eee6fe0d507a4a8b564730bf0ca74e87a8a729ca877f979f5c6c85aeb67d4b'),\n",
              "  HexBytes('0x02b7c4851070c183272a081c68de99fef222384a2502c15876a2a0dbd80f08ff'),\n",
              "  HexBytes('0x291af55fa475c1de84bc66996cccda927ce352a020f8129f5839530f2b7a14e8'),\n",
              "  HexBytes('0x3fa6236222da72983bd783ec7935c410ae34ba42657c458c2089bbe4517e9890'),\n",
              "  HexBytes('0x7bdf4494979d26292dfe2ad6a9054a4e6efb9b4c150d14516ce416e54f87f76f'),\n",
              "  HexBytes('0xad0bf716da7fabe8d83dade280c25ddce5a9252c7750121a54c5594b9477107e'),\n",
              "  HexBytes('0x8882d91b4e1672662c23ab1723408efbe2093daf8b21a6d9118902c6d5042060'),\n",
              "  HexBytes('0x104151d14f5459be42d44fb22a0c7d0ddcf5d31d1e6542b6e5293a564bb979d2'),\n",
              "  HexBytes('0xf23e5eb4f73c53bcf4f86944d3f2b9d3a018df1f90352b6f877c906f6945a50b'),\n",
              "  HexBytes('0xe60677fa30ac513a51a81c6b60f08a6006994ef7f96848edfa88615431e7f5a5'),\n",
              "  HexBytes('0xa1373bc8ee53a2be4500cfd43b5dcc1715c54f3dcb33f00e3050c6aed12ecafe'),\n",
              "  HexBytes('0x21b179572368e85f2b0835000067ecfe600f08c046aa6f2f1c170d7d8095cdfc'),\n",
              "  HexBytes('0xeae112f9652b36c05f03723713b0b926daae169b47f23a162a8ead084a1521da'),\n",
              "  HexBytes('0x55ac950c19291708dd5465778b25eed39f8816e43d0a874b8b4c5690dd458929'),\n",
              "  HexBytes('0xd8ed07a6512413f24a5793c5e720191aa19fc1a5a165fed31ebcf8365cd12594'),\n",
              "  HexBytes('0x40685aabd991844ab1288c5992af90aaeb3ca08198fb7f33d53d53c0c80217f1'),\n",
              "  HexBytes('0x4c30406a4893c8daaaf516fd11e8db375b3026dfe5d13ed21d4cfe85665a76e4'),\n",
              "  HexBytes('0x259426ef6395746d1eed2716ae68bc5f5da988c2132c882cca8ffbda2110ba91'),\n",
              "  HexBytes('0xa04744991ac72a53f61416195087be543d5718394edfcf45b2249f09d17c6702'),\n",
              "  HexBytes('0xa5b6f6ad10fff19f5c57ab81f78efd55e0197cd813592b08f9266188dd551ded'),\n",
              "  HexBytes('0x049eb59513fd3ceee834c366e1fd292515652661470c19b7e04618831071f104'),\n",
              "  HexBytes('0xc77f237a51427fe89a05abd47714df223fe3ef1a9172b0a98e7c57e99a274674'),\n",
              "  HexBytes('0x7a27ed6472b00cdc1ee67ed8f2b53d48e5f792cce3cf09d4a7de0d3adcba8290'),\n",
              "  HexBytes('0xb907775df97eb9ff4e747f4357d2a2a7d55756bb46f0764079cb93c001576934'),\n",
              "  HexBytes('0x1e642304498753646bd1e6497155a166d79c5dde55472c105c29d35f908d0d26'),\n",
              "  HexBytes('0x30ec98bd45cebdc668d7c4443bfcbff551f6b3bd86a7ad6d78085d75b8e98b19'),\n",
              "  HexBytes('0xe340ae9da592c1e52f963897010e4a8d75afe52e3b2ef6c59c61d3aecc3abcea'),\n",
              "  HexBytes('0xd3ecd9e022c4249ac2af26a413070d5166b984e7cfa3b02958f3d4fda47e80e6'),\n",
              "  HexBytes('0x6405efbfb182bcc8799ce2b37a114b8bfbc8b99fd2cbe744ba59b83bac5b39f8'),\n",
              "  HexBytes('0xba49136e006a3b5424a416f60a60f0e301eebd3ea4f6eb6e76796274ac8e014e'),\n",
              "  HexBytes('0x9757bff775e5f135170c101cc1bcdd12f2664ae140243965411301d6b50fbb5a'),\n",
              "  HexBytes('0x67db6243e0ab678ab75cc43928cd4014184844257a518072dbd7d710f3e6a107'),\n",
              "  HexBytes('0xf6ea975000839636d6b62bbed7f0c56c5936c32b719f7496a02ffb4da25ea263'),\n",
              "  HexBytes('0x8c1261ed33597e50a14f75eb52d825efaa073981b7ef51a337f8f8099e4b50d4'),\n",
              "  HexBytes('0xf30da723c1c5ffc8f8c2fdd467dcd94cc3bb1bd989c26ec4441dab5bc09d50ac'),\n",
              "  HexBytes('0x2ab4feb794d40bcb2b4df5a7d2ecbd510b1ef69bd6eb057809c6eee088ca1e1b'),\n",
              "  HexBytes('0x9fe7804bfc71ad60e5557d65d03f0ef081174a9f83659eed5bd7a9c35fb12111'),\n",
              "  HexBytes('0xa4ccac56b12f6ff795326fdc141df9fbec776b21ce7b327d30fc3fbf9970158c'),\n",
              "  HexBytes('0x4e92e383198468f4a3918b94c5c74f56aa31194219a0d7a58e9f17d1992fcc3e'),\n",
              "  HexBytes('0x098273bd2ba829a9eb0d87ac02609804fda7043ad2492ed3c9889464991cd20b'),\n",
              "  HexBytes('0x1723b8a36ed42bebc09f3510ffdd5e1515eccf28ef94105a909b23ff391c3578'),\n",
              "  HexBytes('0x5c664c7d3db612d6391ac592c889aca92e90a054dfc8272c6ced5926cd9b68c4'),\n",
              "  HexBytes('0xf870a47f47a0f9f03463effa5f1806faffb69fc08b321a888ecfd031def3c3ba'),\n",
              "  HexBytes('0x6b97ccf1b8f1a40b92936bec383f9310af457cfaf482b34d2b72d7fe06f7f3ff'),\n",
              "  HexBytes('0xe2a140cdcc30e5af074c693b52d3303cdd236a67edbef65319dd99686913e5fd'),\n",
              "  HexBytes('0xe2dc2f6c6a7344de26f13e72225cce023257843bd17904658cd452f7a3ed917e'),\n",
              "  HexBytes('0x2824bc059f6ee294663ebc1adcdbd0c20b0465f8f635e5531e597be373064570'),\n",
              "  HexBytes('0x82f74edadcf05028251a286d79c4a6cf3968cc20db951751fbce20e15409ae96'),\n",
              "  HexBytes('0xaca522970b98c71d44f5679c1f207b5cef603a0b249f41c3d57c1dc25eedc500'),\n",
              "  HexBytes('0xabd315f1090c10fd096d57fd42a2d8e9222fffd14a840a0854da2cfb1fe65de8'),\n",
              "  HexBytes('0x5a504605d2038586b959e3a44abd7af182a88250659cd6a947fca049f3a21aca'),\n",
              "  HexBytes('0xde79de54eabaa2bcd232ee9a69d4681fa2c4704dac305a68245be9cb3bc257b8'),\n",
              "  HexBytes('0x28497f03b8bd56b216ac919d8c22934d9d512d9d96fc2ca05d425cc4fa43cd48'),\n",
              "  HexBytes('0x1f02c72a3581a6a1c27a5d93676ddc38a0b794201711b8b4f9812f3ddc11b0c2'),\n",
              "  HexBytes('0x4327d9570eb007a646d86fb334027a468fa35d6e4dd3409cf2c8ab26012a975c'),\n",
              "  HexBytes('0xdb14275155d08762b56013ac6897ec8053dc1db96c919c03b803690413ddb8a8'),\n",
              "  HexBytes('0x9ad648a8eb1321e7ab97d1401628f99d976a14a4f9cc6b789a9a5ac1c4e459f0'),\n",
              "  HexBytes('0x324fce21a8441217aa738852f5024a4cea063f7b88b2aa09a2b68a788219a53e'),\n",
              "  HexBytes('0x6456db8866b1d9a14f3bcd45ea73b47359ffc266d88a3c60fb2c2bf0f42ca2fc'),\n",
              "  HexBytes('0xe7fb3d28ccfe8d940e399598cb8bcc38be7e9daa6b5155f102ba2cb1ea1e8dd1'),\n",
              "  HexBytes('0x21ca4db15a1bb7fa3add6a26d0aaf76f17b02e87331f71aada09b582373ec371'),\n",
              "  HexBytes('0xf84c00ab6274707573d58c520ef07e61c417616f1e924a75d9dd6e466a07c992'),\n",
              "  HexBytes('0x3427f6e4385a57471da420c70517725130953094f53c148f1a986f8fcd324064'),\n",
              "  HexBytes('0x75fea381df385e56c8752fdfa50d67c1d7eb95f6d8cbb04f8843f7c1c23036a2')],\n",
              " 'transactionsRoot': HexBytes('0x9a5c65c3e7376706fe0c6cb2d4bc3d2368c7e963b568713d04b15cc5838b1850'),\n",
              " 'uncles': [],\n",
              " 'withdrawals': [AttributeDict({'index': 53289291,\n",
              "   'validatorIndex': 1373795,\n",
              "   'address': '0xB25FE78fAaEfadB7249B4940EE485856df150BBe',\n",
              "   'amount': 18697896}),\n",
              "  AttributeDict({'index': 53289292,\n",
              "   'validatorIndex': 1373796,\n",
              "   'address': '0xB25FE78fAaEfadB7249B4940EE485856df150BBe',\n",
              "   'amount': 18683806}),\n",
              "  AttributeDict({'index': 53289293,\n",
              "   'validatorIndex': 1373797,\n",
              "   'address': '0xB25FE78fAaEfadB7249B4940EE485856df150BBe',\n",
              "   'amount': 18602706}),\n",
              "  AttributeDict({'index': 53289294,\n",
              "   'validatorIndex': 1373798,\n",
              "   'address': '0xB25FE78fAaEfadB7249B4940EE485856df150BBe',\n",
              "   'amount': 18701062}),\n",
              "  AttributeDict({'index': 53289295,\n",
              "   'validatorIndex': 1373799,\n",
              "   'address': '0xB25FE78fAaEfadB7249B4940EE485856df150BBe',\n",
              "   'amount': 18627911}),\n",
              "  AttributeDict({'index': 53289296,\n",
              "   'validatorIndex': 1373800,\n",
              "   'address': '0xB25FE78fAaEfadB7249B4940EE485856df150BBe',\n",
              "   'amount': 18615760}),\n",
              "  AttributeDict({'index': 53289297,\n",
              "   'validatorIndex': 1373801,\n",
              "   'address': '0xB25FE78fAaEfadB7249B4940EE485856df150BBe',\n",
              "   'amount': 18659079}),\n",
              "  AttributeDict({'index': 53289298,\n",
              "   'validatorIndex': 1373802,\n",
              "   'address': '0xB25FE78fAaEfadB7249B4940EE485856df150BBe',\n",
              "   'amount': 18686048}),\n",
              "  AttributeDict({'index': 53289299,\n",
              "   'validatorIndex': 1373803,\n",
              "   'address': '0xB25FE78fAaEfadB7249B4940EE485856df150BBe',\n",
              "   'amount': 18669831}),\n",
              "  AttributeDict({'index': 53289300,\n",
              "   'validatorIndex': 1373804,\n",
              "   'address': '0xB25FE78fAaEfadB7249B4940EE485856df150BBe',\n",
              "   'amount': 18564258}),\n",
              "  AttributeDict({'index': 53289301,\n",
              "   'validatorIndex': 1373805,\n",
              "   'address': '0xB25FE78fAaEfadB7249B4940EE485856df150BBe',\n",
              "   'amount': 18704701}),\n",
              "  AttributeDict({'index': 53289302,\n",
              "   'validatorIndex': 1373806,\n",
              "   'address': '0xB25FE78fAaEfadB7249B4940EE485856df150BBe',\n",
              "   'amount': 18689929}),\n",
              "  AttributeDict({'index': 53289303,\n",
              "   'validatorIndex': 1373807,\n",
              "   'address': '0xB25FE78fAaEfadB7249B4940EE485856df150BBe',\n",
              "   'amount': 18610078}),\n",
              "  AttributeDict({'index': 53289304,\n",
              "   'validatorIndex': 1373808,\n",
              "   'address': '0xB25FE78fAaEfadB7249B4940EE485856df150BBe',\n",
              "   'amount': 18655650}),\n",
              "  AttributeDict({'index': 53289305,\n",
              "   'validatorIndex': 1373809,\n",
              "   'address': '0xB25FE78fAaEfadB7249B4940EE485856df150BBe',\n",
              "   'amount': 18660626}),\n",
              "  AttributeDict({'index': 53289306,\n",
              "   'validatorIndex': 1373810,\n",
              "   'address': '0xB25FE78fAaEfadB7249B4940EE485856df150BBe',\n",
              "   'amount': 18562256})],\n",
              " 'withdrawalsRoot': HexBytes('0x5dcfabdeb6ddc2dad3b358094d085eed40dcd7554e202b1f06d2915c140a360e')})"
            ]
          },
          "metadata": {},
          "execution_count": 7
        }
      ],
      "source": [
        "w3.eth.get_block('latest')"
      ]
    },
    {
      "cell_type": "code",
      "execution_count": null,
      "id": "0e547132",
      "metadata": {
        "colab": {
          "base_uri": "https://localhost:8080/"
        },
        "id": "0e547132",
        "outputId": "ec8823d4-6c32-4a6f-a72f-60ee61c6893e"
      },
      "outputs": [
        {
          "output_type": "execute_result",
          "data": {
            "text/plain": [
              "AttributeDict({'baseFeePerGas': 3756407295,\n",
              " 'blobGasUsed': 262144,\n",
              " 'difficulty': 0,\n",
              " 'excessBlobGas': 393216,\n",
              " 'extraData': HexBytes('0xd883010e06846765746888676f312e32322e35856c696e7578'),\n",
              " 'gasLimit': 30000000,\n",
              " 'gasUsed': 1000220,\n",
              " 'hash': None,\n",
              " 'logsBloom': HexBytes('0x002000040140020000000001801000001010000000100010000000000002000000002000000002000200020000000100220080000800000004008000002000000400500001000001080030088040002400010000000000000002000080000001000001000200000280080000000008200800000001410000001000100000000000000000000000000000000000000012000001810100006800020040003000000200000000002000080000c008000200010100000020010000000000000000080010000200000000040440400001800000002002000000100000000000a020000810a00400000008000000800000000004080000000000401000000000020000'),\n",
              " 'miner': None,\n",
              " 'mixHash': HexBytes('0x0000000000000000000000000000000000000000000000000000000000000000'),\n",
              " 'nonce': None,\n",
              " 'number': 20365543,\n",
              " 'parentHash': HexBytes('0x2078f0a36c177c07f09b9a514b067dd5cd4be01d1cd92344bb1b9645a64292db'),\n",
              " 'receiptsRoot': HexBytes('0x7481e2abd370a8b5741817ca063e53ed1b97df4d9bffb86f42e1c735c0db7423'),\n",
              " 'sha3Uncles': HexBytes('0x1dcc4de8dec75d7aab85b567b6ccd41ad312451b948a7413f0a142fd40d49347'),\n",
              " 'size': 4710,\n",
              " 'stateRoot': HexBytes('0x8c4d8dc27fdfb40b5d29457588b137bee7f7a901a63772d2833b158b954c4167'),\n",
              " 'timestamp': 1721693187,\n",
              " 'totalDifficulty': None,\n",
              " 'transactions': [HexBytes('0xc57402dc3ffeb963122abd059ccef0641d956cb29ad13e29ec510b71ec939888'),\n",
              "  HexBytes('0x4078e0912e7c6d1f06fa031fca100cab04e0621d88f4638cc5aa41bb3fd49095'),\n",
              "  HexBytes('0x53762875afa5a5051dd9bdded378bdde1400f19f723ce24ac40bc8f506003790'),\n",
              "  HexBytes('0x1dd09b0d4c96f707b9d548b843486ba6c7c06169408a4831bf171f7228075397'),\n",
              "  HexBytes('0x8cfacc52dbc0e204f9a3455e6268cc76a8d683c49df58d7a3d99238130134953'),\n",
              "  HexBytes('0xa94d1dbfcc86ff29acfb6c76684e304e1bcd14dcc04f1004c5e955c1ca380f6c'),\n",
              "  HexBytes('0x05e15743d2efc279c5f87600f4a0e478ef28e5000a9361998300b0418350934e'),\n",
              "  HexBytes('0xe841452fe85218ff2ab389317fae51cd70769fc101f6e8532ec7307ec098358f'),\n",
              "  HexBytes('0xee025b1f2572ce9eada67781d16331a993a577fb82cc411fc026719dd4936e9d'),\n",
              "  HexBytes('0x6da05ac209ae0d769cce05b732bd6650a343c50c6dbd7a3ecb444c699147a6fc'),\n",
              "  HexBytes('0xc7f922a23dc5670833586b7343a75f1d6c043a82641a9470849b942fd5bf4bbb'),\n",
              "  HexBytes('0xfdcd39858705a3d249444de99940f7d4922e8c4ad315185b4770c4cf4a31a81f'),\n",
              "  HexBytes('0x147e8305417a048834f25c7f4dfb5296e2e4b483294045a68e4c8ddf738ee11b')],\n",
              " 'transactionsRoot': HexBytes('0x1ceb912fbd1585084c9660d370beb5338f3990d24793a1c3a4e9a2e883024665'),\n",
              " 'uncles': [],\n",
              " 'withdrawals': [],\n",
              " 'withdrawalsRoot': HexBytes('0x56e81f171bcc55a6ff8345e692c0f86e5b48e01b996cadc001622fb5e363b421')})"
            ]
          },
          "metadata": {},
          "execution_count": 8
        }
      ],
      "source": [
        "w3.eth.get_block('pending') # pending/latest/earliest"
      ]
    },
    {
      "cell_type": "code",
      "execution_count": null,
      "id": "6a49e639",
      "metadata": {
        "colab": {
          "base_uri": "https://localhost:8080/"
        },
        "id": "6a49e639",
        "outputId": "e85af4e9-6586-41b7-e1c4-2807ebe08aa6"
      },
      "outputs": [
        {
          "output_type": "execute_result",
          "data": {
            "text/plain": [
              "AttributeDict({'blockHash': HexBytes('0x2f4bafdd8ae0e41387d65fa2d223bb94ddfd4e737d897cd13d3263cd0aefac31'),\n",
              " 'blockNumber': 15804103,\n",
              " 'from': '0x65A8F07Bd9A8598E1b5B6C0a88F4779DBC077675',\n",
              " 'gas': 196344,\n",
              " 'gasPrice': 18825633243,\n",
              " 'maxPriorityFeePerGas': 2500000000,\n",
              " 'maxFeePerGas': 20432660010,\n",
              " 'hash': HexBytes('0x9010a81c0e0ac4cb6c5fa4a1b06bfff94b317060e247aab847a78e37f3dffadf'),\n",
              " 'input': HexBytes('0xfb0a7a8e00000000000000000000000065a8f07bd9a8598e1b5b6c0a88f4779dbc077675000000000000000000000000000000000000000000000000a44ffb591ad6b04b00000000000000000000000000000000000000000000000000000000000000fa000000000000000000000000000000000000000000000000000000000000000100000000000000000000000000000000000000000000000000000000000000010000000000000000000000000000000000000000000000000000000000003f4600000000000000000000000000000000000000000000000000000000000001000000000000000000000000000000000000000000000000000000000000000160000000000000000000000000000000000000000000000000000000000000002401701220cd28dd49def63c2976bb2aa1882c2ccb279b4cc0f41232d0c87c69d904fbe571000000000000000000000000000000000000000000000000000000000000000000000000000000000000000000000000000000000000000000000001d5549cf1856a4a646f4c71b1f02ec9fae2fdf7a6a72bfd489ee0563630d3a37500000000000000000000000090b5de3420211a20fa6def30613c304c142413bb000000000000000000000000c7f5c0805b9dfc10266f0714cce0aed6402eed3c'),\n",
              " 'nonce': 33304,\n",
              " 'to': '0x7aB4C5738e39E613186AFFD4c50DbfDFF6c22065',\n",
              " 'transactionIndex': 50,\n",
              " 'value': 0,\n",
              " 'type': 2,\n",
              " 'accessList': [],\n",
              " 'chainId': 1,\n",
              " 'v': 0,\n",
              " 'yParity': 0,\n",
              " 'r': HexBytes('0x2ec6a2bfd27e56ed52e2cc662308d1aa0607f5b1d49fac755e74026f6782e418'),\n",
              " 's': HexBytes('0x7a5d577ff7a722b38122a02022439b301ad6369e68c86a5a8666e5881db90178')})"
            ]
          },
          "metadata": {},
          "execution_count": 9
        }
      ],
      "source": [
        "w3.eth.get_transaction('0x9010a81c0e0ac4cb6c5fa4a1b06bfff94b317060e247aab847a78e37f3dffadf')"
      ]
    },
    {
      "cell_type": "code",
      "execution_count": null,
      "id": "8cee08e6",
      "metadata": {
        "id": "8cee08e6",
        "outputId": "a304e4ea-d688-4448-b6ed-33652d13daad"
      },
      "outputs": [
        {
          "data": {
            "text/plain": [
              "73221970450379208707"
            ]
          },
          "execution_count": 12,
          "metadata": {},
          "output_type": "execute_result"
        }
      ],
      "source": [
        "vb = '0xAb5801a7D398351b8bE11C439e05C5B3259aeC9B'\n",
        "w3.eth.get_balance(vb)"
      ]
    },
    {
      "cell_type": "code",
      "execution_count": null,
      "id": "1a0d7bc1",
      "metadata": {
        "colab": {
          "base_uri": "https://localhost:8080/",
          "height": 186
        },
        "id": "1a0d7bc1",
        "outputId": "63177b3d-05df-44e9-ec56-7c1607c077f9"
      },
      "outputs": [
        {
          "output_type": "execute_result",
          "data": {
            "text/plain": [
              "web3._utils.datatypes.Contract"
            ],
            "text/html": [
              "<div style=\"max-width:800px; border: 1px solid var(--colab-border-color);\"><style>\n",
              "      pre.function-repr-contents {\n",
              "        overflow-x: auto;\n",
              "        padding: 8px 12px;\n",
              "        max-height: 500px;\n",
              "      }\n",
              "\n",
              "      pre.function-repr-contents.function-repr-contents-collapsed {\n",
              "        cursor: pointer;\n",
              "        max-height: 100px;\n",
              "      }\n",
              "    </style>\n",
              "    <pre style=\"white-space: initial; background:\n",
              "         var(--colab-secondary-surface-color); padding: 8px 12px;\n",
              "         border-bottom: 1px solid var(--colab-border-color);\"><b>web3._utils.datatypes.Contract</b><br/>def __init__(address: Optional[ChecksumAddress]=None) -&gt; None</pre><pre class=\"function-repr-contents function-repr-contents-collapsed\" style=\"\"><a class=\"filepath\" style=\"display:none\" href=\"#\">/usr/local/lib/python3.10/dist-packages/web3/_utils/datatypes.py</a>Base class for Contract proxy classes.\n",
              "\n",
              "First you need to create your Contract classes using\n",
              ":meth:`web3.eth.Eth.contract` that takes compiled Solidity contract\n",
              "ABI definitions as input.  The created class object will be a subclass of\n",
              "this base class.\n",
              "\n",
              "After you have your Contract proxy class created you can interact with\n",
              "smart contracts\n",
              "\n",
              "* Create a Contract proxy object for an existing deployed smart contract by\n",
              "  its address using :meth:`__init__`\n",
              "\n",
              "* Deploy a new smart contract using :py:meth:`Contract.constructor.transact()`</pre>\n",
              "      <script>\n",
              "      if (google.colab.kernel.accessAllowed && google.colab.files && google.colab.files.view) {\n",
              "        for (const element of document.querySelectorAll('.filepath')) {\n",
              "          element.style.display = 'block'\n",
              "          element.onclick = (event) => {\n",
              "            event.preventDefault();\n",
              "            event.stopPropagation();\n",
              "            google.colab.files.view(element.textContent, None);\n",
              "          };\n",
              "        }\n",
              "      }\n",
              "      for (const element of document.querySelectorAll('.function-repr-contents')) {\n",
              "        element.onclick = (event) => {\n",
              "          event.preventDefault();\n",
              "          event.stopPropagation();\n",
              "          element.classList.toggle('function-repr-contents-collapsed');\n",
              "        };\n",
              "      }\n",
              "      </script>\n",
              "      </div>"
            ]
          },
          "metadata": {},
          "execution_count": 10
        }
      ],
      "source": [
        "w3.eth.contract()"
      ]
    },
    {
      "cell_type": "markdown",
      "id": "6e01fd4e",
      "metadata": {
        "id": "6e01fd4e"
      },
      "source": [
        "### ERC20 token"
      ]
    },
    {
      "cell_type": "code",
      "execution_count": null,
      "id": "008c2e2e",
      "metadata": {
        "id": "008c2e2e"
      },
      "outputs": [],
      "source": [
        "class Contract:\n",
        "    \"\"\"\n",
        "    General contract interface\n",
        "    \"\"\"\n",
        "    def __init__(self, address: str, abi: str, node: Web3.HTTPProvider) -> None:\n",
        "        self.contract = node.eth.contract(address=address, abi=abi)\n",
        "\n",
        "    @property\n",
        "    def address(self) -> str:\n",
        "        return self.contract.address\n",
        "\n",
        "    @property\n",
        "    def abi(self) -> str:\n",
        "        return self.contract.abi"
      ]
    },
    {
      "cell_type": "code",
      "execution_count": null,
      "id": "4d3ace9d",
      "metadata": {
        "id": "4d3ace9d"
      },
      "outputs": [],
      "source": [
        "class ERC20(Contract):\n",
        "\n",
        "    def __init__(self, address: str, node: Web3.HTTPProvider) -> None:\n",
        "        super().__init__(address=address, abi=self.ERC20_ABI, node=node)\n",
        "\n",
        "    @property\n",
        "    def name(self) -> str:\n",
        "        return self.contract.functions.name().call()\n",
        "\n",
        "    @property\n",
        "    def total_supply(self) -> int:\n",
        "        return self.contract.functions.totalSupply().call()\n",
        "\n",
        "    @property\n",
        "    def decimals(self) -> int:\n",
        "        return self.contract.functions.decimals().call()\n",
        "\n",
        "    @property\n",
        "    def symbol(self) -> str:\n",
        "        return self.contract.functions.symbol().call()\n",
        "\n",
        "    def get_balance(self, address: str) -> int:\n",
        "        return self.contract.functions.balanceOf(address).call()\n",
        "\n",
        "\n",
        "    ERC20_ABI = \"\"\"\n",
        "    [\n",
        "    {\n",
        "        \"constant\": true,\n",
        "        \"inputs\": [],\n",
        "        \"name\": \"name\",\n",
        "        \"outputs\": [\n",
        "            {\n",
        "                \"name\": \"\",\n",
        "                \"type\": \"string\"\n",
        "            }\n",
        "        ],\n",
        "        \"payable\": false,\n",
        "        \"stateMutability\": \"view\",\n",
        "        \"type\": \"function\"\n",
        "    },\n",
        "    {\n",
        "        \"constant\": false,\n",
        "        \"inputs\": [\n",
        "            {\n",
        "                \"name\": \"_spender\",\n",
        "                \"type\": \"address\"\n",
        "            },\n",
        "            {\n",
        "                \"name\": \"_value\",\n",
        "                \"type\": \"uint256\"\n",
        "            }\n",
        "        ],\n",
        "        \"name\": \"approve\",\n",
        "        \"outputs\": [\n",
        "            {\n",
        "                \"name\": \"\",\n",
        "                \"type\": \"bool\"\n",
        "            }\n",
        "        ],\n",
        "        \"payable\": false,\n",
        "        \"stateMutability\": \"nonpayable\",\n",
        "        \"type\": \"function\"\n",
        "    },\n",
        "    {\n",
        "        \"constant\": true,\n",
        "        \"inputs\": [],\n",
        "        \"name\": \"totalSupply\",\n",
        "        \"outputs\": [\n",
        "            {\n",
        "                \"name\": \"\",\n",
        "                \"type\": \"uint256\"\n",
        "            }\n",
        "        ],\n",
        "        \"payable\": false,\n",
        "        \"stateMutability\": \"view\",\n",
        "        \"type\": \"function\"\n",
        "    },\n",
        "    {\n",
        "        \"constant\": false,\n",
        "        \"inputs\": [\n",
        "            {\n",
        "                \"name\": \"_from\",\n",
        "                \"type\": \"address\"\n",
        "            },\n",
        "            {\n",
        "                \"name\": \"_to\",\n",
        "                \"type\": \"address\"\n",
        "            },\n",
        "            {\n",
        "                \"name\": \"_value\",\n",
        "                \"type\": \"uint256\"\n",
        "            }\n",
        "        ],\n",
        "        \"name\": \"transferFrom\",\n",
        "        \"outputs\": [\n",
        "            {\n",
        "                \"name\": \"\",\n",
        "                \"type\": \"bool\"\n",
        "            }\n",
        "        ],\n",
        "        \"payable\": false,\n",
        "        \"stateMutability\": \"nonpayable\",\n",
        "        \"type\": \"function\"\n",
        "    },\n",
        "    {\n",
        "        \"constant\": true,\n",
        "        \"inputs\": [],\n",
        "        \"name\": \"decimals\",\n",
        "        \"outputs\": [\n",
        "            {\n",
        "                \"name\": \"\",\n",
        "                \"type\": \"uint8\"\n",
        "            }\n",
        "        ],\n",
        "        \"payable\": false,\n",
        "        \"stateMutability\": \"view\",\n",
        "        \"type\": \"function\"\n",
        "    },\n",
        "    {\n",
        "        \"constant\": true,\n",
        "        \"inputs\": [\n",
        "            {\n",
        "                \"name\": \"_owner\",\n",
        "                \"type\": \"address\"\n",
        "            }\n",
        "        ],\n",
        "        \"name\": \"balanceOf\",\n",
        "        \"outputs\": [\n",
        "            {\n",
        "                \"name\": \"balance\",\n",
        "                \"type\": \"uint256\"\n",
        "            }\n",
        "        ],\n",
        "        \"payable\": false,\n",
        "        \"stateMutability\": \"view\",\n",
        "        \"type\": \"function\"\n",
        "    },\n",
        "    {\n",
        "        \"constant\": true,\n",
        "        \"inputs\": [],\n",
        "        \"name\": \"symbol\",\n",
        "        \"outputs\": [\n",
        "            {\n",
        "                \"name\": \"\",\n",
        "                \"type\": \"string\"\n",
        "            }\n",
        "        ],\n",
        "        \"payable\": false,\n",
        "        \"stateMutability\": \"view\",\n",
        "        \"type\": \"function\"\n",
        "    },\n",
        "    {\n",
        "        \"constant\": false,\n",
        "        \"inputs\": [\n",
        "            {\n",
        "                \"name\": \"_to\",\n",
        "                \"type\": \"address\"\n",
        "            },\n",
        "            {\n",
        "                \"name\": \"_value\",\n",
        "                \"type\": \"uint256\"\n",
        "            }\n",
        "        ],\n",
        "        \"name\": \"transfer\",\n",
        "        \"outputs\": [\n",
        "            {\n",
        "                \"name\": \"\",\n",
        "                \"type\": \"bool\"\n",
        "            }\n",
        "        ],\n",
        "        \"payable\": false,\n",
        "        \"stateMutability\": \"nonpayable\",\n",
        "        \"type\": \"function\"\n",
        "    },\n",
        "    {\n",
        "        \"constant\": true,\n",
        "        \"inputs\": [\n",
        "            {\n",
        "                \"name\": \"_owner\",\n",
        "                \"type\": \"address\"\n",
        "            },\n",
        "            {\n",
        "                \"name\": \"_spender\",\n",
        "                \"type\": \"address\"\n",
        "            }\n",
        "        ],\n",
        "        \"name\": \"allowance\",\n",
        "        \"outputs\": [\n",
        "            {\n",
        "                \"name\": \"\",\n",
        "                \"type\": \"uint256\"\n",
        "            }\n",
        "        ],\n",
        "        \"payable\": false,\n",
        "        \"stateMutability\": \"view\",\n",
        "        \"type\": \"function\"\n",
        "    },\n",
        "    {\n",
        "        \"payable\": true,\n",
        "        \"stateMutability\": \"payable\",\n",
        "        \"type\": \"fallback\"\n",
        "    },\n",
        "    {\n",
        "        \"anonymous\": false,\n",
        "        \"inputs\": [\n",
        "            {\n",
        "                \"indexed\": true,\n",
        "                \"name\": \"owner\",\n",
        "                \"type\": \"address\"\n",
        "            },\n",
        "            {\n",
        "                \"indexed\": true,\n",
        "                \"name\": \"spender\",\n",
        "                \"type\": \"address\"\n",
        "            },\n",
        "            {\n",
        "                \"indexed\": false,\n",
        "                \"name\": \"value\",\n",
        "                \"type\": \"uint256\"\n",
        "            }\n",
        "        ],\n",
        "        \"name\": \"Approval\",\n",
        "        \"type\": \"event\"\n",
        "    },\n",
        "    {\n",
        "        \"anonymous\": false,\n",
        "        \"inputs\": [\n",
        "            {\n",
        "                \"indexed\": true,\n",
        "                \"name\": \"from\",\n",
        "                \"type\": \"address\"\n",
        "            },\n",
        "            {\n",
        "                \"indexed\": true,\n",
        "                \"name\": \"to\",\n",
        "                \"type\": \"address\"\n",
        "            },\n",
        "            {\n",
        "                \"indexed\": false,\n",
        "                \"name\": \"value\",\n",
        "                \"type\": \"uint256\"\n",
        "            }\n",
        "        ],\n",
        "        \"name\": \"Transfer\",\n",
        "        \"type\": \"event\"\n",
        "    }\n",
        "    ]\n",
        "    \"\"\""
      ]
    },
    {
      "cell_type": "code",
      "execution_count": null,
      "id": "baf4971f",
      "metadata": {
        "id": "baf4971f"
      },
      "outputs": [],
      "source": [
        "usdc = ERC20('0xA0b86991c6218b36c1d19D4a2e9Eb0cE3606eB48', node=w3)"
      ]
    },
    {
      "cell_type": "code",
      "execution_count": null,
      "id": "deaadffb",
      "metadata": {
        "colab": {
          "base_uri": "https://localhost:8080/"
        },
        "id": "deaadffb",
        "outputId": "c24948f6-3ff7-4e32-ae6e-bbe5f400857f"
      },
      "outputs": [
        {
          "output_type": "execute_result",
          "data": {
            "text/plain": [
              "[<Function name()>,\n",
              " <Function approve(address,uint256)>,\n",
              " <Function totalSupply()>,\n",
              " <Function transferFrom(address,address,uint256)>,\n",
              " <Function decimals()>,\n",
              " <Function balanceOf(address)>,\n",
              " <Function symbol()>,\n",
              " <Function transfer(address,uint256)>,\n",
              " <Function allowance(address,address)>]"
            ]
          },
          "metadata": {},
          "execution_count": 14
        }
      ],
      "source": [
        "usdc.contract.all_functions()"
      ]
    },
    {
      "cell_type": "code",
      "execution_count": null,
      "id": "84304f46",
      "metadata": {
        "id": "84304f46",
        "outputId": "7653ea9d-59f7-4f49-dca4-7bf3efd8a342"
      },
      "outputs": [
        {
          "data": {
            "text/plain": [
              "'USDC'"
            ]
          },
          "execution_count": 18,
          "metadata": {},
          "output_type": "execute_result"
        }
      ],
      "source": [
        "usdc.symbol"
      ]
    },
    {
      "cell_type": "code",
      "execution_count": null,
      "id": "5d59ae97",
      "metadata": {
        "id": "5d59ae97",
        "outputId": "5c103826-a6be-4d75-c8fc-4c46937b69d9"
      },
      "outputs": [
        {
          "data": {
            "text/plain": [
              "'USD Coin'"
            ]
          },
          "execution_count": 19,
          "metadata": {},
          "output_type": "execute_result"
        }
      ],
      "source": [
        "usdc.name"
      ]
    },
    {
      "cell_type": "code",
      "execution_count": null,
      "id": "5cce4bc7",
      "metadata": {
        "id": "5cce4bc7"
      },
      "outputs": [],
      "source": [
        "decimals = usdc.decimals"
      ]
    },
    {
      "cell_type": "code",
      "execution_count": null,
      "id": "5d3df7aa",
      "metadata": {
        "id": "5d3df7aa",
        "outputId": "61bf4acf-22de-4c10-a590-3372476e86e9"
      },
      "outputs": [
        {
          "data": {
            "text/plain": [
              "23193247339.452072"
            ]
          },
          "execution_count": 21,
          "metadata": {},
          "output_type": "execute_result"
        }
      ],
      "source": [
        "usdc.total_supply / 10**decimals"
      ]
    },
    {
      "cell_type": "code",
      "execution_count": null,
      "id": "0635c1f1",
      "metadata": {
        "id": "0635c1f1",
        "outputId": "a935ab30-bb31-461a-e52f-eb497c0df4c9"
      },
      "outputs": [
        {
          "data": {
            "text/plain": [
              "0.0"
            ]
          },
          "execution_count": 22,
          "metadata": {},
          "output_type": "execute_result"
        }
      ],
      "source": [
        "usdc.get_balance('0x27173bE75a32C748B3cD933591CdC2b866BF097c') / 10**decimals"
      ]
    },
    {
      "cell_type": "markdown",
      "id": "82fdbe0a",
      "metadata": {
        "id": "82fdbe0a"
      },
      "source": [
        "### DexSwap"
      ]
    },
    {
      "cell_type": "code",
      "execution_count": null,
      "id": "8d65ad98",
      "metadata": {
        "id": "8d65ad98"
      },
      "outputs": [],
      "source": [
        "import time\n",
        "\n",
        "from abc import ABC, abstractmethod\n",
        "from dataclasses import dataclass\n",
        "\n",
        "\n",
        "@dataclass\n",
        "class Token:\n",
        "    \"\"\"\n",
        "    Token data structure\n",
        "    \"\"\"\n",
        "    address: str\n",
        "    decimals: str\n",
        "    symbol: str\n",
        "    chain: str\n",
        "\n",
        "\n",
        "def symbol_to_token(symbol: str) -> Token:\n",
        "    tokens = {\n",
        "                'BUSD': Token('0xe9e7CEA3DedcA5984780Bafc599bD69ADd087D56', 18, 'BUSD', 'bsc'),\n",
        "                'USDT': Token('0x55d398326f99059fF775485246999027B3197955', 18, 'USDT', 'bsc'),\n",
        "             }\n",
        "    return tokens[symbol]"
      ]
    },
    {
      "cell_type": "code",
      "execution_count": null,
      "id": "8f535f05",
      "metadata": {
        "id": "8f535f05"
      },
      "outputs": [],
      "source": [
        "class DexConnector(ABC):\n",
        "    \"\"\"\n",
        "    Abstact Dex Connector\n",
        "    \"\"\"\n",
        "\n",
        "    def __init__(self, wallet_address: str, private_key: str, node: str, **kwargs):\n",
        "        self.private_key: str = private_key\n",
        "        self.wallet_address: str = wallet_address\n",
        "\n",
        "    def _make_transaction(self, transaction, **kwargs):\n",
        "        tx = transaction.build_transaction({\n",
        "                                            'nonce': self.w3.eth.get_transaction_count(self.wallet_address),\n",
        "                                            'gas': kwargs.get('gas', 2000000),\n",
        "                                            'gasPrice': int(kwargs.get('gasPrice', self.w3.eth.gas_price + 1000000))\n",
        "                                         })\n",
        "\n",
        "        signed_tx = self.w3.eth.account.sign_transaction(tx, private_key=self.private_key)\n",
        "        return self.w3.eth.send_raw_transaction(signed_tx.rawTransaction)\n",
        "\n",
        "    @abstractmethod\n",
        "    def make_market_order(self, ticker: str, side: str, quantity: float, **kwargs) -> dict:\n",
        "        \"\"\"\n",
        "        make_market_order: make market order\n",
        "        ticker: str Token0/Token1\n",
        "        side: str BUY | SELL\n",
        "        quantity: float size of Token0 to make side market order\n",
        "        \"\"\"\n",
        "        raise NotImplementedError()\n",
        "\n",
        "    @abstractmethod\n",
        "    def get_price(self, ticker: str, **kwargs) -> float:\n",
        "        \"\"\"\n",
        "        get_price: get market price using AMM\n",
        "        ticker: str Token0/Token1\n",
        "        \"\"\"\n",
        "        raise NotImplementedError()"
      ]
    },
    {
      "cell_type": "code",
      "execution_count": null,
      "id": "ceb7a4ee",
      "metadata": {
        "id": "ceb7a4ee"
      },
      "outputs": [],
      "source": [
        "class UniswapV2Connector(DexConnector):\n",
        "    \"\"\"\n",
        "    UniswapV2-like connector interface\n",
        "    \"\"\"\n",
        "\n",
        "    # UniV2 ABI\n",
        "    ABI = '[{\"inputs\":[{\"internalType\":\"address\",\"name\":\"_factory\",\"type\":\"address\"},{\"internalType\":\"address\",\"name\":\"_WETH\",\"type\":\"address\"}],\"stateMutability\":\"nonpayable\",\"type\":\"constructor\"},{\"inputs\":[],\"name\":\"WETH\",\"outputs\":[{\"internalType\":\"address\",\"name\":\"\",\"type\":\"address\"}],\"stateMutability\":\"view\",\"type\":\"function\"},{\"inputs\":[{\"internalType\":\"address\",\"name\":\"tokenA\",\"type\":\"address\"},{\"internalType\":\"address\",\"name\":\"tokenB\",\"type\":\"address\"},{\"internalType\":\"uint256\",\"name\":\"amountADesired\",\"type\":\"uint256\"},{\"internalType\":\"uint256\",\"name\":\"amountBDesired\",\"type\":\"uint256\"},{\"internalType\":\"uint256\",\"name\":\"amountAMin\",\"type\":\"uint256\"},{\"internalType\":\"uint256\",\"name\":\"amountBMin\",\"type\":\"uint256\"},{\"internalType\":\"address\",\"name\":\"to\",\"type\":\"address\"},{\"internalType\":\"uint256\",\"name\":\"deadline\",\"type\":\"uint256\"}],\"name\":\"addLiquidity\",\"outputs\":[{\"internalType\":\"uint256\",\"name\":\"amountA\",\"type\":\"uint256\"},{\"internalType\":\"uint256\",\"name\":\"amountB\",\"type\":\"uint256\"},{\"internalType\":\"uint256\",\"name\":\"liquidity\",\"type\":\"uint256\"}],\"stateMutability\":\"nonpayable\",\"type\":\"function\"},{\"inputs\":[{\"internalType\":\"address\",\"name\":\"token\",\"type\":\"address\"},{\"internalType\":\"uint256\",\"name\":\"amountTokenDesired\",\"type\":\"uint256\"},{\"internalType\":\"uint256\",\"name\":\"amountTokenMin\",\"type\":\"uint256\"},{\"internalType\":\"uint256\",\"name\":\"amountETHMin\",\"type\":\"uint256\"},{\"internalType\":\"address\",\"name\":\"to\",\"type\":\"address\"},{\"internalType\":\"uint256\",\"name\":\"deadline\",\"type\":\"uint256\"}],\"name\":\"addLiquidityETH\",\"outputs\":[{\"internalType\":\"uint256\",\"name\":\"amountToken\",\"type\":\"uint256\"},{\"internalType\":\"uint256\",\"name\":\"amountETH\",\"type\":\"uint256\"},{\"internalType\":\"uint256\",\"name\":\"liquidity\",\"type\":\"uint256\"}],\"stateMutability\":\"payable\",\"type\":\"function\"},{\"inputs\":[],\"name\":\"factory\",\"outputs\":[{\"internalType\":\"address\",\"name\":\"\",\"type\":\"address\"}],\"stateMutability\":\"view\",\"type\":\"function\"},{\"inputs\":[{\"internalType\":\"uint256\",\"name\":\"amountOut\",\"type\":\"uint256\"},{\"internalType\":\"uint256\",\"name\":\"reserveIn\",\"type\":\"uint256\"},{\"internalType\":\"uint256\",\"name\":\"reserveOut\",\"type\":\"uint256\"}],\"name\":\"getAmountIn\",\"outputs\":[{\"internalType\":\"uint256\",\"name\":\"amountIn\",\"type\":\"uint256\"}],\"stateMutability\":\"pure\",\"type\":\"function\"},{\"inputs\":[{\"internalType\":\"uint256\",\"name\":\"amountIn\",\"type\":\"uint256\"},{\"internalType\":\"uint256\",\"name\":\"reserveIn\",\"type\":\"uint256\"},{\"internalType\":\"uint256\",\"name\":\"reserveOut\",\"type\":\"uint256\"}],\"name\":\"getAmountOut\",\"outputs\":[{\"internalType\":\"uint256\",\"name\":\"amountOut\",\"type\":\"uint256\"}],\"stateMutability\":\"pure\",\"type\":\"function\"},{\"inputs\":[{\"internalType\":\"uint256\",\"name\":\"amountOut\",\"type\":\"uint256\"},{\"internalType\":\"address[]\",\"name\":\"path\",\"type\":\"address[]\"}],\"name\":\"getAmountsIn\",\"outputs\":[{\"internalType\":\"uint256[]\",\"name\":\"amounts\",\"type\":\"uint256[]\"}],\"stateMutability\":\"view\",\"type\":\"function\"},{\"inputs\":[{\"internalType\":\"uint256\",\"name\":\"amountIn\",\"type\":\"uint256\"},{\"internalType\":\"address[]\",\"name\":\"path\",\"type\":\"address[]\"}],\"name\":\"getAmountsOut\",\"outputs\":[{\"internalType\":\"uint256[]\",\"name\":\"amounts\",\"type\":\"uint256[]\"}],\"stateMutability\":\"view\",\"type\":\"function\"},{\"inputs\":[{\"internalType\":\"uint256\",\"name\":\"amountA\",\"type\":\"uint256\"},{\"internalType\":\"uint256\",\"name\":\"reserveA\",\"type\":\"uint256\"},{\"internalType\":\"uint256\",\"name\":\"reserveB\",\"type\":\"uint256\"}],\"name\":\"quote\",\"outputs\":[{\"internalType\":\"uint256\",\"name\":\"amountB\",\"type\":\"uint256\"}],\"stateMutability\":\"pure\",\"type\":\"function\"},{\"inputs\":[{\"internalType\":\"address\",\"name\":\"tokenA\",\"type\":\"address\"},{\"internalType\":\"address\",\"name\":\"tokenB\",\"type\":\"address\"},{\"internalType\":\"uint256\",\"name\":\"liquidity\",\"type\":\"uint256\"},{\"internalType\":\"uint256\",\"name\":\"amountAMin\",\"type\":\"uint256\"},{\"internalType\":\"uint256\",\"name\":\"amountBMin\",\"type\":\"uint256\"},{\"internalType\":\"address\",\"name\":\"to\",\"type\":\"address\"},{\"internalType\":\"uint256\",\"name\":\"deadline\",\"type\":\"uint256\"}],\"name\":\"removeLiquidity\",\"outputs\":[{\"internalType\":\"uint256\",\"name\":\"amountA\",\"type\":\"uint256\"},{\"internalType\":\"uint256\",\"name\":\"amountB\",\"type\":\"uint256\"}],\"stateMutability\":\"nonpayable\",\"type\":\"function\"},{\"inputs\":[{\"internalType\":\"address\",\"name\":\"token\",\"type\":\"address\"},{\"internalType\":\"uint256\",\"name\":\"liquidity\",\"type\":\"uint256\"},{\"internalType\":\"uint256\",\"name\":\"amountTokenMin\",\"type\":\"uint256\"},{\"internalType\":\"uint256\",\"name\":\"amountETHMin\",\"type\":\"uint256\"},{\"internalType\":\"address\",\"name\":\"to\",\"type\":\"address\"},{\"internalType\":\"uint256\",\"name\":\"deadline\",\"type\":\"uint256\"}],\"name\":\"removeLiquidityETH\",\"outputs\":[{\"internalType\":\"uint256\",\"name\":\"amountToken\",\"type\":\"uint256\"},{\"internalType\":\"uint256\",\"name\":\"amountETH\",\"type\":\"uint256\"}],\"stateMutability\":\"nonpayable\",\"type\":\"function\"},{\"inputs\":[{\"internalType\":\"address\",\"name\":\"token\",\"type\":\"address\"},{\"internalType\":\"uint256\",\"name\":\"liquidity\",\"type\":\"uint256\"},{\"internalType\":\"uint256\",\"name\":\"amountTokenMin\",\"type\":\"uint256\"},{\"internalType\":\"uint256\",\"name\":\"amountETHMin\",\"type\":\"uint256\"},{\"internalType\":\"address\",\"name\":\"to\",\"type\":\"address\"},{\"internalType\":\"uint256\",\"name\":\"deadline\",\"type\":\"uint256\"}],\"name\":\"removeLiquidityETHSupportingFeeOnTransferTokens\",\"outputs\":[{\"internalType\":\"uint256\",\"name\":\"amountETH\",\"type\":\"uint256\"}],\"stateMutability\":\"nonpayable\",\"type\":\"function\"},{\"inputs\":[{\"internalType\":\"address\",\"name\":\"token\",\"type\":\"address\"},{\"internalType\":\"uint256\",\"name\":\"liquidity\",\"type\":\"uint256\"},{\"internalType\":\"uint256\",\"name\":\"amountTokenMin\",\"type\":\"uint256\"},{\"internalType\":\"uint256\",\"name\":\"amountETHMin\",\"type\":\"uint256\"},{\"internalType\":\"address\",\"name\":\"to\",\"type\":\"address\"},{\"internalType\":\"uint256\",\"name\":\"deadline\",\"type\":\"uint256\"},{\"internalType\":\"bool\",\"name\":\"approveMax\",\"type\":\"bool\"},{\"internalType\":\"uint8\",\"name\":\"v\",\"type\":\"uint8\"},{\"internalType\":\"bytes32\",\"name\":\"r\",\"type\":\"bytes32\"},{\"internalType\":\"bytes32\",\"name\":\"s\",\"type\":\"bytes32\"}],\"name\":\"removeLiquidityETHWithPermit\",\"outputs\":[{\"internalType\":\"uint256\",\"name\":\"amountToken\",\"type\":\"uint256\"},{\"internalType\":\"uint256\",\"name\":\"amountETH\",\"type\":\"uint256\"}],\"stateMutability\":\"nonpayable\",\"type\":\"function\"},{\"inputs\":[{\"internalType\":\"address\",\"name\":\"token\",\"type\":\"address\"},{\"internalType\":\"uint256\",\"name\":\"liquidity\",\"type\":\"uint256\"},{\"internalType\":\"uint256\",\"name\":\"amountTokenMin\",\"type\":\"uint256\"},{\"internalType\":\"uint256\",\"name\":\"amountETHMin\",\"type\":\"uint256\"},{\"internalType\":\"address\",\"name\":\"to\",\"type\":\"address\"},{\"internalType\":\"uint256\",\"name\":\"deadline\",\"type\":\"uint256\"},{\"internalType\":\"bool\",\"name\":\"approveMax\",\"type\":\"bool\"},{\"internalType\":\"uint8\",\"name\":\"v\",\"type\":\"uint8\"},{\"internalType\":\"bytes32\",\"name\":\"r\",\"type\":\"bytes32\"},{\"internalType\":\"bytes32\",\"name\":\"s\",\"type\":\"bytes32\"}],\"name\":\"removeLiquidityETHWithPermitSupportingFeeOnTransferTokens\",\"outputs\":[{\"internalType\":\"uint256\",\"name\":\"amountETH\",\"type\":\"uint256\"}],\"stateMutability\":\"nonpayable\",\"type\":\"function\"},{\"inputs\":[{\"internalType\":\"address\",\"name\":\"tokenA\",\"type\":\"address\"},{\"internalType\":\"address\",\"name\":\"tokenB\",\"type\":\"address\"},{\"internalType\":\"uint256\",\"name\":\"liquidity\",\"type\":\"uint256\"},{\"internalType\":\"uint256\",\"name\":\"amountAMin\",\"type\":\"uint256\"},{\"internalType\":\"uint256\",\"name\":\"amountBMin\",\"type\":\"uint256\"},{\"internalType\":\"address\",\"name\":\"to\",\"type\":\"address\"},{\"internalType\":\"uint256\",\"name\":\"deadline\",\"type\":\"uint256\"},{\"internalType\":\"bool\",\"name\":\"approveMax\",\"type\":\"bool\"},{\"internalType\":\"uint8\",\"name\":\"v\",\"type\":\"uint8\"},{\"internalType\":\"bytes32\",\"name\":\"r\",\"type\":\"bytes32\"},{\"internalType\":\"bytes32\",\"name\":\"s\",\"type\":\"bytes32\"}],\"name\":\"removeLiquidityWithPermit\",\"outputs\":[{\"internalType\":\"uint256\",\"name\":\"amountA\",\"type\":\"uint256\"},{\"internalType\":\"uint256\",\"name\":\"amountB\",\"type\":\"uint256\"}],\"stateMutability\":\"nonpayable\",\"type\":\"function\"},{\"inputs\":[{\"internalType\":\"uint256\",\"name\":\"amountOut\",\"type\":\"uint256\"},{\"internalType\":\"address[]\",\"name\":\"path\",\"type\":\"address[]\"},{\"internalType\":\"address\",\"name\":\"to\",\"type\":\"address\"},{\"internalType\":\"uint256\",\"name\":\"deadline\",\"type\":\"uint256\"}],\"name\":\"swapETHForExactTokens\",\"outputs\":[{\"internalType\":\"uint256[]\",\"name\":\"amounts\",\"type\":\"uint256[]\"}],\"stateMutability\":\"payable\",\"type\":\"function\"},{\"inputs\":[{\"internalType\":\"uint256\",\"name\":\"amountOutMin\",\"type\":\"uint256\"},{\"internalType\":\"address[]\",\"name\":\"path\",\"type\":\"address[]\"},{\"internalType\":\"address\",\"name\":\"to\",\"type\":\"address\"},{\"internalType\":\"uint256\",\"name\":\"deadline\",\"type\":\"uint256\"}],\"name\":\"swapExactETHForTokens\",\"outputs\":[{\"internalType\":\"uint256[]\",\"name\":\"amounts\",\"type\":\"uint256[]\"}],\"stateMutability\":\"payable\",\"type\":\"function\"},{\"inputs\":[{\"internalType\":\"uint256\",\"name\":\"amountOutMin\",\"type\":\"uint256\"},{\"internalType\":\"address[]\",\"name\":\"path\",\"type\":\"address[]\"},{\"internalType\":\"address\",\"name\":\"to\",\"type\":\"address\"},{\"internalType\":\"uint256\",\"name\":\"deadline\",\"type\":\"uint256\"}],\"name\":\"swapExactETHForTokensSupportingFeeOnTransferTokens\",\"outputs\":[],\"stateMutability\":\"payable\",\"type\":\"function\"},{\"inputs\":[{\"internalType\":\"uint256\",\"name\":\"amountIn\",\"type\":\"uint256\"},{\"internalType\":\"uint256\",\"name\":\"amountOutMin\",\"type\":\"uint256\"},{\"internalType\":\"address[]\",\"name\":\"path\",\"type\":\"address[]\"},{\"internalType\":\"address\",\"name\":\"to\",\"type\":\"address\"},{\"internalType\":\"uint256\",\"name\":\"deadline\",\"type\":\"uint256\"}],\"name\":\"swapExactTokensForETH\",\"outputs\":[{\"internalType\":\"uint256[]\",\"name\":\"amounts\",\"type\":\"uint256[]\"}],\"stateMutability\":\"nonpayable\",\"type\":\"function\"},{\"inputs\":[{\"internalType\":\"uint256\",\"name\":\"amountIn\",\"type\":\"uint256\"},{\"internalType\":\"uint256\",\"name\":\"amountOutMin\",\"type\":\"uint256\"},{\"internalType\":\"address[]\",\"name\":\"path\",\"type\":\"address[]\"},{\"internalType\":\"address\",\"name\":\"to\",\"type\":\"address\"},{\"internalType\":\"uint256\",\"name\":\"deadline\",\"type\":\"uint256\"}],\"name\":\"swapExactTokensForETHSupportingFeeOnTransferTokens\",\"outputs\":[],\"stateMutability\":\"nonpayable\",\"type\":\"function\"},{\"inputs\":[{\"internalType\":\"uint256\",\"name\":\"amountIn\",\"type\":\"uint256\"},{\"internalType\":\"uint256\",\"name\":\"amountOutMin\",\"type\":\"uint256\"},{\"internalType\":\"address[]\",\"name\":\"path\",\"type\":\"address[]\"},{\"internalType\":\"address\",\"name\":\"to\",\"type\":\"address\"},{\"internalType\":\"uint256\",\"name\":\"deadline\",\"type\":\"uint256\"}],\"name\":\"swapExactTokensForTokens\",\"outputs\":[{\"internalType\":\"uint256[]\",\"name\":\"amounts\",\"type\":\"uint256[]\"}],\"stateMutability\":\"nonpayable\",\"type\":\"function\"},{\"inputs\":[{\"internalType\":\"uint256\",\"name\":\"amountIn\",\"type\":\"uint256\"},{\"internalType\":\"uint256\",\"name\":\"amountOutMin\",\"type\":\"uint256\"},{\"internalType\":\"address[]\",\"name\":\"path\",\"type\":\"address[]\"},{\"internalType\":\"address\",\"name\":\"to\",\"type\":\"address\"},{\"internalType\":\"uint256\",\"name\":\"deadline\",\"type\":\"uint256\"}],\"name\":\"swapExactTokensForTokensSupportingFeeOnTransferTokens\",\"outputs\":[],\"stateMutability\":\"nonpayable\",\"type\":\"function\"},{\"inputs\":[{\"internalType\":\"uint256\",\"name\":\"amountOut\",\"type\":\"uint256\"},{\"internalType\":\"uint256\",\"name\":\"amountInMax\",\"type\":\"uint256\"},{\"internalType\":\"address[]\",\"name\":\"path\",\"type\":\"address[]\"},{\"internalType\":\"address\",\"name\":\"to\",\"type\":\"address\"},{\"internalType\":\"uint256\",\"name\":\"deadline\",\"type\":\"uint256\"}],\"name\":\"swapTokensForExactETH\",\"outputs\":[{\"internalType\":\"uint256[]\",\"name\":\"amounts\",\"type\":\"uint256[]\"}],\"stateMutability\":\"nonpayable\",\"type\":\"function\"},{\"inputs\":[{\"internalType\":\"uint256\",\"name\":\"amountOut\",\"type\":\"uint256\"},{\"internalType\":\"uint256\",\"name\":\"amountInMax\",\"type\":\"uint256\"},{\"internalType\":\"address[]\",\"name\":\"path\",\"type\":\"address[]\"},{\"internalType\":\"address\",\"name\":\"to\",\"type\":\"address\"},{\"internalType\":\"uint256\",\"name\":\"deadline\",\"type\":\"uint256\"}],\"name\":\"swapTokensForExactTokens\",\"outputs\":[{\"internalType\":\"uint256[]\",\"name\":\"amounts\",\"type\":\"uint256[]\"}],\"stateMutability\":\"nonpayable\",\"type\":\"function\"},{\"stateMutability\":\"payable\",\"type\":\"receive\"}]'\n",
        "\n",
        "    def _prepare_ticker(self, ticker: str) -> (int, list):\n",
        "        symbol0, symbol1 = ticker.split('/')\n",
        "        token0 = symbol_to_token(symbol0)\n",
        "        token1 = symbol_to_token(symbol1)\n",
        "\n",
        "        return token0, token1\n",
        "\n",
        "    def make_market_order(self, ticker: str, side: str, quantity: float, **kwargs) -> dict:\n",
        "        token0, token1 = self._prepare_ticker(ticker)\n",
        "\n",
        "        if side.lower() == 'sell':\n",
        "            path = [token0.address, token1.address]\n",
        "            quantity = quantity * 10**token0.decimals\n",
        "        else:\n",
        "            path = [token1.address, token0.address]\n",
        "            quantity = quantity * 10**token1.decimals\n",
        "\n",
        "        return self._make_transaction(self.contract.functions.swapExactTokensForTokens(quantity, 0,\n",
        "                                                                                       path,\n",
        "                                                                                       self.wallet_address,\n",
        "                                                                                       round(time.time()) + 60 * 20))\n",
        "\n",
        "    def get_price(self, ticker: str, quantity: float, **kwargs) -> float:\n",
        "\n",
        "        token0, token1 = self._prepare_ticker(ticker)\n",
        "        _quantity = quantity * 10**token0.decimals\n",
        "        path = [token0.address, token1.address]\n",
        "        return quantity / self.contract.functions.getAmountsOut(_quantity, path).call()[-1] * 10**token1.decimals\n",
        "\n",
        "\n",
        "class PancakeswapConnector(UniswapV2Connector):\n",
        "\n",
        "        def __init__(self, wallet_address: str, private_key: str, node: str, **kwargs):\n",
        "            super().__init__(wallet_address, private_key, node)\n",
        "            self.w3 = Web3(Web3.HTTPProvider(node))\n",
        "            self.contract = self.w3.eth.contract('0x10ED43C718714eb63d5aA57B78B54704E256024E', abi=self.ABI)\n",
        "\n"
      ]
    },
    {
      "cell_type": "code",
      "execution_count": null,
      "id": "b894a0d2",
      "metadata": {
        "id": "b894a0d2",
        "outputId": "4bed5a56-1564-476f-a5d1-4b6c032dfebe"
      },
      "outputs": [
        {
          "name": "stdout",
          "output_type": "stream",
          "text": [
            "Name: web3\n",
            "Version: 6.11.0\n",
            "Summary: web3.py\n",
            "Home-page: https://github.com/ethereum/web3.py\n",
            "Author: The Ethereum Foundation\n",
            "Author-email: snakecharmers@ethereum.org\n",
            "License: MIT\n",
            "Location: /opt/homebrew/lib/python3.11/site-packages\n",
            "Requires: aiohttp, eth-abi, eth-account, eth-hash, eth-typing, eth-utils, hexbytes, jsonschema, lru-dict, protobuf, pyunormalize, requests, typing-extensions, websockets\n",
            "Required-by: \n"
          ]
        }
      ],
      "source": [
        "!pip3 show web3"
      ]
    },
    {
      "cell_type": "code",
      "execution_count": null,
      "id": "c90e2531",
      "metadata": {
        "id": "c90e2531"
      },
      "outputs": [],
      "source": [
        "# SECRET = ''"
      ]
    },
    {
      "cell_type": "code",
      "execution_count": null,
      "id": "0d0adc74",
      "metadata": {
        "id": "0d0adc74"
      },
      "outputs": [],
      "source": [
        "WALLET = '0xB61fd6F023E4Cb04882433b812b195245deb57E5'\n",
        "BSC_NODE = 'https://rpc.ankr.com/bsc'\n",
        "\n",
        "con = PancakeswapConnector(WALLET, SECRET, BSC_NODE)"
      ]
    },
    {
      "cell_type": "code",
      "execution_count": null,
      "id": "bcfee8d0",
      "metadata": {
        "id": "bcfee8d0"
      },
      "outputs": [],
      "source": [
        "w3 = Web3(Web3.HTTPProvider(BSC_NODE))"
      ]
    },
    {
      "cell_type": "code",
      "execution_count": null,
      "id": "ae5fdfd0",
      "metadata": {
        "id": "ae5fdfd0",
        "outputId": "6feca7dd-c732-451d-d663-c1ba0258dd9f"
      },
      "outputs": [
        {
          "data": {
            "text/plain": [
              "3000000000"
            ]
          },
          "execution_count": 31,
          "metadata": {},
          "output_type": "execute_result"
        }
      ],
      "source": [
        "w3.eth.gas_price"
      ]
    },
    {
      "cell_type": "code",
      "execution_count": null,
      "id": "878d3efc",
      "metadata": {
        "id": "878d3efc"
      },
      "outputs": [],
      "source": [
        "con = PancakeswapConnector(WALLET, SECRET, BSC_NODE)"
      ]
    },
    {
      "cell_type": "code",
      "execution_count": null,
      "id": "3c8f6a54",
      "metadata": {
        "id": "3c8f6a54",
        "outputId": "34f7d72f-61d2-4c13-a12c-e716e2e5ac05"
      },
      "outputs": [
        {
          "data": {
            "text/plain": [
              "1.0007430128068342"
            ]
          },
          "execution_count": 33,
          "metadata": {},
          "output_type": "execute_result"
        }
      ],
      "source": [
        "con.get_price('BUSD/USDT', 1)"
      ]
    },
    {
      "cell_type": "code",
      "execution_count": null,
      "id": "24fcd097",
      "metadata": {
        "id": "24fcd097",
        "outputId": "94bf4a0a-0a50-4526-bf75-fd6601576f7b"
      },
      "outputs": [
        {
          "data": {
            "text/plain": [
              "22.270336680203133"
            ]
          },
          "execution_count": 34,
          "metadata": {},
          "output_type": "execute_result"
        }
      ],
      "source": [
        "con.get_price('BUSD/USDT', 10**8)"
      ]
    },
    {
      "cell_type": "code",
      "execution_count": null,
      "id": "243bb72a",
      "metadata": {
        "id": "243bb72a",
        "outputId": "d9fdaafe-f52b-47ad-8649-71f3a3d3fcfe"
      },
      "outputs": [
        {
          "data": {
            "text/plain": [
              "HexBytes('0xf4d1fa986fa8f10a625d3e89f5ab4e5e9ba326ae11441102c87729d41e272f2c')"
            ]
          },
          "execution_count": 35,
          "metadata": {},
          "output_type": "execute_result"
        }
      ],
      "source": [
        "con.make_market_order(ticker='BUSD/USDT', side='BUY', quantity=1)"
      ]
    }
  ],
  "metadata": {
    "kernelspec": {
      "display_name": "Python 3 (ipykernel)",
      "language": "python",
      "name": "python3"
    },
    "language_info": {
      "codemirror_mode": {
        "name": "ipython",
        "version": 3
      },
      "file_extension": ".py",
      "mimetype": "text/x-python",
      "name": "python",
      "nbconvert_exporter": "python",
      "pygments_lexer": "ipython3",
      "version": "3.11.3"
    },
    "colab": {
      "provenance": []
    }
  },
  "nbformat": 4,
  "nbformat_minor": 5
}